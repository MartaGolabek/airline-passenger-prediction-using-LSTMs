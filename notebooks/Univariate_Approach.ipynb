{
 "cells": [
  {
   "cell_type": "code",
   "execution_count": 61,
   "metadata": {},
   "outputs": [],
   "source": [
    "# standard libraries\n",
    "import pandas as pd\n",
    "import numpy as np\n",
    "import matplotlib.pyplot as plt\n",
    "from sklearn.preprocessing import MinMaxScaler\n",
    "import math\n",
    "import time\n",
    "\n",
    "# create lstm models\n",
    "import tensorflow as tf\n",
    "from tensorflow.keras.models import Sequential\n",
    "from tensorflow.keras.layers import LSTM, Dense, Dropout\n",
    "from tensorflow.keras import metrics\n",
    "from tensorflow.keras.optimizers import Adam\n",
    "from sklearn.metrics import mean_absolute_error, mean_squared_error\n",
    "\n",
    "# hyperparameter tuning\n",
    "from kerastuner.tuners import RandomSearch\n",
    "from tensorflow.keras.callbacks import EarlyStopping, Callback"
   ]
  },
  {
   "cell_type": "markdown",
   "metadata": {},
   "source": [
    "# 1-Load Data"
   ]
  },
  {
   "cell_type": "code",
   "execution_count": 13,
   "metadata": {},
   "outputs": [
    {
     "data": {
      "text/plain": [
       "0      112.0\n",
       "1      118.0\n",
       "2      132.0\n",
       "3      129.0\n",
       "4      121.0\n",
       "       ...  \n",
       "139    606.0\n",
       "140    508.0\n",
       "141    461.0\n",
       "142    390.0\n",
       "143    432.0\n",
       "Name: passenger_number, Length: 144, dtype: float64"
      ]
     },
     "execution_count": 13,
     "metadata": {},
     "output_type": "execute_result"
    }
   ],
   "source": [
    "# load interim data set\n",
    "data_set = pd.read_csv('../data/interim/international-airline-passengers.csv')\n",
    "univariate_data_set = data_set[\"passenger_number\"]\n",
    "univariate_data_set"
   ]
  },
  {
   "cell_type": "code",
   "execution_count": 16,
   "metadata": {},
   "outputs": [
    {
     "data": {
      "text/plain": [
       "array([112., 118., 132., 129., 121., 135., 148., 148., 136., 119., 104.,\n",
       "       118., 115., 126., 141., 135., 125., 149., 170., 170., 158., 133.,\n",
       "       114., 140., 145., 150., 178., 163., 172., 178., 199., 199., 184.,\n",
       "       162., 146., 166., 171., 180., 193., 181., 183., 218., 230., 242.,\n",
       "       209., 191., 172., 194., 196., 196., 236., 235., 229., 243., 264.,\n",
       "       272., 237., 211., 180., 201., 204., 188., 235., 227., 234., 264.,\n",
       "       302., 293., 259., 229., 203., 229., 242., 233., 267., 269., 270.,\n",
       "       315., 364., 347., 312., 274., 237., 278., 284., 277., 317., 313.,\n",
       "       318., 374., 413., 405., 355., 306., 271., 306., 315., 301., 356.,\n",
       "       348., 355., 422., 465., 467., 404., 347., 305., 336., 340., 318.,\n",
       "       362., 348., 363., 435., 491., 505., 404., 359., 310., 337., 360.,\n",
       "       342., 406., 396., 420., 472., 548., 559., 463., 407., 362., 405.,\n",
       "       417., 391., 419., 461., 472., 535., 622., 606., 508., 461., 390.,\n",
       "       432.])"
      ]
     },
     "execution_count": 16,
     "metadata": {},
     "output_type": "execute_result"
    }
   ],
   "source": [
    "univariate_array = univariate_data_set.values\n",
    "univariate_array"
   ]
  },
  {
   "cell_type": "markdown",
   "metadata": {},
   "source": [
    "# 2-Normalize Data"
   ]
  },
  {
   "cell_type": "code",
   "execution_count": 19,
   "metadata": {},
   "outputs": [
    {
     "data": {
      "text/plain": [
       "array([[112.],\n",
       "       [118.],\n",
       "       [132.],\n",
       "       [129.],\n",
       "       [121.],\n",
       "       [135.],\n",
       "       [148.],\n",
       "       [148.],\n",
       "       [136.],\n",
       "       [119.],\n",
       "       [104.],\n",
       "       [118.],\n",
       "       [115.],\n",
       "       [126.],\n",
       "       [141.],\n",
       "       [135.],\n",
       "       [125.],\n",
       "       [149.],\n",
       "       [170.],\n",
       "       [170.],\n",
       "       [158.],\n",
       "       [133.],\n",
       "       [114.],\n",
       "       [140.],\n",
       "       [145.],\n",
       "       [150.],\n",
       "       [178.],\n",
       "       [163.],\n",
       "       [172.],\n",
       "       [178.],\n",
       "       [199.],\n",
       "       [199.],\n",
       "       [184.],\n",
       "       [162.],\n",
       "       [146.],\n",
       "       [166.],\n",
       "       [171.],\n",
       "       [180.],\n",
       "       [193.],\n",
       "       [181.],\n",
       "       [183.],\n",
       "       [218.],\n",
       "       [230.],\n",
       "       [242.],\n",
       "       [209.],\n",
       "       [191.],\n",
       "       [172.],\n",
       "       [194.],\n",
       "       [196.],\n",
       "       [196.],\n",
       "       [236.],\n",
       "       [235.],\n",
       "       [229.],\n",
       "       [243.],\n",
       "       [264.],\n",
       "       [272.],\n",
       "       [237.],\n",
       "       [211.],\n",
       "       [180.],\n",
       "       [201.],\n",
       "       [204.],\n",
       "       [188.],\n",
       "       [235.],\n",
       "       [227.],\n",
       "       [234.],\n",
       "       [264.],\n",
       "       [302.],\n",
       "       [293.],\n",
       "       [259.],\n",
       "       [229.],\n",
       "       [203.],\n",
       "       [229.],\n",
       "       [242.],\n",
       "       [233.],\n",
       "       [267.],\n",
       "       [269.],\n",
       "       [270.],\n",
       "       [315.],\n",
       "       [364.],\n",
       "       [347.],\n",
       "       [312.],\n",
       "       [274.],\n",
       "       [237.],\n",
       "       [278.],\n",
       "       [284.],\n",
       "       [277.],\n",
       "       [317.],\n",
       "       [313.],\n",
       "       [318.],\n",
       "       [374.],\n",
       "       [413.],\n",
       "       [405.],\n",
       "       [355.],\n",
       "       [306.],\n",
       "       [271.],\n",
       "       [306.],\n",
       "       [315.],\n",
       "       [301.],\n",
       "       [356.],\n",
       "       [348.],\n",
       "       [355.],\n",
       "       [422.],\n",
       "       [465.],\n",
       "       [467.],\n",
       "       [404.],\n",
       "       [347.],\n",
       "       [305.],\n",
       "       [336.],\n",
       "       [340.],\n",
       "       [318.],\n",
       "       [362.],\n",
       "       [348.],\n",
       "       [363.],\n",
       "       [435.],\n",
       "       [491.],\n",
       "       [505.],\n",
       "       [404.],\n",
       "       [359.],\n",
       "       [310.],\n",
       "       [337.],\n",
       "       [360.],\n",
       "       [342.],\n",
       "       [406.],\n",
       "       [396.],\n",
       "       [420.],\n",
       "       [472.],\n",
       "       [548.],\n",
       "       [559.],\n",
       "       [463.],\n",
       "       [407.],\n",
       "       [362.],\n",
       "       [405.],\n",
       "       [417.],\n",
       "       [391.],\n",
       "       [419.],\n",
       "       [461.],\n",
       "       [472.],\n",
       "       [535.],\n",
       "       [622.],\n",
       "       [606.],\n",
       "       [508.],\n",
       "       [461.],\n",
       "       [390.],\n",
       "       [432.]])"
      ]
     },
     "execution_count": 19,
     "metadata": {},
     "output_type": "execute_result"
    }
   ],
   "source": [
    "univariate_array_reshaped = univariate_array.reshape(-1, 1)\n",
    "univariate_array_reshaped"
   ]
  },
  {
   "cell_type": "code",
   "execution_count": 20,
   "metadata": {},
   "outputs": [],
   "source": [
    "scaler = MinMaxScaler(feature_range=(0, 1))\n",
    "normalized_univariate_array = scaler.fit_transform(univariate_array_reshaped)"
   ]
  },
  {
   "cell_type": "markdown",
   "metadata": {},
   "source": [
    "# 3-Perform Train (70%), Validation (18%), Test Split (12%)"
   ]
  },
  {
   "cell_type": "code",
   "execution_count": 51,
   "metadata": {},
   "outputs": [
    {
     "name": "stdout",
     "output_type": "stream",
     "text": [
      "Training set: 100, validation set: 25, test set: 19\n"
     ]
    }
   ],
   "source": [
    "train_size = int(len(normalized_univariate_array) * 0.7)\n",
    "validation_size = int(len(normalized_univariate_array) * 0.18)\n",
    "test_size = len(normalized_univariate_array) - train_size - validation_size\n",
    "train_set, validation_set, test_set = normalized_univariate_array[0:train_size,:], normalized_univariate_array[train_size:train_size+validation_size,:], normalized_univariate_array[train_size+validation_size:len(normalized_univariate_array),:]\n",
    "print(f\"Training set: {len(train_set)}, validation set: {len(validation_set)}, test set: {len(test_set)}\")"
   ]
  },
  {
   "cell_type": "markdown",
   "metadata": {},
   "source": [
    "# 4-Create samples using Moving Window Technique"
   ]
  },
  {
   "cell_type": "code",
   "execution_count": 87,
   "metadata": {},
   "outputs": [],
   "source": [
    "# split a univariate sequence into samples\n",
    "def split_sequence(sequence, n_steps_in, n_steps_out):\n",
    "    X, y = list(), list()\n",
    "    for i in range(len(sequence)):\n",
    "        # find the end of this pattern\n",
    "        end_ix = i + n_steps_in\n",
    "        out_end_ix = end_ix + n_steps_out\n",
    "        # check if we are beyond the sequence\n",
    "        if out_end_ix > len(sequence):\n",
    "            break\n",
    "        # gather input and output parts of the pattern\n",
    "        seq_x, seq_y = sequence[i:end_ix], sequence[end_ix:out_end_ix][0]\n",
    "        X.append(seq_x)\n",
    "        y.append(seq_y)\n",
    "    return np.array(X), np.array(y)"
   ]
  },
  {
   "cell_type": "markdown",
   "metadata": {},
   "source": [
    "## Let's set size of the input window width to 12, becuase of the strong yearly seasonality"
   ]
  },
  {
   "cell_type": "code",
   "execution_count": 88,
   "metadata": {},
   "outputs": [
    {
     "name": "stdout",
     "output_type": "stream",
     "text": [
      "Number of training samples: 88, validation samples: 13, test samples: 7\n"
     ]
    }
   ],
   "source": [
    "input_window_size = 12\n",
    "\n",
    "train_samples = split_sequence(train_set, input_window_size, 1)\n",
    "\n",
    "val_samples = split_sequence(validation_set, input_window_size, 1)\n",
    "    \n",
    "test_samples = split_sequence(test_set, input_window_size, 1)\n",
    "\n",
    "print(f\"Number of training samples: {len(train_samples[0])}, validation samples: {len(val_samples[0])}, test samples: {len(test_samples[0])}\")"
   ]
  },
  {
   "cell_type": "code",
   "execution_count": 89,
   "metadata": {},
   "outputs": [
    {
     "data": {
      "text/plain": [
       "(array([[[0.01544402],\n",
       "         [0.02702703],\n",
       "         [0.05405405],\n",
       "         ...,\n",
       "         [0.02895753],\n",
       "         [0.        ],\n",
       "         [0.02702703]],\n",
       " \n",
       "        [[0.02702703],\n",
       "         [0.05405405],\n",
       "         [0.04826255],\n",
       "         ...,\n",
       "         [0.        ],\n",
       "         [0.02702703],\n",
       "         [0.02123552]],\n",
       " \n",
       "        [[0.05405405],\n",
       "         [0.04826255],\n",
       "         [0.03281853],\n",
       "         ...,\n",
       "         [0.02702703],\n",
       "         [0.02123552],\n",
       "         [0.04247104]],\n",
       " \n",
       "        ...,\n",
       " \n",
       "        [[0.33397683],\n",
       "         [0.41119691],\n",
       "         [0.4034749 ],\n",
       "         ...,\n",
       "         [0.32239382],\n",
       "         [0.38996139],\n",
       "         [0.40733591]],\n",
       " \n",
       "        [[0.41119691],\n",
       "         [0.4034749 ],\n",
       "         [0.41312741],\n",
       "         ...,\n",
       "         [0.38996139],\n",
       "         [0.40733591],\n",
       "         [0.38030888]],\n",
       " \n",
       "        [[0.4034749 ],\n",
       "         [0.41312741],\n",
       "         [0.52123552],\n",
       "         ...,\n",
       "         [0.40733591],\n",
       "         [0.38030888],\n",
       "         [0.48648649]]]),\n",
       " array([[0.02123552],\n",
       "        [0.04247104],\n",
       "        [0.07142857],\n",
       "        [0.05984556],\n",
       "        [0.04054054],\n",
       "        [0.08687259],\n",
       "        [0.12741313],\n",
       "        [0.12741313],\n",
       "        [0.1042471 ],\n",
       "        [0.05598456],\n",
       "        [0.01930502],\n",
       "        [0.06949807],\n",
       "        [0.07915058],\n",
       "        [0.08880309],\n",
       "        [0.14285714],\n",
       "        [0.11389961],\n",
       "        [0.13127413],\n",
       "        [0.14285714],\n",
       "        [0.18339768],\n",
       "        [0.18339768],\n",
       "        [0.15444015],\n",
       "        [0.11196911],\n",
       "        [0.08108108],\n",
       "        [0.11969112],\n",
       "        [0.12934363],\n",
       "        [0.14671815],\n",
       "        [0.17181467],\n",
       "        [0.14864865],\n",
       "        [0.15250965],\n",
       "        [0.22007722],\n",
       "        [0.24324324],\n",
       "        [0.26640927],\n",
       "        [0.2027027 ],\n",
       "        [0.16795367],\n",
       "        [0.13127413],\n",
       "        [0.17374517],\n",
       "        [0.17760618],\n",
       "        [0.17760618],\n",
       "        [0.25482625],\n",
       "        [0.25289575],\n",
       "        [0.24131274],\n",
       "        [0.26833977],\n",
       "        [0.30888031],\n",
       "        [0.32432432],\n",
       "        [0.25675676],\n",
       "        [0.20656371],\n",
       "        [0.14671815],\n",
       "        [0.18725869],\n",
       "        [0.19305019],\n",
       "        [0.16216216],\n",
       "        [0.25289575],\n",
       "        [0.23745174],\n",
       "        [0.25096525],\n",
       "        [0.30888031],\n",
       "        [0.38223938],\n",
       "        [0.36486486],\n",
       "        [0.2992278 ],\n",
       "        [0.24131274],\n",
       "        [0.19111969],\n",
       "        [0.24131274],\n",
       "        [0.26640927],\n",
       "        [0.24903475],\n",
       "        [0.31467181],\n",
       "        [0.31853282],\n",
       "        [0.32046332],\n",
       "        [0.40733591],\n",
       "        [0.5019305 ],\n",
       "        [0.46911197],\n",
       "        [0.4015444 ],\n",
       "        [0.32818533],\n",
       "        [0.25675676],\n",
       "        [0.33590734],\n",
       "        [0.34749035],\n",
       "        [0.33397683],\n",
       "        [0.41119691],\n",
       "        [0.4034749 ],\n",
       "        [0.41312741],\n",
       "        [0.52123552],\n",
       "        [0.5965251 ],\n",
       "        [0.58108108],\n",
       "        [0.48455598],\n",
       "        [0.38996139],\n",
       "        [0.32239382],\n",
       "        [0.38996139],\n",
       "        [0.40733591],\n",
       "        [0.38030888],\n",
       "        [0.48648649],\n",
       "        [0.47104247]]))"
      ]
     },
     "execution_count": 89,
     "metadata": {},
     "output_type": "execute_result"
    }
   ],
   "source": [
    "train_samples"
   ]
  },
  {
   "cell_type": "markdown",
   "metadata": {},
   "source": [
    "# 5-Network Architecture"
   ]
  },
  {
   "cell_type": "code",
   "execution_count": 90,
   "metadata": {},
   "outputs": [],
   "source": [
    "def build_model(hp):\n",
    "    model = Sequential()\n",
    "    # input LSTM layer\n",
    "    model.add(LSTM(hp.Int(\"input_units\", min_value=5, max_value=50, step=3),\n",
    "                   activation='relu', input_shape=(input_window_size, 1), name=\"lstm\"))\n",
    "    \n",
    "    # dense hidden layers with dropouts\n",
    "    for i in range(hp.Int(\"n_layers\", 0,2)):\n",
    "        model.add(Dense(hp.Int(f\"dense_{i}_units\", min_value=5, max_value=50, step=3),\n",
    "                        activation='relu', name=f\"hidden_{i}\"))\n",
    "        for j in range(hp.Int(\"dropout_layers\", 0, 1)):\n",
    "            model.add(Dropout(hp.Choice(f\"drop_rate_{j}\", values=[0.1, 0.2, 0.3, 0.4, 0.5, 0.6, 0.7, 0.8, 0.9]), name=f\"dropout_{i}{j}\"))\n",
    "    \n",
    "    # dense output layer\n",
    "    model.add(Dense(1, name=\"output\"))\n",
    "    model.compile(loss='mean_squared_error' , optimizer=Adam(learning_rate=\n",
    "            hp.Choice(\"learning_rate\",values=[1e-2, 1e-3, 1e-4])), metrics=[metrics.mae])\n",
    "    return model"
   ]
  },
  {
   "cell_type": "code",
   "execution_count": 91,
   "metadata": {
    "scrolled": true
   },
   "outputs": [
    {
     "name": "stdout",
     "output_type": "stream",
     "text": [
      "WARNING:tensorflow:Unresolved object in checkpoint: (root).optimizer.iter\n",
      "WARNING:tensorflow:Unresolved object in checkpoint: (root).optimizer.beta_1\n",
      "WARNING:tensorflow:Unresolved object in checkpoint: (root).optimizer.beta_2\n",
      "WARNING:tensorflow:Unresolved object in checkpoint: (root).optimizer.decay\n",
      "WARNING:tensorflow:Unresolved object in checkpoint: (root).optimizer.learning_rate\n",
      "WARNING:tensorflow:A checkpoint was restored (e.g. tf.train.Checkpoint.restore or tf.keras.Model.load_weights) but not all checkpointed values were used. See above for specific issues. Use expect_partial() on the load status object, e.g. tf.train.Checkpoint.restore(...).expect_partial(), to silence these warnings, or use assert_consumed() to make the check explicit. See https://www.tensorflow.org/guide/checkpoint#loading_mechanics for details.\n",
      "Train on 88 samples, validate on 13 samples\n",
      "Epoch 1/100\n",
      "88/88 [==============================] - ETA: 1s - loss: 0.1056 - mean_absolute_error: 0.281 - 1s 10ms/sample - loss: 0.0954 - mean_absolute_error: 0.2702 - val_loss: 0.3698 - val_mean_absolute_error: 0.5980\n",
      "Epoch 2/100\n",
      "88/88 [==============================] - ETA: 0s - loss: 0.0799 - mean_absolute_error: 0.246 - 0s 328us/sample - loss: 0.0816 - mean_absolute_error: 0.2465 - val_loss: 0.3276 - val_mean_absolute_error: 0.5616\n",
      "Epoch 3/100\n",
      "88/88 [==============================] - ETA: 0s - loss: 0.0656 - mean_absolute_error: 0.221 - 0s 354us/sample - loss: 0.0697 - mean_absolute_error: 0.2244 - val_loss: 0.2905 - val_mean_absolute_error: 0.5275\n",
      "Epoch 4/100\n",
      "88/88 [==============================] - ETA: 0s - loss: 0.0835 - mean_absolute_error: 0.245 - 0s 320us/sample - loss: 0.0595 - mean_absolute_error: 0.2026 - val_loss: 0.2550 - val_mean_absolute_error: 0.4926\n",
      "Epoch 5/100\n",
      "88/88 [==============================] - ETA: 0s - loss: 0.0618 - mean_absolute_error: 0.199 - 0s 334us/sample - loss: 0.0492 - mean_absolute_error: 0.1811 - val_loss: 0.2213 - val_mean_absolute_error: 0.4569\n",
      "Epoch 6/100\n",
      "88/88 [==============================] - ETA: 0s - loss: 0.0375 - mean_absolute_error: 0.157 - 0s 340us/sample - loss: 0.0401 - mean_absolute_error: 0.1597 - val_loss: 0.1890 - val_mean_absolute_error: 0.4199\n",
      "Epoch 7/100\n",
      "88/88 [==============================] - ETA: 0s - loss: 0.0425 - mean_absolute_error: 0.165 - 0s 330us/sample - loss: 0.0323 - mean_absolute_error: 0.1393 - val_loss: 0.1577 - val_mean_absolute_error: 0.3806\n",
      "Epoch 8/100\n",
      "88/88 [==============================] - ETA: 0s - loss: 0.0223 - mean_absolute_error: 0.110 - 0s 332us/sample - loss: 0.0245 - mean_absolute_error: 0.1187 - val_loss: 0.1275 - val_mean_absolute_error: 0.3385\n",
      "Epoch 9/100\n",
      "88/88 [==============================] - ETA: 0s - loss: 0.0173 - mean_absolute_error: 0.093 - 0s 335us/sample - loss: 0.0182 - mean_absolute_error: 0.1008 - val_loss: 0.0985 - val_mean_absolute_error: 0.2925\n",
      "Epoch 10/100\n",
      "88/88 [==============================] - ETA: 0s - loss: 0.0148 - mean_absolute_error: 0.091 - 0s 301us/sample - loss: 0.0137 - mean_absolute_error: 0.0883 - val_loss: 0.0720 - val_mean_absolute_error: 0.2432\n",
      "Epoch 11/100\n",
      "88/88 [==============================] - ETA: 0s - loss: 0.0157 - mean_absolute_error: 0.099 - 0s 324us/sample - loss: 0.0108 - mean_absolute_error: 0.0814 - val_loss: 0.0499 - val_mean_absolute_error: 0.1930\n",
      "Epoch 12/100\n",
      "88/88 [==============================] - ETA: 0s - loss: 0.0045 - mean_absolute_error: 0.056 - 0s 346us/sample - loss: 0.0089 - mean_absolute_error: 0.0764 - val_loss: 0.0350 - val_mean_absolute_error: 0.1523\n",
      "Epoch 13/100\n",
      "88/88 [==============================] - ETA: 0s - loss: 0.0067 - mean_absolute_error: 0.069 - 0s 399us/sample - loss: 0.0090 - mean_absolute_error: 0.0782 - val_loss: 0.0266 - val_mean_absolute_error: 0.1258\n",
      "Epoch 14/100\n",
      "88/88 [==============================] - ETA: 0s - loss: 0.0098 - mean_absolute_error: 0.079 - 0s 318us/sample - loss: 0.0094 - mean_absolute_error: 0.0807 - val_loss: 0.0233 - val_mean_absolute_error: 0.1156\n",
      "Epoch 15/100\n",
      "88/88 [==============================] - ETA: 0s - loss: 0.0083 - mean_absolute_error: 0.078 - 0s 254us/sample - loss: 0.0092 - mean_absolute_error: 0.0802 - val_loss: 0.0233 - val_mean_absolute_error: 0.1157\n",
      "Epoch 16/100\n",
      "88/88 [==============================] - ETA: 0s - loss: 0.0087 - mean_absolute_error: 0.074 - 0s 268us/sample - loss: 0.0085 - mean_absolute_error: 0.0768 - val_loss: 0.0247 - val_mean_absolute_error: 0.1197\n",
      "Epoch 17/100\n",
      "88/88 [==============================] - ETA: 0s - loss: 0.0061 - mean_absolute_error: 0.066 - 0s 249us/sample - loss: 0.0080 - mean_absolute_error: 0.0735 - val_loss: 0.0274 - val_mean_absolute_error: 0.1284\n",
      "Epoch 18/100\n",
      "88/88 [==============================] - ETA: 0s - loss: 0.0084 - mean_absolute_error: 0.077 - 0s 264us/sample - loss: 0.0075 - mean_absolute_error: 0.0702 - val_loss: 0.0296 - val_mean_absolute_error: 0.1358\n",
      "Epoch 19/100\n",
      "88/88 [==============================] - ETA: 0s - loss: 0.0088 - mean_absolute_error: 0.076 - 0s 302us/sample - loss: 0.0073 - mean_absolute_error: 0.0682 - val_loss: 0.0312 - val_mean_absolute_error: 0.1410\n",
      "Epoch 20/100\n",
      "88/88 [==============================] - ETA: 0s - loss: 0.0045 - mean_absolute_error: 0.058 - 0s 259us/sample - loss: 0.0071 - mean_absolute_error: 0.0671 - val_loss: 0.0317 - val_mean_absolute_error: 0.1427\n",
      "Train on 88 samples, validate on 13 samples\n",
      "Epoch 1/100\n",
      "88/88 [==============================] - ETA: 1s - loss: 0.0688 - mean_absolute_error: 0.229 - 1s 11ms/sample - loss: 0.0497 - mean_absolute_error: 0.1922 - val_loss: 0.1857 - val_mean_absolute_error: 0.4165\n",
      "Epoch 2/100\n",
      "88/88 [==============================] - ETA: 0s - loss: 0.0413 - mean_absolute_error: 0.167 - 0s 268us/sample - loss: 0.0408 - mean_absolute_error: 0.1708 - val_loss: 0.1579 - val_mean_absolute_error: 0.3814\n",
      "Epoch 3/100\n",
      "88/88 [==============================] - ETA: 0s - loss: 0.0354 - mean_absolute_error: 0.156 - 0s 340us/sample - loss: 0.0328 - mean_absolute_error: 0.1496 - val_loss: 0.1313 - val_mean_absolute_error: 0.3445\n",
      "Epoch 4/100\n",
      "88/88 [==============================] - ETA: 0s - loss: 0.0328 - mean_absolute_error: 0.148 - 0s 299us/sample - loss: 0.0256 - mean_absolute_error: 0.1279 - val_loss: 0.1063 - val_mean_absolute_error: 0.3058\n",
      "Epoch 5/100\n",
      "88/88 [==============================] - ETA: 0s - loss: 0.0281 - mean_absolute_error: 0.134 - 0s 260us/sample - loss: 0.0194 - mean_absolute_error: 0.1067 - val_loss: 0.0827 - val_mean_absolute_error: 0.2641\n",
      "Epoch 6/100\n",
      "88/88 [==============================] - ETA: 0s - loss: 0.0195 - mean_absolute_error: 0.113 - 0s 255us/sample - loss: 0.0139 - mean_absolute_error: 0.0883 - val_loss: 0.0616 - val_mean_absolute_error: 0.2204\n",
      "Epoch 7/100\n",
      "88/88 [==============================] - ETA: 0s - loss: 0.0115 - mean_absolute_error: 0.073 - 0s 252us/sample - loss: 0.0097 - mean_absolute_error: 0.0715 - val_loss: 0.0435 - val_mean_absolute_error: 0.1755\n",
      "Epoch 8/100\n",
      "88/88 [==============================] - ETA: 0s - loss: 0.0082 - mean_absolute_error: 0.067 - 0s 281us/sample - loss: 0.0072 - mean_absolute_error: 0.0648 - val_loss: 0.0295 - val_mean_absolute_error: 0.1359\n",
      "Epoch 9/100\n",
      "88/88 [==============================] - ETA: 0s - loss: 0.0049 - mean_absolute_error: 0.055 - 0s 320us/sample - loss: 0.0062 - mean_absolute_error: 0.0620 - val_loss: 0.0207 - val_mean_absolute_error: 0.1095\n",
      "Epoch 10/100\n",
      "88/88 [==============================] - ETA: 0s - loss: 0.0073 - mean_absolute_error: 0.068 - 0s 349us/sample - loss: 0.0066 - mean_absolute_error: 0.0672 - val_loss: 0.0165 - val_mean_absolute_error: 0.1003\n",
      "Epoch 11/100\n",
      "88/88 [==============================] - ETA: 0s - loss: 0.0058 - mean_absolute_error: 0.063 - 0s 340us/sample - loss: 0.0069 - mean_absolute_error: 0.0707 - val_loss: 0.0155 - val_mean_absolute_error: 0.0983\n",
      "Epoch 12/100\n",
      "88/88 [==============================] - ETA: 0s - loss: 0.0062 - mean_absolute_error: 0.066 - 0s 267us/sample - loss: 0.0069 - mean_absolute_error: 0.0704 - val_loss: 0.0160 - val_mean_absolute_error: 0.0998\n",
      "Epoch 13/100\n",
      "88/88 [==============================] - ETA: 0s - loss: 0.0057 - mean_absolute_error: 0.060 - 0s 250us/sample - loss: 0.0063 - mean_absolute_error: 0.0666 - val_loss: 0.0175 - val_mean_absolute_error: 0.1031\n"
     ]
    },
    {
     "name": "stdout",
     "output_type": "stream",
     "text": [
      "Epoch 14/100\n",
      "88/88 [==============================] - ETA: 0s - loss: 0.0054 - mean_absolute_error: 0.058 - 0s 257us/sample - loss: 0.0057 - mean_absolute_error: 0.0626 - val_loss: 0.0197 - val_mean_absolute_error: 0.1080\n",
      "Epoch 15/100\n",
      "88/88 [==============================] - ETA: 0s - loss: 0.0070 - mean_absolute_error: 0.070 - 0s 241us/sample - loss: 0.0055 - mean_absolute_error: 0.0592 - val_loss: 0.0221 - val_mean_absolute_error: 0.1135\n",
      "Epoch 16/100\n",
      "88/88 [==============================] - ETA: 0s - loss: 0.0066 - mean_absolute_error: 0.067 - 0s 253us/sample - loss: 0.0054 - mean_absolute_error: 0.0573 - val_loss: 0.0236 - val_mean_absolute_error: 0.1166\n",
      "Train on 88 samples, validate on 13 samples\n",
      "Epoch 1/100\n",
      "88/88 [==============================] - ETA: 1s - loss: 0.0872 - mean_absolute_error: 0.267 - 1s 10ms/sample - loss: 0.0744 - mean_absolute_error: 0.2380 - val_loss: 0.2914 - val_mean_absolute_error: 0.5287\n",
      "Epoch 2/100\n",
      "88/88 [==============================] - ETA: 0s - loss: 0.0850 - mean_absolute_error: 0.259 - 0s 248us/sample - loss: 0.0670 - mean_absolute_error: 0.2232 - val_loss: 0.2676 - val_mean_absolute_error: 0.5055\n",
      "Epoch 3/100\n",
      "88/88 [==============================] - ETA: 0s - loss: 0.0607 - mean_absolute_error: 0.211 - 0s 285us/sample - loss: 0.0596 - mean_absolute_error: 0.2087 - val_loss: 0.2441 - val_mean_absolute_error: 0.4817\n",
      "Epoch 4/100\n",
      "88/88 [==============================] - ETA: 0s - loss: 0.0381 - mean_absolute_error: 0.165 - 0s 232us/sample - loss: 0.0526 - mean_absolute_error: 0.1940 - val_loss: 0.2214 - val_mean_absolute_error: 0.4576\n",
      "Epoch 5/100\n",
      "88/88 [==============================] - ETA: 0s - loss: 0.0414 - mean_absolute_error: 0.169 - 0s 226us/sample - loss: 0.0463 - mean_absolute_error: 0.1795 - val_loss: 0.1989 - val_mean_absolute_error: 0.4323\n",
      "Epoch 6/100\n",
      "88/88 [==============================] - ETA: 0s - loss: 0.0524 - mean_absolute_error: 0.199 - 0s 215us/sample - loss: 0.0404 - mean_absolute_error: 0.1648 - val_loss: 0.1760 - val_mean_absolute_error: 0.4048\n",
      "Epoch 7/100\n",
      "88/88 [==============================] - ETA: 0s - loss: 0.0337 - mean_absolute_error: 0.146 - 0s 265us/sample - loss: 0.0342 - mean_absolute_error: 0.1490 - val_loss: 0.1528 - val_mean_absolute_error: 0.3749\n",
      "Epoch 8/100\n",
      "88/88 [==============================] - ETA: 0s - loss: 0.0387 - mean_absolute_error: 0.165 - 0s 228us/sample - loss: 0.0287 - mean_absolute_error: 0.1334 - val_loss: 0.1285 - val_mean_absolute_error: 0.3408\n",
      "Epoch 9/100\n",
      "88/88 [==============================] - ETA: 0s - loss: 0.0321 - mean_absolute_error: 0.136 - 0s 267us/sample - loss: 0.0228 - mean_absolute_error: 0.1155 - val_loss: 0.1039 - val_mean_absolute_error: 0.3024\n",
      "Epoch 10/100\n",
      "88/88 [==============================] - ETA: 0s - loss: 0.0175 - mean_absolute_error: 0.099 - 0s 252us/sample - loss: 0.0174 - mean_absolute_error: 0.0996 - val_loss: 0.0791 - val_mean_absolute_error: 0.2580\n",
      "Epoch 11/100\n",
      "88/88 [==============================] - ETA: 0s - loss: 0.0156 - mean_absolute_error: 0.090 - 0s 257us/sample - loss: 0.0131 - mean_absolute_error: 0.0871 - val_loss: 0.0550 - val_mean_absolute_error: 0.2051\n",
      "Epoch 12/100\n",
      "88/88 [==============================] - ETA: 0s - loss: 0.0101 - mean_absolute_error: 0.076 - 0s 219us/sample - loss: 0.0097 - mean_absolute_error: 0.0777 - val_loss: 0.0342 - val_mean_absolute_error: 0.1489\n",
      "Epoch 13/100\n",
      "88/88 [==============================] - ETA: 0s - loss: 0.0092 - mean_absolute_error: 0.074 - 0s 234us/sample - loss: 0.0084 - mean_absolute_error: 0.0734 - val_loss: 0.0211 - val_mean_absolute_error: 0.1092\n",
      "Epoch 14/100\n",
      "88/88 [==============================] - ETA: 0s - loss: 0.0107 - mean_absolute_error: 0.082 - 0s 300us/sample - loss: 0.0082 - mean_absolute_error: 0.0747 - val_loss: 0.0160 - val_mean_absolute_error: 0.0951\n",
      "Epoch 15/100\n",
      "88/88 [==============================] - ETA: 0s - loss: 0.0079 - mean_absolute_error: 0.075 - 0s 263us/sample - loss: 0.0079 - mean_absolute_error: 0.0746 - val_loss: 0.0158 - val_mean_absolute_error: 0.0955\n",
      "Epoch 16/100\n",
      "88/88 [==============================] - ETA: 0s - loss: 0.0084 - mean_absolute_error: 0.077 - 0s 269us/sample - loss: 0.0071 - mean_absolute_error: 0.0703 - val_loss: 0.0177 - val_mean_absolute_error: 0.1004\n",
      "Epoch 17/100\n",
      "88/88 [==============================] - ETA: 0s - loss: 0.0061 - mean_absolute_error: 0.061 - 0s 261us/sample - loss: 0.0064 - mean_absolute_error: 0.0645 - val_loss: 0.0202 - val_mean_absolute_error: 0.1063\n",
      "Epoch 18/100\n",
      "88/88 [==============================] - ETA: 0s - loss: 0.0032 - mean_absolute_error: 0.045 - 0s 234us/sample - loss: 0.0061 - mean_absolute_error: 0.0611 - val_loss: 0.0210 - val_mean_absolute_error: 0.1089\n",
      "Epoch 19/100\n",
      "88/88 [==============================] - ETA: 0s - loss: 0.0042 - mean_absolute_error: 0.053 - 0s 294us/sample - loss: 0.0059 - mean_absolute_error: 0.0590 - val_loss: 0.0193 - val_mean_absolute_error: 0.1044\n",
      "Epoch 20/100\n",
      "88/88 [==============================] - ETA: 0s - loss: 0.0036 - mean_absolute_error: 0.049 - 0s 266us/sample - loss: 0.0055 - mean_absolute_error: 0.0572 - val_loss: 0.0166 - val_mean_absolute_error: 0.0992\n"
     ]
    },
    {
     "data": {
      "text/html": [
       "<span style=\"color:#4527A0\"><h1 style=\"font-size:18px\">Trial complete</h1></span>"
      ],
      "text/plain": [
       "<IPython.core.display.HTML object>"
      ]
     },
     "metadata": {},
     "output_type": "display_data"
    },
    {
     "data": {
      "text/html": [
       "<span style=\"color:#4527A0\"><h1 style=\"font-size:18px\">Trial summary</h1></span>"
      ],
      "text/plain": [
       "<IPython.core.display.HTML object>"
      ]
     },
     "metadata": {},
     "output_type": "display_data"
    },
    {
     "data": {
      "text/html": [
       "<span style=\"color:cyan\"> |-Trial ID: 0b60149f01f962d3a3b5c66aeb275153</span>"
      ],
      "text/plain": [
       "<IPython.core.display.HTML object>"
      ]
     },
     "metadata": {},
     "output_type": "display_data"
    },
    {
     "data": {
      "text/html": [
       "<span style=\"color:cyan\"> |-Score: 0.10298047214746475</span>"
      ],
      "text/plain": [
       "<IPython.core.display.HTML object>"
      ]
     },
     "metadata": {},
     "output_type": "display_data"
    },
    {
     "data": {
      "text/html": [
       "<span style=\"color:cyan\"> |-Best step: 0</span>"
      ],
      "text/plain": [
       "<IPython.core.display.HTML object>"
      ]
     },
     "metadata": {},
     "output_type": "display_data"
    },
    {
     "data": {
      "text/html": [
       "<span style=\"color:#7E57C2\"><h2 style=\"font-size:16px\">Hyperparameters:</h2></span>"
      ],
      "text/plain": [
       "<IPython.core.display.HTML object>"
      ]
     },
     "metadata": {},
     "output_type": "display_data"
    },
    {
     "data": {
      "text/html": [
       "<span style=\"color:cyan\"> |-input_units: 23</span>"
      ],
      "text/plain": [
       "<IPython.core.display.HTML object>"
      ]
     },
     "metadata": {},
     "output_type": "display_data"
    },
    {
     "data": {
      "text/html": [
       "<span style=\"color:blue\"> |-learning_rate: 0.001</span>"
      ],
      "text/plain": [
       "<IPython.core.display.HTML object>"
      ]
     },
     "metadata": {},
     "output_type": "display_data"
    },
    {
     "data": {
      "text/html": [
       "<span style=\"color:cyan\"> |-n_layers: 0</span>"
      ],
      "text/plain": [
       "<IPython.core.display.HTML object>"
      ]
     },
     "metadata": {},
     "output_type": "display_data"
    },
    {
     "name": "stdout",
     "output_type": "stream",
     "text": [
      "Train on 88 samples, validate on 13 samples\n",
      "Epoch 1/100\n",
      "88/88 [==============================] - ETA: 1s - loss: 0.0709 - mean_absolute_error: 0.242 - 1s 10ms/sample - loss: 0.0739 - mean_absolute_error: 0.2380 - val_loss: 0.3049 - val_mean_absolute_error: 0.5417\n",
      "Epoch 2/100\n",
      "88/88 [==============================] - ETA: 0s - loss: 0.0756 - mean_absolute_error: 0.240 - 0s 346us/sample - loss: 0.0728 - mean_absolute_error: 0.2359 - val_loss: 0.3013 - val_mean_absolute_error: 0.5384\n",
      "Epoch 3/100\n",
      "88/88 [==============================] - ETA: 0s - loss: 0.0846 - mean_absolute_error: 0.252 - 0s 370us/sample - loss: 0.0717 - mean_absolute_error: 0.2338 - val_loss: 0.2978 - val_mean_absolute_error: 0.5351\n",
      "Epoch 4/100\n",
      "88/88 [==============================] - ETA: 0s - loss: 0.0801 - mean_absolute_error: 0.247 - 0s 326us/sample - loss: 0.0706 - mean_absolute_error: 0.2317 - val_loss: 0.2944 - val_mean_absolute_error: 0.5318\n",
      "Epoch 5/100\n",
      "88/88 [==============================] - ETA: 0s - loss: 0.0760 - mean_absolute_error: 0.235 - 0s 323us/sample - loss: 0.0696 - mean_absolute_error: 0.2297 - val_loss: 0.2909 - val_mean_absolute_error: 0.5286\n",
      "Epoch 6/100\n",
      "88/88 [==============================] - ETA: 0s - loss: 0.0786 - mean_absolute_error: 0.236 - 0s 355us/sample - loss: 0.0685 - mean_absolute_error: 0.2276 - val_loss: 0.2876 - val_mean_absolute_error: 0.5254\n",
      "Epoch 7/100\n",
      "88/88 [==============================] - ETA: 0s - loss: 0.0715 - mean_absolute_error: 0.234 - 0s 344us/sample - loss: 0.0675 - mean_absolute_error: 0.2256 - val_loss: 0.2843 - val_mean_absolute_error: 0.5222\n",
      "Epoch 8/100\n",
      "88/88 [==============================] - ETA: 0s - loss: 0.0832 - mean_absolute_error: 0.258 - 0s 336us/sample - loss: 0.0665 - mean_absolute_error: 0.2236 - val_loss: 0.2810 - val_mean_absolute_error: 0.5191\n",
      "Epoch 9/100\n",
      "88/88 [==============================] - ETA: 0s - loss: 0.0693 - mean_absolute_error: 0.227 - 0s 344us/sample - loss: 0.0655 - mean_absolute_error: 0.2216 - val_loss: 0.2778 - val_mean_absolute_error: 0.5160\n",
      "Epoch 10/100\n",
      "88/88 [==============================] - ETA: 0s - loss: 0.0578 - mean_absolute_error: 0.208 - 0s 326us/sample - loss: 0.0645 - mean_absolute_error: 0.2196 - val_loss: 0.2746 - val_mean_absolute_error: 0.5129\n",
      "Epoch 11/100\n",
      "88/88 [==============================] - ETA: 0s - loss: 0.0611 - mean_absolute_error: 0.216 - 0s 323us/sample - loss: 0.0636 - mean_absolute_error: 0.2177 - val_loss: 0.2714 - val_mean_absolute_error: 0.5097\n",
      "Epoch 12/100\n",
      "88/88 [==============================] - ETA: 0s - loss: 0.0467 - mean_absolute_error: 0.183 - 0s 335us/sample - loss: 0.0626 - mean_absolute_error: 0.2157 - val_loss: 0.2683 - val_mean_absolute_error: 0.5067\n",
      "Epoch 13/100\n",
      "88/88 [==============================] - ETA: 0s - loss: 0.0562 - mean_absolute_error: 0.207 - 0s 322us/sample - loss: 0.0617 - mean_absolute_error: 0.2138 - val_loss: 0.2652 - val_mean_absolute_error: 0.5036\n",
      "Epoch 14/100\n",
      "88/88 [==============================] - ETA: 0s - loss: 0.0564 - mean_absolute_error: 0.210 - 0s 319us/sample - loss: 0.0608 - mean_absolute_error: 0.2119 - val_loss: 0.2621 - val_mean_absolute_error: 0.5005\n",
      "Epoch 15/100\n",
      "88/88 [==============================] - ETA: 0s - loss: 0.0662 - mean_absolute_error: 0.220 - 0s 312us/sample - loss: 0.0599 - mean_absolute_error: 0.2101 - val_loss: 0.2591 - val_mean_absolute_error: 0.4974\n",
      "Epoch 16/100\n",
      "88/88 [==============================] - ETA: 0s - loss: 0.0654 - mean_absolute_error: 0.212 - 0s 323us/sample - loss: 0.0590 - mean_absolute_error: 0.2082 - val_loss: 0.2561 - val_mean_absolute_error: 0.4944\n",
      "Epoch 17/100\n",
      "88/88 [==============================] - ETA: 0s - loss: 0.0612 - mean_absolute_error: 0.221 - 0s 336us/sample - loss: 0.0581 - mean_absolute_error: 0.2063 - val_loss: 0.2531 - val_mean_absolute_error: 0.4913\n",
      "Epoch 18/100\n",
      "88/88 [==============================] - ETA: 0s - loss: 0.0505 - mean_absolute_error: 0.186 - 0s 397us/sample - loss: 0.0572 - mean_absolute_error: 0.2044 - val_loss: 0.2501 - val_mean_absolute_error: 0.4883\n",
      "Epoch 19/100\n",
      "88/88 [==============================] - ETA: 0s - loss: 0.0485 - mean_absolute_error: 0.190 - 0s 345us/sample - loss: 0.0563 - mean_absolute_error: 0.2026 - val_loss: 0.2472 - val_mean_absolute_error: 0.4853\n",
      "Epoch 20/100\n",
      "88/88 [==============================] - ETA: 0s - loss: 0.0685 - mean_absolute_error: 0.225 - 0s 361us/sample - loss: 0.0555 - mean_absolute_error: 0.2008 - val_loss: 0.2442 - val_mean_absolute_error: 0.4822\n",
      "Epoch 21/100\n",
      "88/88 [==============================] - ETA: 0s - loss: 0.0472 - mean_absolute_error: 0.175 - 0s 329us/sample - loss: 0.0547 - mean_absolute_error: 0.1990 - val_loss: 0.2414 - val_mean_absolute_error: 0.4792\n",
      "Epoch 22/100\n",
      "88/88 [==============================] - ETA: 0s - loss: 0.0555 - mean_absolute_error: 0.201 - 0s 337us/sample - loss: 0.0538 - mean_absolute_error: 0.1972 - val_loss: 0.2385 - val_mean_absolute_error: 0.4763\n",
      "Epoch 23/100\n",
      "88/88 [==============================] - ETA: 0s - loss: 0.0510 - mean_absolute_error: 0.195 - 0s 361us/sample - loss: 0.0530 - mean_absolute_error: 0.1954 - val_loss: 0.2357 - val_mean_absolute_error: 0.4733\n",
      "Epoch 24/100\n",
      "88/88 [==============================] - ETA: 0s - loss: 0.0458 - mean_absolute_error: 0.176 - 0s 328us/sample - loss: 0.0522 - mean_absolute_error: 0.1936 - val_loss: 0.2329 - val_mean_absolute_error: 0.4703\n",
      "Epoch 25/100\n",
      "88/88 [==============================] - ETA: 0s - loss: 0.0552 - mean_absolute_error: 0.208 - 0s 334us/sample - loss: 0.0514 - mean_absolute_error: 0.1919 - val_loss: 0.2301 - val_mean_absolute_error: 0.4673\n",
      "Epoch 26/100\n",
      "88/88 [==============================] - ETA: 0s - loss: 0.0517 - mean_absolute_error: 0.190 - 0s 379us/sample - loss: 0.0506 - mean_absolute_error: 0.1900 - val_loss: 0.2273 - val_mean_absolute_error: 0.4644\n",
      "Epoch 27/100\n",
      "88/88 [==============================] - ETA: 0s - loss: 0.0663 - mean_absolute_error: 0.227 - 0s 334us/sample - loss: 0.0499 - mean_absolute_error: 0.1883 - val_loss: 0.2246 - val_mean_absolute_error: 0.4614\n",
      "Epoch 28/100\n",
      "88/88 [==============================] - ETA: 0s - loss: 0.0559 - mean_absolute_error: 0.205 - 0s 376us/sample - loss: 0.0491 - mean_absolute_error: 0.1865 - val_loss: 0.2219 - val_mean_absolute_error: 0.4584\n",
      "Epoch 29/100\n",
      "88/88 [==============================] - ETA: 0s - loss: 0.0468 - mean_absolute_error: 0.181 - 0s 356us/sample - loss: 0.0483 - mean_absolute_error: 0.1847 - val_loss: 0.2192 - val_mean_absolute_error: 0.4554\n",
      "Epoch 30/100\n",
      "88/88 [==============================] - ETA: 0s - loss: 0.0478 - mean_absolute_error: 0.187 - 0s 335us/sample - loss: 0.0476 - mean_absolute_error: 0.1829 - val_loss: 0.2165 - val_mean_absolute_error: 0.4525\n",
      "Epoch 31/100\n",
      "88/88 [==============================] - ETA: 0s - loss: 0.0643 - mean_absolute_error: 0.224 - 0s 347us/sample - loss: 0.0469 - mean_absolute_error: 0.1811 - val_loss: 0.2138 - val_mean_absolute_error: 0.4495\n",
      "Epoch 32/100\n",
      "88/88 [==============================] - ETA: 0s - loss: 0.0534 - mean_absolute_error: 0.201 - 0s 371us/sample - loss: 0.0461 - mean_absolute_error: 0.1793 - val_loss: 0.2112 - val_mean_absolute_error: 0.4466\n",
      "Epoch 33/100\n",
      "88/88 [==============================] - ETA: 0s - loss: 0.0353 - mean_absolute_error: 0.164 - 0s 329us/sample - loss: 0.0453 - mean_absolute_error: 0.1775 - val_loss: 0.2086 - val_mean_absolute_error: 0.4436\n",
      "Epoch 34/100\n",
      "88/88 [==============================] - ETA: 0s - loss: 0.0484 - mean_absolute_error: 0.180 - 0s 350us/sample - loss: 0.0446 - mean_absolute_error: 0.1758 - val_loss: 0.2059 - val_mean_absolute_error: 0.4406\n",
      "Epoch 35/100\n",
      "88/88 [==============================] - ETA: 0s - loss: 0.0469 - mean_absolute_error: 0.170 - 0s 344us/sample - loss: 0.0439 - mean_absolute_error: 0.1739 - val_loss: 0.2033 - val_mean_absolute_error: 0.4377\n",
      "Epoch 36/100\n",
      "88/88 [==============================] - ETA: 0s - loss: 0.0393 - mean_absolute_error: 0.162 - 0s 340us/sample - loss: 0.0431 - mean_absolute_error: 0.1721 - val_loss: 0.2007 - val_mean_absolute_error: 0.4346\n",
      "Epoch 37/100\n",
      "88/88 [==============================] - ETA: 0s - loss: 0.0507 - mean_absolute_error: 0.187 - 0s 380us/sample - loss: 0.0424 - mean_absolute_error: 0.1702 - val_loss: 0.1981 - val_mean_absolute_error: 0.4316\n"
     ]
    },
    {
     "name": "stdout",
     "output_type": "stream",
     "text": [
      "Epoch 38/100\n",
      "88/88 [==============================] - ETA: 0s - loss: 0.0372 - mean_absolute_error: 0.162 - 0s 392us/sample - loss: 0.0417 - mean_absolute_error: 0.1684 - val_loss: 0.1955 - val_mean_absolute_error: 0.4286\n",
      "Epoch 39/100\n",
      "88/88 [==============================] - ETA: 0s - loss: 0.0445 - mean_absolute_error: 0.188 - 0s 353us/sample - loss: 0.0409 - mean_absolute_error: 0.1666 - val_loss: 0.1929 - val_mean_absolute_error: 0.4256\n",
      "Epoch 40/100\n",
      "88/88 [==============================] - ETA: 0s - loss: 0.0452 - mean_absolute_error: 0.175 - 0s 331us/sample - loss: 0.0402 - mean_absolute_error: 0.1646 - val_loss: 0.1903 - val_mean_absolute_error: 0.4225\n",
      "Epoch 41/100\n",
      "88/88 [==============================] - ETA: 0s - loss: 0.0290 - mean_absolute_error: 0.136 - 0s 355us/sample - loss: 0.0394 - mean_absolute_error: 0.1626 - val_loss: 0.1877 - val_mean_absolute_error: 0.4194\n",
      "Epoch 42/100\n",
      "88/88 [==============================] - ETA: 0s - loss: 0.0606 - mean_absolute_error: 0.211 - 0s 360us/sample - loss: 0.0387 - mean_absolute_error: 0.1607 - val_loss: 0.1851 - val_mean_absolute_error: 0.4162\n",
      "Epoch 43/100\n",
      "88/88 [==============================] - ETA: 0s - loss: 0.0416 - mean_absolute_error: 0.166 - 0s 348us/sample - loss: 0.0380 - mean_absolute_error: 0.1587 - val_loss: 0.1825 - val_mean_absolute_error: 0.4131\n",
      "Epoch 44/100\n",
      "88/88 [==============================] - ETA: 0s - loss: 0.0295 - mean_absolute_error: 0.136 - 0s 358us/sample - loss: 0.0372 - mean_absolute_error: 0.1566 - val_loss: 0.1800 - val_mean_absolute_error: 0.4100\n",
      "Epoch 45/100\n",
      "88/88 [==============================] - ETA: 0s - loss: 0.0430 - mean_absolute_error: 0.161 - 0s 376us/sample - loss: 0.0364 - mean_absolute_error: 0.1545 - val_loss: 0.1773 - val_mean_absolute_error: 0.4067\n",
      "Epoch 46/100\n",
      "88/88 [==============================] - ETA: 0s - loss: 0.0474 - mean_absolute_error: 0.177 - 0s 362us/sample - loss: 0.0357 - mean_absolute_error: 0.1523 - val_loss: 0.1747 - val_mean_absolute_error: 0.4035\n",
      "Epoch 47/100\n",
      "88/88 [==============================] - ETA: 0s - loss: 0.0297 - mean_absolute_error: 0.144 - 0s 358us/sample - loss: 0.0349 - mean_absolute_error: 0.1502 - val_loss: 0.1720 - val_mean_absolute_error: 0.4002\n",
      "Epoch 48/100\n",
      "88/88 [==============================] - ETA: 0s - loss: 0.0328 - mean_absolute_error: 0.137 - 0s 324us/sample - loss: 0.0341 - mean_absolute_error: 0.1480 - val_loss: 0.1694 - val_mean_absolute_error: 0.3968\n",
      "Epoch 49/100\n",
      "88/88 [==============================] - ETA: 0s - loss: 0.0383 - mean_absolute_error: 0.162 - 0s 336us/sample - loss: 0.0333 - mean_absolute_error: 0.1458 - val_loss: 0.1667 - val_mean_absolute_error: 0.3934\n",
      "Epoch 50/100\n",
      "88/88 [==============================] - ETA: 0s - loss: 0.0249 - mean_absolute_error: 0.129 - 0s 338us/sample - loss: 0.0325 - mean_absolute_error: 0.1434 - val_loss: 0.1640 - val_mean_absolute_error: 0.3899\n",
      "Epoch 51/100\n",
      "88/88 [==============================] - ETA: 0s - loss: 0.0330 - mean_absolute_error: 0.145 - 0s 340us/sample - loss: 0.0317 - mean_absolute_error: 0.1411 - val_loss: 0.1612 - val_mean_absolute_error: 0.3864\n",
      "Epoch 52/100\n",
      "88/88 [==============================] - ETA: 0s - loss: 0.0319 - mean_absolute_error: 0.139 - 0s 348us/sample - loss: 0.0308 - mean_absolute_error: 0.1387 - val_loss: 0.1584 - val_mean_absolute_error: 0.3827\n",
      "Epoch 53/100\n",
      "88/88 [==============================] - ETA: 0s - loss: 0.0271 - mean_absolute_error: 0.133 - 0s 369us/sample - loss: 0.0299 - mean_absolute_error: 0.1360 - val_loss: 0.1555 - val_mean_absolute_error: 0.3789\n",
      "Epoch 54/100\n",
      "88/88 [==============================] - ETA: 0s - loss: 0.0201 - mean_absolute_error: 0.114 - 0s 344us/sample - loss: 0.0290 - mean_absolute_error: 0.1334 - val_loss: 0.1526 - val_mean_absolute_error: 0.3751\n",
      "Epoch 55/100\n",
      "88/88 [==============================] - ETA: 0s - loss: 0.0289 - mean_absolute_error: 0.129 - 0s 365us/sample - loss: 0.0281 - mean_absolute_error: 0.1307 - val_loss: 0.1496 - val_mean_absolute_error: 0.3710\n",
      "Epoch 56/100\n",
      "88/88 [==============================] - ETA: 0s - loss: 0.0365 - mean_absolute_error: 0.152 - 0s 438us/sample - loss: 0.0272 - mean_absolute_error: 0.1279 - val_loss: 0.1463 - val_mean_absolute_error: 0.3666\n",
      "Epoch 57/100\n",
      "88/88 [==============================] - ETA: 0s - loss: 0.0261 - mean_absolute_error: 0.123 - 0s 387us/sample - loss: 0.0262 - mean_absolute_error: 0.1251 - val_loss: 0.1429 - val_mean_absolute_error: 0.3619\n",
      "Epoch 58/100\n",
      "88/88 [==============================] - ETA: 0s - loss: 0.0286 - mean_absolute_error: 0.129 - 0s 399us/sample - loss: 0.0253 - mean_absolute_error: 0.1223 - val_loss: 0.1393 - val_mean_absolute_error: 0.3569\n",
      "Epoch 59/100\n",
      "88/88 [==============================] - ETA: 0s - loss: 0.0319 - mean_absolute_error: 0.143 - 0s 368us/sample - loss: 0.0243 - mean_absolute_error: 0.1192 - val_loss: 0.1356 - val_mean_absolute_error: 0.3516\n",
      "Epoch 60/100\n",
      "88/88 [==============================] - ETA: 0s - loss: 0.0197 - mean_absolute_error: 0.108 - 0s 416us/sample - loss: 0.0233 - mean_absolute_error: 0.1163 - val_loss: 0.1317 - val_mean_absolute_error: 0.3461\n",
      "Epoch 61/100\n",
      "88/88 [==============================] - ETA: 0s - loss: 0.0201 - mean_absolute_error: 0.107 - 0s 364us/sample - loss: 0.0223 - mean_absolute_error: 0.1137 - val_loss: 0.1277 - val_mean_absolute_error: 0.3404\n",
      "Epoch 62/100\n",
      "88/88 [==============================] - ETA: 0s - loss: 0.0165 - mean_absolute_error: 0.096 - 0s 354us/sample - loss: 0.0214 - mean_absolute_error: 0.1107 - val_loss: 0.1237 - val_mean_absolute_error: 0.3344\n",
      "Epoch 63/100\n",
      "88/88 [==============================] - ETA: 0s - loss: 0.0223 - mean_absolute_error: 0.126 - 0s 403us/sample - loss: 0.0205 - mean_absolute_error: 0.1082 - val_loss: 0.1195 - val_mean_absolute_error: 0.3282\n",
      "Epoch 64/100\n",
      "88/88 [==============================] - ETA: 0s - loss: 0.0200 - mean_absolute_error: 0.108 - 0s 363us/sample - loss: 0.0196 - mean_absolute_error: 0.1052 - val_loss: 0.1154 - val_mean_absolute_error: 0.3218\n",
      "Epoch 65/100\n",
      "88/88 [==============================] - ETA: 0s - loss: 0.0198 - mean_absolute_error: 0.107 - 0s 395us/sample - loss: 0.0187 - mean_absolute_error: 0.1023 - val_loss: 0.1112 - val_mean_absolute_error: 0.3154\n",
      "Epoch 66/100\n",
      "88/88 [==============================] - ETA: 0s - loss: 0.0187 - mean_absolute_error: 0.107 - 0s 385us/sample - loss: 0.0178 - mean_absolute_error: 0.0996 - val_loss: 0.1071 - val_mean_absolute_error: 0.3088\n",
      "Epoch 67/100\n",
      "88/88 [==============================] - ETA: 0s - loss: 0.0201 - mean_absolute_error: 0.106 - 0s 372us/sample - loss: 0.0170 - mean_absolute_error: 0.0968 - val_loss: 0.1030 - val_mean_absolute_error: 0.3021\n",
      "Epoch 68/100\n",
      "88/88 [==============================] - ETA: 0s - loss: 0.0084 - mean_absolute_error: 0.067 - 0s 355us/sample - loss: 0.0161 - mean_absolute_error: 0.0944 - val_loss: 0.0989 - val_mean_absolute_error: 0.2953\n",
      "Epoch 69/100\n",
      "88/88 [==============================] - ETA: 0s - loss: 0.0156 - mean_absolute_error: 0.088 - 0s 397us/sample - loss: 0.0154 - mean_absolute_error: 0.0922 - val_loss: 0.0948 - val_mean_absolute_error: 0.2884\n",
      "Epoch 70/100\n",
      "88/88 [==============================] - ETA: 0s - loss: 0.0145 - mean_absolute_error: 0.084 - 0s 387us/sample - loss: 0.0146 - mean_absolute_error: 0.0900 - val_loss: 0.0909 - val_mean_absolute_error: 0.2814\n",
      "Epoch 71/100\n",
      "88/88 [==============================] - ETA: 0s - loss: 0.0104 - mean_absolute_error: 0.073 - 0s 354us/sample - loss: 0.0139 - mean_absolute_error: 0.0879 - val_loss: 0.0869 - val_mean_absolute_error: 0.2744\n",
      "Epoch 72/100\n",
      "88/88 [==============================] - ETA: 0s - loss: 0.0084 - mean_absolute_error: 0.067 - 0s 400us/sample - loss: 0.0132 - mean_absolute_error: 0.0860 - val_loss: 0.0831 - val_mean_absolute_error: 0.2673\n",
      "Epoch 73/100\n",
      "88/88 [==============================] - ETA: 0s - loss: 0.0126 - mean_absolute_error: 0.076 - 0s 342us/sample - loss: 0.0126 - mean_absolute_error: 0.0844 - val_loss: 0.0793 - val_mean_absolute_error: 0.2601\n",
      "Epoch 74/100\n",
      "88/88 [==============================] - ETA: 0s - loss: 0.0122 - mean_absolute_error: 0.083 - 0s 360us/sample - loss: 0.0121 - mean_absolute_error: 0.0830 - val_loss: 0.0756 - val_mean_absolute_error: 0.2529\n"
     ]
    },
    {
     "name": "stdout",
     "output_type": "stream",
     "text": [
      "Epoch 75/100\n",
      "88/88 [==============================] - ETA: 0s - loss: 0.0114 - mean_absolute_error: 0.078 - 0s 411us/sample - loss: 0.0115 - mean_absolute_error: 0.0815 - val_loss: 0.0720 - val_mean_absolute_error: 0.2457\n",
      "Epoch 76/100\n",
      "88/88 [==============================] - ETA: 0s - loss: 0.0071 - mean_absolute_error: 0.068 - 0s 360us/sample - loss: 0.0109 - mean_absolute_error: 0.0799 - val_loss: 0.0686 - val_mean_absolute_error: 0.2387\n",
      "Epoch 77/100\n",
      "88/88 [==============================] - ETA: 0s - loss: 0.0116 - mean_absolute_error: 0.082 - 0s 344us/sample - loss: 0.0105 - mean_absolute_error: 0.0785 - val_loss: 0.0653 - val_mean_absolute_error: 0.2315\n",
      "Epoch 78/100\n",
      "88/88 [==============================] - ETA: 0s - loss: 0.0128 - mean_absolute_error: 0.091 - 0s 364us/sample - loss: 0.0101 - mean_absolute_error: 0.0771 - val_loss: 0.0621 - val_mean_absolute_error: 0.2245\n",
      "Epoch 79/100\n",
      "88/88 [==============================] - ETA: 0s - loss: 0.0119 - mean_absolute_error: 0.089 - 0s 400us/sample - loss: 0.0096 - mean_absolute_error: 0.0757 - val_loss: 0.0592 - val_mean_absolute_error: 0.2178\n",
      "Epoch 80/100\n",
      "88/88 [==============================] - ETA: 0s - loss: 0.0108 - mean_absolute_error: 0.078 - 0s 450us/sample - loss: 0.0092 - mean_absolute_error: 0.0743 - val_loss: 0.0564 - val_mean_absolute_error: 0.2114\n",
      "Epoch 81/100\n",
      "88/88 [==============================] - ETA: 0s - loss: 0.0073 - mean_absolute_error: 0.069 - 0s 418us/sample - loss: 0.0089 - mean_absolute_error: 0.0731 - val_loss: 0.0538 - val_mean_absolute_error: 0.2050\n",
      "Epoch 82/100\n",
      "88/88 [==============================] - ETA: 0s - loss: 0.0083 - mean_absolute_error: 0.071 - 0s 375us/sample - loss: 0.0086 - mean_absolute_error: 0.0720 - val_loss: 0.0512 - val_mean_absolute_error: 0.1987\n",
      "Epoch 83/100\n",
      "88/88 [==============================] - ETA: 0s - loss: 0.0108 - mean_absolute_error: 0.077 - 0s 356us/sample - loss: 0.0083 - mean_absolute_error: 0.0709 - val_loss: 0.0488 - val_mean_absolute_error: 0.1925\n",
      "Epoch 84/100\n",
      "88/88 [==============================] - ETA: 0s - loss: 0.0056 - mean_absolute_error: 0.063 - 0s 353us/sample - loss: 0.0080 - mean_absolute_error: 0.0699 - val_loss: 0.0466 - val_mean_absolute_error: 0.1868\n",
      "Epoch 85/100\n",
      "88/88 [==============================] - ETA: 0s - loss: 0.0062 - mean_absolute_error: 0.057 - 0s 384us/sample - loss: 0.0077 - mean_absolute_error: 0.0689 - val_loss: 0.0446 - val_mean_absolute_error: 0.1813\n",
      "Epoch 86/100\n",
      "88/88 [==============================] - ETA: 0s - loss: 0.0094 - mean_absolute_error: 0.068 - 0s 362us/sample - loss: 0.0075 - mean_absolute_error: 0.0681 - val_loss: 0.0426 - val_mean_absolute_error: 0.1755\n",
      "Epoch 87/100\n",
      "88/88 [==============================] - ETA: 0s - loss: 0.0112 - mean_absolute_error: 0.080 - 0s 372us/sample - loss: 0.0073 - mean_absolute_error: 0.0671 - val_loss: 0.0407 - val_mean_absolute_error: 0.1702\n",
      "Epoch 88/100\n",
      "88/88 [==============================] - ETA: 0s - loss: 0.0108 - mean_absolute_error: 0.081 - 0s 393us/sample - loss: 0.0071 - mean_absolute_error: 0.0663 - val_loss: 0.0390 - val_mean_absolute_error: 0.1652\n",
      "Epoch 89/100\n",
      "88/88 [==============================] - ETA: 0s - loss: 0.0071 - mean_absolute_error: 0.060 - 0s 341us/sample - loss: 0.0069 - mean_absolute_error: 0.0653 - val_loss: 0.0375 - val_mean_absolute_error: 0.1613\n",
      "Epoch 90/100\n",
      "88/88 [==============================] - ETA: 0s - loss: 0.0066 - mean_absolute_error: 0.067 - 0s 346us/sample - loss: 0.0067 - mean_absolute_error: 0.0646 - val_loss: 0.0361 - val_mean_absolute_error: 0.1575\n",
      "Epoch 91/100\n",
      "88/88 [==============================] - ETA: 0s - loss: 0.0076 - mean_absolute_error: 0.066 - 0s 399us/sample - loss: 0.0066 - mean_absolute_error: 0.0636 - val_loss: 0.0348 - val_mean_absolute_error: 0.1541\n",
      "Epoch 92/100\n",
      "88/88 [==============================] - ETA: 0s - loss: 0.0090 - mean_absolute_error: 0.074 - 0s 419us/sample - loss: 0.0064 - mean_absolute_error: 0.0629 - val_loss: 0.0336 - val_mean_absolute_error: 0.1507\n",
      "Epoch 93/100\n",
      "88/88 [==============================] - ETA: 0s - loss: 0.0079 - mean_absolute_error: 0.066 - 0s 351us/sample - loss: 0.0063 - mean_absolute_error: 0.0621 - val_loss: 0.0325 - val_mean_absolute_error: 0.1475\n",
      "Epoch 94/100\n",
      "88/88 [==============================] - ETA: 0s - loss: 0.0068 - mean_absolute_error: 0.061 - 0s 383us/sample - loss: 0.0061 - mean_absolute_error: 0.0613 - val_loss: 0.0314 - val_mean_absolute_error: 0.1444\n",
      "Epoch 95/100\n",
      "88/88 [==============================] - ETA: 0s - loss: 0.0059 - mean_absolute_error: 0.059 - 0s 394us/sample - loss: 0.0060 - mean_absolute_error: 0.0605 - val_loss: 0.0304 - val_mean_absolute_error: 0.1411\n",
      "Epoch 96/100\n",
      "88/88 [==============================] - ETA: 0s - loss: 0.0051 - mean_absolute_error: 0.056 - 0s 355us/sample - loss: 0.0059 - mean_absolute_error: 0.0598 - val_loss: 0.0293 - val_mean_absolute_error: 0.1379\n",
      "Epoch 97/100\n",
      "88/88 [==============================] - ETA: 0s - loss: 0.0043 - mean_absolute_error: 0.050 - 0s 413us/sample - loss: 0.0058 - mean_absolute_error: 0.0592 - val_loss: 0.0283 - val_mean_absolute_error: 0.1347\n",
      "Epoch 98/100\n",
      "88/88 [==============================] - ETA: 0s - loss: 0.0050 - mean_absolute_error: 0.055 - 0s 384us/sample - loss: 0.0056 - mean_absolute_error: 0.0585 - val_loss: 0.0274 - val_mean_absolute_error: 0.1318\n",
      "Epoch 99/100\n",
      "88/88 [==============================] - ETA: 0s - loss: 0.0049 - mean_absolute_error: 0.053 - 0s 348us/sample - loss: 0.0055 - mean_absolute_error: 0.0579 - val_loss: 0.0265 - val_mean_absolute_error: 0.1286\n",
      "Epoch 100/100\n",
      "88/88 [==============================] - ETA: 0s - loss: 0.0036 - mean_absolute_error: 0.051 - 0s 360us/sample - loss: 0.0054 - mean_absolute_error: 0.0572 - val_loss: 0.0257 - val_mean_absolute_error: 0.1258\n",
      "Train on 88 samples, validate on 13 samples\n",
      "Epoch 1/100\n",
      "88/88 [==============================] - ETA: 1s - loss: 0.0733 - mean_absolute_error: 0.237 - 1s 10ms/sample - loss: 0.0727 - mean_absolute_error: 0.2359 - val_loss: 0.2999 - val_mean_absolute_error: 0.5367\n",
      "Epoch 2/100\n",
      "88/88 [==============================] - ETA: 0s - loss: 0.0707 - mean_absolute_error: 0.235 - 0s 273us/sample - loss: 0.0717 - mean_absolute_error: 0.2340 - val_loss: 0.2970 - val_mean_absolute_error: 0.5339\n",
      "Epoch 3/100\n",
      "88/88 [==============================] - ETA: 0s - loss: 0.0721 - mean_absolute_error: 0.232 - 0s 298us/sample - loss: 0.0708 - mean_absolute_error: 0.2321 - val_loss: 0.2940 - val_mean_absolute_error: 0.5311\n",
      "Epoch 4/100\n",
      "88/88 [==============================] - ETA: 0s - loss: 0.0732 - mean_absolute_error: 0.242 - 0s 263us/sample - loss: 0.0698 - mean_absolute_error: 0.2302 - val_loss: 0.2911 - val_mean_absolute_error: 0.5283\n",
      "Epoch 5/100\n",
      "88/88 [==============================] - ETA: 0s - loss: 0.0647 - mean_absolute_error: 0.219 - 0s 290us/sample - loss: 0.0688 - mean_absolute_error: 0.2282 - val_loss: 0.2881 - val_mean_absolute_error: 0.5255\n",
      "Epoch 6/100\n",
      "88/88 [==============================] - ETA: 0s - loss: 0.0630 - mean_absolute_error: 0.215 - 0s 301us/sample - loss: 0.0679 - mean_absolute_error: 0.2263 - val_loss: 0.2852 - val_mean_absolute_error: 0.5227\n",
      "Epoch 7/100\n",
      "88/88 [==============================] - ETA: 0s - loss: 0.0624 - mean_absolute_error: 0.211 - 0s 296us/sample - loss: 0.0670 - mean_absolute_error: 0.2244 - val_loss: 0.2823 - val_mean_absolute_error: 0.5199\n",
      "Epoch 8/100\n",
      "88/88 [==============================] - ETA: 0s - loss: 0.0578 - mean_absolute_error: 0.207 - 0s 286us/sample - loss: 0.0660 - mean_absolute_error: 0.2225 - val_loss: 0.2794 - val_mean_absolute_error: 0.5171\n",
      "Epoch 9/100\n",
      "88/88 [==============================] - ETA: 0s - loss: 0.0718 - mean_absolute_error: 0.222 - 0s 306us/sample - loss: 0.0651 - mean_absolute_error: 0.2205 - val_loss: 0.2765 - val_mean_absolute_error: 0.5143\n",
      "Epoch 10/100\n",
      "88/88 [==============================] - ETA: 0s - loss: 0.0672 - mean_absolute_error: 0.221 - 0s 285us/sample - loss: 0.0642 - mean_absolute_error: 0.2186 - val_loss: 0.2736 - val_mean_absolute_error: 0.5115\n",
      "Epoch 11/100\n",
      "88/88 [==============================] - ETA: 0s - loss: 0.0580 - mean_absolute_error: 0.196 - 0s 271us/sample - loss: 0.0632 - mean_absolute_error: 0.2165 - val_loss: 0.2707 - val_mean_absolute_error: 0.5086\n"
     ]
    },
    {
     "name": "stdout",
     "output_type": "stream",
     "text": [
      "Epoch 12/100\n",
      "88/88 [==============================] - ETA: 0s - loss: 0.0606 - mean_absolute_error: 0.199 - 0s 257us/sample - loss: 0.0622 - mean_absolute_error: 0.2145 - val_loss: 0.2677 - val_mean_absolute_error: 0.5056\n",
      "Epoch 13/100\n",
      "88/88 [==============================] - ETA: 0s - loss: 0.0684 - mean_absolute_error: 0.229 - 0s 282us/sample - loss: 0.0613 - mean_absolute_error: 0.2125 - val_loss: 0.2646 - val_mean_absolute_error: 0.5026\n",
      "Epoch 14/100\n",
      "88/88 [==============================] - ETA: 0s - loss: 0.0621 - mean_absolute_error: 0.216 - 0s 268us/sample - loss: 0.0603 - mean_absolute_error: 0.2104 - val_loss: 0.2615 - val_mean_absolute_error: 0.4995\n",
      "Epoch 15/100\n",
      "88/88 [==============================] - ETA: 0s - loss: 0.0678 - mean_absolute_error: 0.221 - 0s 280us/sample - loss: 0.0593 - mean_absolute_error: 0.2084 - val_loss: 0.2584 - val_mean_absolute_error: 0.4964\n",
      "Epoch 16/100\n",
      "88/88 [==============================] - ETA: 0s - loss: 0.0467 - mean_absolute_error: 0.182 - 0s 278us/sample - loss: 0.0584 - mean_absolute_error: 0.2063 - val_loss: 0.2553 - val_mean_absolute_error: 0.4932\n",
      "Epoch 17/100\n",
      "88/88 [==============================] - ETA: 0s - loss: 0.0658 - mean_absolute_error: 0.215 - 0s 255us/sample - loss: 0.0574 - mean_absolute_error: 0.2042 - val_loss: 0.2522 - val_mean_absolute_error: 0.4901\n",
      "Epoch 18/100\n",
      "88/88 [==============================] - ETA: 0s - loss: 0.0506 - mean_absolute_error: 0.186 - 0s 266us/sample - loss: 0.0564 - mean_absolute_error: 0.2022 - val_loss: 0.2491 - val_mean_absolute_error: 0.4869\n",
      "Epoch 19/100\n",
      "88/88 [==============================] - ETA: 0s - loss: 0.0721 - mean_absolute_error: 0.229 - 0s 244us/sample - loss: 0.0555 - mean_absolute_error: 0.2001 - val_loss: 0.2460 - val_mean_absolute_error: 0.4836\n",
      "Epoch 20/100\n",
      "88/88 [==============================] - ETA: 0s - loss: 0.0412 - mean_absolute_error: 0.178 - 0s 286us/sample - loss: 0.0545 - mean_absolute_error: 0.1980 - val_loss: 0.2429 - val_mean_absolute_error: 0.4804\n",
      "Epoch 21/100\n",
      "88/88 [==============================] - ETA: 0s - loss: 0.0389 - mean_absolute_error: 0.162 - 0s 263us/sample - loss: 0.0536 - mean_absolute_error: 0.1959 - val_loss: 0.2398 - val_mean_absolute_error: 0.4772\n",
      "Epoch 22/100\n",
      "88/88 [==============================] - ETA: 0s - loss: 0.0441 - mean_absolute_error: 0.186 - 0s 250us/sample - loss: 0.0526 - mean_absolute_error: 0.1938 - val_loss: 0.2366 - val_mean_absolute_error: 0.4739\n",
      "Epoch 23/100\n",
      "88/88 [==============================] - ETA: 0s - loss: 0.0423 - mean_absolute_error: 0.170 - 0s 266us/sample - loss: 0.0517 - mean_absolute_error: 0.1916 - val_loss: 0.2335 - val_mean_absolute_error: 0.4705\n",
      "Epoch 24/100\n",
      "88/88 [==============================] - ETA: 0s - loss: 0.0426 - mean_absolute_error: 0.173 - 0s 279us/sample - loss: 0.0507 - mean_absolute_error: 0.1895 - val_loss: 0.2303 - val_mean_absolute_error: 0.4671\n",
      "Epoch 25/100\n",
      "88/88 [==============================] - ETA: 0s - loss: 0.0623 - mean_absolute_error: 0.203 - 0s 265us/sample - loss: 0.0498 - mean_absolute_error: 0.1873 - val_loss: 0.2271 - val_mean_absolute_error: 0.4636\n",
      "Epoch 26/100\n",
      "88/88 [==============================] - ETA: 0s - loss: 0.0498 - mean_absolute_error: 0.181 - 0s 271us/sample - loss: 0.0488 - mean_absolute_error: 0.1850 - val_loss: 0.2239 - val_mean_absolute_error: 0.4601\n",
      "Epoch 27/100\n",
      "88/88 [==============================] - ETA: 0s - loss: 0.0564 - mean_absolute_error: 0.205 - 0s 280us/sample - loss: 0.0479 - mean_absolute_error: 0.1828 - val_loss: 0.2206 - val_mean_absolute_error: 0.4566\n",
      "Epoch 28/100\n",
      "88/88 [==============================] - ETA: 0s - loss: 0.0349 - mean_absolute_error: 0.155 - 0s 250us/sample - loss: 0.0469 - mean_absolute_error: 0.1805 - val_loss: 0.2175 - val_mean_absolute_error: 0.4531\n",
      "Epoch 29/100\n",
      "88/88 [==============================] - ETA: 0s - loss: 0.0373 - mean_absolute_error: 0.155 - 0s 285us/sample - loss: 0.0460 - mean_absolute_error: 0.1784 - val_loss: 0.2143 - val_mean_absolute_error: 0.4495\n",
      "Epoch 30/100\n",
      "88/88 [==============================] - ETA: 0s - loss: 0.0493 - mean_absolute_error: 0.187 - 0s 261us/sample - loss: 0.0451 - mean_absolute_error: 0.1761 - val_loss: 0.2110 - val_mean_absolute_error: 0.4459\n",
      "Epoch 31/100\n",
      "88/88 [==============================] - ETA: 0s - loss: 0.0454 - mean_absolute_error: 0.172 - 0s 259us/sample - loss: 0.0442 - mean_absolute_error: 0.1738 - val_loss: 0.2078 - val_mean_absolute_error: 0.4423\n",
      "Epoch 32/100\n",
      "88/88 [==============================] - ETA: 0s - loss: 0.0301 - mean_absolute_error: 0.136 - 0s 262us/sample - loss: 0.0432 - mean_absolute_error: 0.1715 - val_loss: 0.2046 - val_mean_absolute_error: 0.4387\n",
      "Epoch 33/100\n",
      "88/88 [==============================] - ETA: 0s - loss: 0.0515 - mean_absolute_error: 0.183 - 0s 275us/sample - loss: 0.0423 - mean_absolute_error: 0.1692 - val_loss: 0.2014 - val_mean_absolute_error: 0.4349\n",
      "Epoch 34/100\n",
      "88/88 [==============================] - ETA: 0s - loss: 0.0458 - mean_absolute_error: 0.169 - 0s 294us/sample - loss: 0.0414 - mean_absolute_error: 0.1668 - val_loss: 0.1981 - val_mean_absolute_error: 0.4312\n",
      "Epoch 35/100\n",
      "88/88 [==============================] - ETA: 0s - loss: 0.0499 - mean_absolute_error: 0.179 - 0s 260us/sample - loss: 0.0405 - mean_absolute_error: 0.1644 - val_loss: 0.1949 - val_mean_absolute_error: 0.4274\n",
      "Epoch 36/100\n",
      "88/88 [==============================] - ETA: 0s - loss: 0.0313 - mean_absolute_error: 0.141 - 0s 338us/sample - loss: 0.0395 - mean_absolute_error: 0.1620 - val_loss: 0.1916 - val_mean_absolute_error: 0.4236\n",
      "Epoch 37/100\n",
      "88/88 [==============================] - ETA: 0s - loss: 0.0518 - mean_absolute_error: 0.182 - 0s 293us/sample - loss: 0.0386 - mean_absolute_error: 0.1595 - val_loss: 0.1883 - val_mean_absolute_error: 0.4196\n",
      "Epoch 38/100\n",
      "88/88 [==============================] - ETA: 0s - loss: 0.0325 - mean_absolute_error: 0.152 - 0s 285us/sample - loss: 0.0376 - mean_absolute_error: 0.1570 - val_loss: 0.1850 - val_mean_absolute_error: 0.4157\n",
      "Epoch 39/100\n",
      "88/88 [==============================] - ETA: 0s - loss: 0.0344 - mean_absolute_error: 0.142 - 0s 294us/sample - loss: 0.0367 - mean_absolute_error: 0.1544 - val_loss: 0.1817 - val_mean_absolute_error: 0.4116\n",
      "Epoch 40/100\n",
      "88/88 [==============================] - ETA: 0s - loss: 0.0287 - mean_absolute_error: 0.141 - 0s 292us/sample - loss: 0.0357 - mean_absolute_error: 0.1520 - val_loss: 0.1784 - val_mean_absolute_error: 0.4076\n",
      "Epoch 41/100\n",
      "88/88 [==============================] - ETA: 0s - loss: 0.0293 - mean_absolute_error: 0.140 - 0s 258us/sample - loss: 0.0348 - mean_absolute_error: 0.1494 - val_loss: 0.1751 - val_mean_absolute_error: 0.4034\n",
      "Epoch 42/100\n",
      "88/88 [==============================] - ETA: 0s - loss: 0.0303 - mean_absolute_error: 0.140 - 0s 269us/sample - loss: 0.0338 - mean_absolute_error: 0.1468 - val_loss: 0.1717 - val_mean_absolute_error: 0.3992\n",
      "Epoch 43/100\n",
      "88/88 [==============================] - ETA: 0s - loss: 0.0287 - mean_absolute_error: 0.139 - 0s 298us/sample - loss: 0.0328 - mean_absolute_error: 0.1443 - val_loss: 0.1682 - val_mean_absolute_error: 0.3948\n",
      "Epoch 44/100\n",
      "88/88 [==============================] - ETA: 0s - loss: 0.0337 - mean_absolute_error: 0.152 - 0s 283us/sample - loss: 0.0319 - mean_absolute_error: 0.1416 - val_loss: 0.1647 - val_mean_absolute_error: 0.3903\n",
      "Epoch 45/100\n",
      "88/88 [==============================] - ETA: 0s - loss: 0.0357 - mean_absolute_error: 0.150 - 0s 289us/sample - loss: 0.0309 - mean_absolute_error: 0.1389 - val_loss: 0.1611 - val_mean_absolute_error: 0.3857\n",
      "Epoch 46/100\n",
      "88/88 [==============================] - ETA: 0s - loss: 0.0364 - mean_absolute_error: 0.149 - 0s 308us/sample - loss: 0.0300 - mean_absolute_error: 0.1363 - val_loss: 0.1574 - val_mean_absolute_error: 0.3809\n",
      "Epoch 47/100\n",
      "88/88 [==============================] - ETA: 0s - loss: 0.0289 - mean_absolute_error: 0.129 - 0s 309us/sample - loss: 0.0290 - mean_absolute_error: 0.1335 - val_loss: 0.1538 - val_mean_absolute_error: 0.3760\n",
      "Epoch 48/100\n",
      "88/88 [==============================] - ETA: 0s - loss: 0.0297 - mean_absolute_error: 0.130 - 0s 260us/sample - loss: 0.0280 - mean_absolute_error: 0.1308 - val_loss: 0.1501 - val_mean_absolute_error: 0.3711\n"
     ]
    },
    {
     "name": "stdout",
     "output_type": "stream",
     "text": [
      "Epoch 49/100\n",
      "88/88 [==============================] - ETA: 0s - loss: 0.0217 - mean_absolute_error: 0.107 - 0s 266us/sample - loss: 0.0271 - mean_absolute_error: 0.1280 - val_loss: 0.1464 - val_mean_absolute_error: 0.3660\n",
      "Epoch 50/100\n",
      "88/88 [==============================] - ETA: 0s - loss: 0.0281 - mean_absolute_error: 0.128 - 0s 276us/sample - loss: 0.0262 - mean_absolute_error: 0.1254 - val_loss: 0.1427 - val_mean_absolute_error: 0.3609\n",
      "Epoch 51/100\n",
      "88/88 [==============================] - ETA: 0s - loss: 0.0355 - mean_absolute_error: 0.145 - 0s 275us/sample - loss: 0.0253 - mean_absolute_error: 0.1226 - val_loss: 0.1389 - val_mean_absolute_error: 0.3556\n",
      "Epoch 52/100\n",
      "88/88 [==============================] - ETA: 0s - loss: 0.0252 - mean_absolute_error: 0.128 - 0s 283us/sample - loss: 0.0243 - mean_absolute_error: 0.1199 - val_loss: 0.1351 - val_mean_absolute_error: 0.3503\n",
      "Epoch 53/100\n",
      "88/88 [==============================] - ETA: 0s - loss: 0.0164 - mean_absolute_error: 0.093 - 0s 302us/sample - loss: 0.0234 - mean_absolute_error: 0.1171 - val_loss: 0.1314 - val_mean_absolute_error: 0.3449\n",
      "Epoch 54/100\n",
      "88/88 [==============================] - ETA: 0s - loss: 0.0301 - mean_absolute_error: 0.128 - 0s 346us/sample - loss: 0.0226 - mean_absolute_error: 0.1146 - val_loss: 0.1275 - val_mean_absolute_error: 0.3392\n",
      "Epoch 55/100\n",
      "88/88 [==============================] - ETA: 0s - loss: 0.0244 - mean_absolute_error: 0.127 - 0s 314us/sample - loss: 0.0217 - mean_absolute_error: 0.1121 - val_loss: 0.1237 - val_mean_absolute_error: 0.3336\n",
      "Epoch 56/100\n",
      "88/88 [==============================] - ETA: 0s - loss: 0.0279 - mean_absolute_error: 0.129 - 0s 261us/sample - loss: 0.0209 - mean_absolute_error: 0.1095 - val_loss: 0.1200 - val_mean_absolute_error: 0.3279\n",
      "Epoch 57/100\n",
      "88/88 [==============================] - ETA: 0s - loss: 0.0154 - mean_absolute_error: 0.093 - 0s 306us/sample - loss: 0.0200 - mean_absolute_error: 0.1069 - val_loss: 0.1163 - val_mean_absolute_error: 0.3222\n",
      "Epoch 58/100\n",
      "88/88 [==============================] - ETA: 0s - loss: 0.0155 - mean_absolute_error: 0.093 - 0s 281us/sample - loss: 0.0192 - mean_absolute_error: 0.1045 - val_loss: 0.1126 - val_mean_absolute_error: 0.3164\n",
      "Epoch 59/100\n",
      "88/88 [==============================] - ETA: 0s - loss: 0.0163 - mean_absolute_error: 0.097 - 0s 283us/sample - loss: 0.0185 - mean_absolute_error: 0.1020 - val_loss: 0.1090 - val_mean_absolute_error: 0.3106\n",
      "Epoch 60/100\n",
      "88/88 [==============================] - ETA: 0s - loss: 0.0247 - mean_absolute_error: 0.117 - 0s 292us/sample - loss: 0.0178 - mean_absolute_error: 0.0996 - val_loss: 0.1053 - val_mean_absolute_error: 0.3046\n",
      "Epoch 61/100\n",
      "88/88 [==============================] - ETA: 0s - loss: 0.0191 - mean_absolute_error: 0.105 - 0s 257us/sample - loss: 0.0170 - mean_absolute_error: 0.0972 - val_loss: 0.1017 - val_mean_absolute_error: 0.2986\n",
      "Epoch 62/100\n",
      "88/88 [==============================] - ETA: 0s - loss: 0.0195 - mean_absolute_error: 0.106 - 0s 268us/sample - loss: 0.0163 - mean_absolute_error: 0.0948 - val_loss: 0.0982 - val_mean_absolute_error: 0.2926\n",
      "Epoch 63/100\n",
      "88/88 [==============================] - ETA: 0s - loss: 0.0110 - mean_absolute_error: 0.077 - 0s 279us/sample - loss: 0.0156 - mean_absolute_error: 0.0927 - val_loss: 0.0946 - val_mean_absolute_error: 0.2866\n",
      "Epoch 64/100\n",
      "88/88 [==============================] - ETA: 0s - loss: 0.0222 - mean_absolute_error: 0.116 - 0s 284us/sample - loss: 0.0150 - mean_absolute_error: 0.0910 - val_loss: 0.0910 - val_mean_absolute_error: 0.2802\n",
      "Epoch 65/100\n",
      "88/88 [==============================] - ETA: 0s - loss: 0.0118 - mean_absolute_error: 0.086 - 0s 278us/sample - loss: 0.0143 - mean_absolute_error: 0.0889 - val_loss: 0.0876 - val_mean_absolute_error: 0.2740\n",
      "Epoch 66/100\n",
      "88/88 [==============================] - ETA: 0s - loss: 0.0075 - mean_absolute_error: 0.068 - 0s 272us/sample - loss: 0.0137 - mean_absolute_error: 0.0872 - val_loss: 0.0843 - val_mean_absolute_error: 0.2679\n",
      "Epoch 67/100\n",
      "88/88 [==============================] - ETA: 0s - loss: 0.0124 - mean_absolute_error: 0.087 - 0s 298us/sample - loss: 0.0131 - mean_absolute_error: 0.0858 - val_loss: 0.0809 - val_mean_absolute_error: 0.2617\n",
      "Epoch 68/100\n",
      "88/88 [==============================] - ETA: 0s - loss: 0.0135 - mean_absolute_error: 0.083 - 0s 267us/sample - loss: 0.0126 - mean_absolute_error: 0.0844 - val_loss: 0.0777 - val_mean_absolute_error: 0.2554\n",
      "Epoch 69/100\n",
      "88/88 [==============================] - ETA: 0s - loss: 0.0111 - mean_absolute_error: 0.080 - 0s 290us/sample - loss: 0.0121 - mean_absolute_error: 0.0831 - val_loss: 0.0745 - val_mean_absolute_error: 0.2491\n",
      "Epoch 70/100\n",
      "88/88 [==============================] - ETA: 0s - loss: 0.0155 - mean_absolute_error: 0.091 - 0s 262us/sample - loss: 0.0116 - mean_absolute_error: 0.0817 - val_loss: 0.0714 - val_mean_absolute_error: 0.2429\n",
      "Epoch 71/100\n",
      "88/88 [==============================] - ETA: 0s - loss: 0.0152 - mean_absolute_error: 0.091 - 0s 314us/sample - loss: 0.0111 - mean_absolute_error: 0.0804 - val_loss: 0.0684 - val_mean_absolute_error: 0.2367\n",
      "Epoch 72/100\n",
      "88/88 [==============================] - ETA: 0s - loss: 0.0104 - mean_absolute_error: 0.076 - 0s 278us/sample - loss: 0.0107 - mean_absolute_error: 0.0790 - val_loss: 0.0656 - val_mean_absolute_error: 0.2307\n",
      "Epoch 73/100\n",
      "88/88 [==============================] - ETA: 0s - loss: 0.0086 - mean_absolute_error: 0.068 - 0s 267us/sample - loss: 0.0103 - mean_absolute_error: 0.0780 - val_loss: 0.0627 - val_mean_absolute_error: 0.2245\n",
      "Epoch 74/100\n",
      "88/88 [==============================] - ETA: 0s - loss: 0.0137 - mean_absolute_error: 0.093 - 0s 296us/sample - loss: 0.0099 - mean_absolute_error: 0.0768 - val_loss: 0.0600 - val_mean_absolute_error: 0.2185\n",
      "Epoch 75/100\n",
      "88/88 [==============================] - ETA: 0s - loss: 0.0104 - mean_absolute_error: 0.072 - 0s 302us/sample - loss: 0.0096 - mean_absolute_error: 0.0754 - val_loss: 0.0574 - val_mean_absolute_error: 0.2124\n",
      "Epoch 76/100\n",
      "88/88 [==============================] - ETA: 0s - loss: 0.0044 - mean_absolute_error: 0.057 - 0s 371us/sample - loss: 0.0092 - mean_absolute_error: 0.0742 - val_loss: 0.0550 - val_mean_absolute_error: 0.2068\n",
      "Epoch 77/100\n",
      "88/88 [==============================] - ETA: 0s - loss: 0.0088 - mean_absolute_error: 0.075 - 0s 281us/sample - loss: 0.0089 - mean_absolute_error: 0.0733 - val_loss: 0.0526 - val_mean_absolute_error: 0.2010\n",
      "Epoch 78/100\n",
      "88/88 [==============================] - ETA: 0s - loss: 0.0051 - mean_absolute_error: 0.057 - 0s 312us/sample - loss: 0.0086 - mean_absolute_error: 0.0722 - val_loss: 0.0505 - val_mean_absolute_error: 0.1956\n",
      "Epoch 79/100\n",
      "88/88 [==============================] - ETA: 0s - loss: 0.0068 - mean_absolute_error: 0.064 - 0s 285us/sample - loss: 0.0084 - mean_absolute_error: 0.0713 - val_loss: 0.0484 - val_mean_absolute_error: 0.1901\n",
      "Epoch 80/100\n",
      "88/88 [==============================] - ETA: 0s - loss: 0.0063 - mean_absolute_error: 0.066 - 0s 279us/sample - loss: 0.0081 - mean_absolute_error: 0.0703 - val_loss: 0.0464 - val_mean_absolute_error: 0.1849\n",
      "Epoch 81/100\n",
      "88/88 [==============================] - ETA: 0s - loss: 0.0113 - mean_absolute_error: 0.083 - 0s 266us/sample - loss: 0.0079 - mean_absolute_error: 0.0694 - val_loss: 0.0445 - val_mean_absolute_error: 0.1797\n",
      "Epoch 82/100\n",
      "88/88 [==============================] - ETA: 0s - loss: 0.0094 - mean_absolute_error: 0.073 - 0s 276us/sample - loss: 0.0077 - mean_absolute_error: 0.0686 - val_loss: 0.0427 - val_mean_absolute_error: 0.1747\n",
      "Epoch 83/100\n",
      "88/88 [==============================] - ETA: 0s - loss: 0.0059 - mean_absolute_error: 0.064 - 0s 295us/sample - loss: 0.0074 - mean_absolute_error: 0.0675 - val_loss: 0.0412 - val_mean_absolute_error: 0.1702\n",
      "Epoch 84/100\n",
      "88/88 [==============================] - ETA: 0s - loss: 0.0054 - mean_absolute_error: 0.057 - 0s 260us/sample - loss: 0.0072 - mean_absolute_error: 0.0667 - val_loss: 0.0396 - val_mean_absolute_error: 0.1657\n",
      "Epoch 85/100\n",
      "88/88 [==============================] - ETA: 0s - loss: 0.0086 - mean_absolute_error: 0.072 - 0s 270us/sample - loss: 0.0071 - mean_absolute_error: 0.0658 - val_loss: 0.0381 - val_mean_absolute_error: 0.1618\n"
     ]
    },
    {
     "name": "stdout",
     "output_type": "stream",
     "text": [
      "Epoch 86/100\n",
      "88/88 [==============================] - ETA: 0s - loss: 0.0046 - mean_absolute_error: 0.054 - 0s 264us/sample - loss: 0.0069 - mean_absolute_error: 0.0649 - val_loss: 0.0368 - val_mean_absolute_error: 0.1582\n",
      "Epoch 87/100\n",
      "88/88 [==============================] - ETA: 0s - loss: 0.0060 - mean_absolute_error: 0.064 - 0s 277us/sample - loss: 0.0067 - mean_absolute_error: 0.0641 - val_loss: 0.0355 - val_mean_absolute_error: 0.1548\n",
      "Epoch 88/100\n",
      "88/88 [==============================] - ETA: 0s - loss: 0.0062 - mean_absolute_error: 0.062 - 0s 274us/sample - loss: 0.0065 - mean_absolute_error: 0.0633 - val_loss: 0.0343 - val_mean_absolute_error: 0.1513\n",
      "Epoch 89/100\n",
      "88/88 [==============================] - ETA: 0s - loss: 0.0047 - mean_absolute_error: 0.055 - 0s 253us/sample - loss: 0.0064 - mean_absolute_error: 0.0625 - val_loss: 0.0331 - val_mean_absolute_error: 0.1481\n",
      "Epoch 90/100\n",
      "88/88 [==============================] - ETA: 0s - loss: 0.0063 - mean_absolute_error: 0.057 - 0s 276us/sample - loss: 0.0063 - mean_absolute_error: 0.0617 - val_loss: 0.0319 - val_mean_absolute_error: 0.1445\n",
      "Epoch 91/100\n",
      "88/88 [==============================] - ETA: 0s - loss: 0.0048 - mean_absolute_error: 0.055 - 0s 256us/sample - loss: 0.0061 - mean_absolute_error: 0.0610 - val_loss: 0.0309 - val_mean_absolute_error: 0.1413\n",
      "Epoch 92/100\n",
      "88/88 [==============================] - ETA: 0s - loss: 0.0032 - mean_absolute_error: 0.047 - 0s 278us/sample - loss: 0.0060 - mean_absolute_error: 0.0602 - val_loss: 0.0298 - val_mean_absolute_error: 0.1382\n",
      "Epoch 93/100\n",
      "88/88 [==============================] - ETA: 0s - loss: 0.0058 - mean_absolute_error: 0.057 - 0s 289us/sample - loss: 0.0059 - mean_absolute_error: 0.0594 - val_loss: 0.0288 - val_mean_absolute_error: 0.1348\n",
      "Epoch 94/100\n",
      "88/88 [==============================] - ETA: 0s - loss: 0.0060 - mean_absolute_error: 0.061 - 0s 288us/sample - loss: 0.0057 - mean_absolute_error: 0.0587 - val_loss: 0.0278 - val_mean_absolute_error: 0.1316\n",
      "Epoch 95/100\n",
      "88/88 [==============================] - ETA: 0s - loss: 0.0071 - mean_absolute_error: 0.061 - 0s 267us/sample - loss: 0.0056 - mean_absolute_error: 0.0580 - val_loss: 0.0269 - val_mean_absolute_error: 0.1283\n",
      "Epoch 96/100\n",
      "88/88 [==============================] - ETA: 0s - loss: 0.0058 - mean_absolute_error: 0.061 - 0s 358us/sample - loss: 0.0055 - mean_absolute_error: 0.0573 - val_loss: 0.0260 - val_mean_absolute_error: 0.1254\n",
      "Epoch 97/100\n",
      "88/88 [==============================] - ETA: 0s - loss: 0.0069 - mean_absolute_error: 0.066 - 0s 377us/sample - loss: 0.0054 - mean_absolute_error: 0.0567 - val_loss: 0.0252 - val_mean_absolute_error: 0.1224\n",
      "Epoch 98/100\n",
      "88/88 [==============================] - ETA: 0s - loss: 0.0056 - mean_absolute_error: 0.058 - 0s 353us/sample - loss: 0.0053 - mean_absolute_error: 0.0560 - val_loss: 0.0245 - val_mean_absolute_error: 0.1198\n",
      "Epoch 99/100\n",
      "88/88 [==============================] - ETA: 0s - loss: 0.0039 - mean_absolute_error: 0.049 - 0s 360us/sample - loss: 0.0052 - mean_absolute_error: 0.0553 - val_loss: 0.0239 - val_mean_absolute_error: 0.1179\n",
      "Epoch 100/100\n",
      "88/88 [==============================] - ETA: 0s - loss: 0.0057 - mean_absolute_error: 0.058 - 0s 329us/sample - loss: 0.0051 - mean_absolute_error: 0.0547 - val_loss: 0.0232 - val_mean_absolute_error: 0.1157\n",
      "Train on 88 samples, validate on 13 samples\n",
      "Epoch 1/100\n",
      "88/88 [==============================] - ETA: 1s - loss: 0.0697 - mean_absolute_error: 0.232 - 1s 10ms/sample - loss: 0.0660 - mean_absolute_error: 0.2245 - val_loss: 0.2723 - val_mean_absolute_error: 0.5105\n",
      "Epoch 2/100\n",
      "88/88 [==============================] - ETA: 0s - loss: 0.0738 - mean_absolute_error: 0.244 - 0s 283us/sample - loss: 0.0649 - mean_absolute_error: 0.2222 - val_loss: 0.2688 - val_mean_absolute_error: 0.5071\n",
      "Epoch 3/100\n",
      "88/88 [==============================] - ETA: 0s - loss: 0.0681 - mean_absolute_error: 0.227 - 0s 287us/sample - loss: 0.0638 - mean_absolute_error: 0.2198 - val_loss: 0.2653 - val_mean_absolute_error: 0.5036\n",
      "Epoch 4/100\n",
      "88/88 [==============================] - ETA: 0s - loss: 0.0662 - mean_absolute_error: 0.230 - 0s 240us/sample - loss: 0.0627 - mean_absolute_error: 0.2175 - val_loss: 0.2618 - val_mean_absolute_error: 0.5001\n",
      "Epoch 5/100\n",
      "88/88 [==============================] - ETA: 0s - loss: 0.0701 - mean_absolute_error: 0.233 - 0s 280us/sample - loss: 0.0616 - mean_absolute_error: 0.2152 - val_loss: 0.2583 - val_mean_absolute_error: 0.4966\n",
      "Epoch 6/100\n",
      "88/88 [==============================] - ETA: 0s - loss: 0.0614 - mean_absolute_error: 0.221 - 0s 280us/sample - loss: 0.0605 - mean_absolute_error: 0.2129 - val_loss: 0.2549 - val_mean_absolute_error: 0.4931\n",
      "Epoch 7/100\n",
      "88/88 [==============================] - ETA: 0s - loss: 0.0607 - mean_absolute_error: 0.213 - 0s 301us/sample - loss: 0.0594 - mean_absolute_error: 0.2105 - val_loss: 0.2514 - val_mean_absolute_error: 0.4896\n",
      "Epoch 8/100\n",
      "88/88 [==============================] - ETA: 0s - loss: 0.0459 - mean_absolute_error: 0.181 - 0s 272us/sample - loss: 0.0583 - mean_absolute_error: 0.2082 - val_loss: 0.2480 - val_mean_absolute_error: 0.4860\n",
      "Epoch 9/100\n",
      "88/88 [==============================] - ETA: 0s - loss: 0.0703 - mean_absolute_error: 0.224 - 0s 267us/sample - loss: 0.0573 - mean_absolute_error: 0.2059 - val_loss: 0.2445 - val_mean_absolute_error: 0.4824\n",
      "Epoch 10/100\n",
      "88/88 [==============================] - ETA: 0s - loss: 0.0481 - mean_absolute_error: 0.185 - 0s 265us/sample - loss: 0.0562 - mean_absolute_error: 0.2035 - val_loss: 0.2411 - val_mean_absolute_error: 0.4789\n",
      "Epoch 11/100\n",
      "88/88 [==============================] - ETA: 0s - loss: 0.0468 - mean_absolute_error: 0.188 - 0s 271us/sample - loss: 0.0552 - mean_absolute_error: 0.2011 - val_loss: 0.2377 - val_mean_absolute_error: 0.4752\n",
      "Epoch 12/100\n",
      "88/88 [==============================] - ETA: 0s - loss: 0.0488 - mean_absolute_error: 0.195 - 0s 298us/sample - loss: 0.0541 - mean_absolute_error: 0.1987 - val_loss: 0.2343 - val_mean_absolute_error: 0.4716\n",
      "Epoch 13/100\n",
      "88/88 [==============================] - ETA: 0s - loss: 0.0436 - mean_absolute_error: 0.166 - 0s 294us/sample - loss: 0.0530 - mean_absolute_error: 0.1962 - val_loss: 0.2308 - val_mean_absolute_error: 0.4679\n",
      "Epoch 14/100\n",
      "88/88 [==============================] - ETA: 0s - loss: 0.0710 - mean_absolute_error: 0.233 - 0s 300us/sample - loss: 0.0520 - mean_absolute_error: 0.1938 - val_loss: 0.2273 - val_mean_absolute_error: 0.4641\n",
      "Epoch 15/100\n",
      "88/88 [==============================] - ETA: 0s - loss: 0.0428 - mean_absolute_error: 0.179 - 0s 300us/sample - loss: 0.0509 - mean_absolute_error: 0.1911 - val_loss: 0.2238 - val_mean_absolute_error: 0.4603\n",
      "Epoch 16/100\n",
      "88/88 [==============================] - ETA: 0s - loss: 0.0627 - mean_absolute_error: 0.218 - 0s 270us/sample - loss: 0.0498 - mean_absolute_error: 0.1884 - val_loss: 0.2203 - val_mean_absolute_error: 0.4564\n",
      "Epoch 17/100\n",
      "88/88 [==============================] - ETA: 0s - loss: 0.0634 - mean_absolute_error: 0.216 - 0s 263us/sample - loss: 0.0486 - mean_absolute_error: 0.1856 - val_loss: 0.2167 - val_mean_absolute_error: 0.4525\n",
      "Epoch 18/100\n",
      "88/88 [==============================] - ETA: 0s - loss: 0.0500 - mean_absolute_error: 0.181 - 0s 276us/sample - loss: 0.0474 - mean_absolute_error: 0.1827 - val_loss: 0.2132 - val_mean_absolute_error: 0.4484\n",
      "Epoch 19/100\n",
      "88/88 [==============================] - ETA: 0s - loss: 0.0507 - mean_absolute_error: 0.191 - 0s 272us/sample - loss: 0.0463 - mean_absolute_error: 0.1798 - val_loss: 0.2095 - val_mean_absolute_error: 0.4443\n",
      "Epoch 20/100\n",
      "88/88 [==============================] - ETA: 0s - loss: 0.0459 - mean_absolute_error: 0.177 - 0s 257us/sample - loss: 0.0450 - mean_absolute_error: 0.1766 - val_loss: 0.2057 - val_mean_absolute_error: 0.4399\n",
      "Epoch 21/100\n",
      "88/88 [==============================] - ETA: 0s - loss: 0.0461 - mean_absolute_error: 0.180 - 0s 284us/sample - loss: 0.0437 - mean_absolute_error: 0.1734 - val_loss: 0.2017 - val_mean_absolute_error: 0.4354\n",
      "Epoch 22/100\n",
      "88/88 [==============================] - ETA: 0s - loss: 0.0403 - mean_absolute_error: 0.170 - 0s 276us/sample - loss: 0.0424 - mean_absolute_error: 0.1700 - val_loss: 0.1975 - val_mean_absolute_error: 0.4306\n"
     ]
    },
    {
     "name": "stdout",
     "output_type": "stream",
     "text": [
      "Epoch 23/100\n",
      "88/88 [==============================] - ETA: 0s - loss: 0.0337 - mean_absolute_error: 0.146 - 0s 281us/sample - loss: 0.0411 - mean_absolute_error: 0.1667 - val_loss: 0.1932 - val_mean_absolute_error: 0.4255\n",
      "Epoch 24/100\n",
      "88/88 [==============================] - ETA: 0s - loss: 0.0374 - mean_absolute_error: 0.157 - 0s 242us/sample - loss: 0.0397 - mean_absolute_error: 0.1632 - val_loss: 0.1887 - val_mean_absolute_error: 0.4202\n",
      "Epoch 25/100\n",
      "88/88 [==============================] - ETA: 0s - loss: 0.0358 - mean_absolute_error: 0.152 - 0s 262us/sample - loss: 0.0384 - mean_absolute_error: 0.1597 - val_loss: 0.1841 - val_mean_absolute_error: 0.4147\n",
      "Epoch 26/100\n",
      "88/88 [==============================] - ETA: 0s - loss: 0.0349 - mean_absolute_error: 0.152 - 0s 255us/sample - loss: 0.0370 - mean_absolute_error: 0.1561 - val_loss: 0.1795 - val_mean_absolute_error: 0.4090\n",
      "Epoch 27/100\n",
      "88/88 [==============================] - ETA: 0s - loss: 0.0446 - mean_absolute_error: 0.179 - 0s 269us/sample - loss: 0.0357 - mean_absolute_error: 0.1525 - val_loss: 0.1748 - val_mean_absolute_error: 0.4032\n",
      "Epoch 28/100\n",
      "88/88 [==============================] - ETA: 0s - loss: 0.0324 - mean_absolute_error: 0.145 - 0s 256us/sample - loss: 0.0343 - mean_absolute_error: 0.1490 - val_loss: 0.1700 - val_mean_absolute_error: 0.3973\n",
      "Epoch 29/100\n",
      "88/88 [==============================] - ETA: 0s - loss: 0.0241 - mean_absolute_error: 0.124 - 0s 301us/sample - loss: 0.0329 - mean_absolute_error: 0.1452 - val_loss: 0.1653 - val_mean_absolute_error: 0.3914\n",
      "Epoch 30/100\n",
      "88/88 [==============================] - ETA: 0s - loss: 0.0280 - mean_absolute_error: 0.131 - 0s 292us/sample - loss: 0.0316 - mean_absolute_error: 0.1415 - val_loss: 0.1605 - val_mean_absolute_error: 0.3852\n",
      "Epoch 31/100\n",
      "88/88 [==============================] - ETA: 0s - loss: 0.0293 - mean_absolute_error: 0.130 - 0s 260us/sample - loss: 0.0303 - mean_absolute_error: 0.1379 - val_loss: 0.1556 - val_mean_absolute_error: 0.3787\n",
      "Epoch 32/100\n",
      "88/88 [==============================] - ETA: 0s - loss: 0.0302 - mean_absolute_error: 0.141 - 0s 247us/sample - loss: 0.0291 - mean_absolute_error: 0.1342 - val_loss: 0.1507 - val_mean_absolute_error: 0.3722\n",
      "Epoch 33/100\n",
      "88/88 [==============================] - ETA: 0s - loss: 0.0253 - mean_absolute_error: 0.129 - 0s 268us/sample - loss: 0.0277 - mean_absolute_error: 0.1304 - val_loss: 0.1458 - val_mean_absolute_error: 0.3655\n",
      "Epoch 34/100\n",
      "88/88 [==============================] - ETA: 0s - loss: 0.0246 - mean_absolute_error: 0.123 - 0s 268us/sample - loss: 0.0264 - mean_absolute_error: 0.1267 - val_loss: 0.1408 - val_mean_absolute_error: 0.3587\n",
      "Epoch 35/100\n",
      "88/88 [==============================] - ETA: 0s - loss: 0.0265 - mean_absolute_error: 0.119 - 0s 275us/sample - loss: 0.0252 - mean_absolute_error: 0.1229 - val_loss: 0.1359 - val_mean_absolute_error: 0.3517\n",
      "Epoch 36/100\n",
      "88/88 [==============================] - ETA: 0s - loss: 0.0306 - mean_absolute_error: 0.127 - 0s 278us/sample - loss: 0.0240 - mean_absolute_error: 0.1191 - val_loss: 0.1309 - val_mean_absolute_error: 0.3445\n",
      "Epoch 37/100\n",
      "88/88 [==============================] - ETA: 0s - loss: 0.0262 - mean_absolute_error: 0.128 - 0s 247us/sample - loss: 0.0228 - mean_absolute_error: 0.1155 - val_loss: 0.1260 - val_mean_absolute_error: 0.3372\n",
      "Epoch 38/100\n",
      "88/88 [==============================] - ETA: 0s - loss: 0.0246 - mean_absolute_error: 0.120 - 0s 250us/sample - loss: 0.0216 - mean_absolute_error: 0.1121 - val_loss: 0.1211 - val_mean_absolute_error: 0.3299\n",
      "Epoch 39/100\n",
      "88/88 [==============================] - ETA: 0s - loss: 0.0165 - mean_absolute_error: 0.094 - 0s 256us/sample - loss: 0.0205 - mean_absolute_error: 0.1084 - val_loss: 0.1162 - val_mean_absolute_error: 0.3224\n",
      "Epoch 40/100\n",
      "88/88 [==============================] - ETA: 0s - loss: 0.0216 - mean_absolute_error: 0.111 - 0s 255us/sample - loss: 0.0194 - mean_absolute_error: 0.1051 - val_loss: 0.1114 - val_mean_absolute_error: 0.3148\n",
      "Epoch 41/100\n",
      "88/88 [==============================] - ETA: 0s - loss: 0.0160 - mean_absolute_error: 0.093 - 0s 274us/sample - loss: 0.0183 - mean_absolute_error: 0.1015 - val_loss: 0.1066 - val_mean_absolute_error: 0.3070\n",
      "Epoch 42/100\n",
      "88/88 [==============================] - ETA: 0s - loss: 0.0197 - mean_absolute_error: 0.103 - 0s 249us/sample - loss: 0.0173 - mean_absolute_error: 0.0983 - val_loss: 0.1018 - val_mean_absolute_error: 0.2991\n",
      "Epoch 43/100\n",
      "88/88 [==============================] - ETA: 0s - loss: 0.0140 - mean_absolute_error: 0.089 - 0s 272us/sample - loss: 0.0163 - mean_absolute_error: 0.0950 - val_loss: 0.0971 - val_mean_absolute_error: 0.2912\n",
      "Epoch 44/100\n",
      "88/88 [==============================] - ETA: 0s - loss: 0.0168 - mean_absolute_error: 0.097 - 0s 280us/sample - loss: 0.0154 - mean_absolute_error: 0.0916 - val_loss: 0.0925 - val_mean_absolute_error: 0.2832\n",
      "Epoch 45/100\n",
      "88/88 [==============================] - ETA: 0s - loss: 0.0121 - mean_absolute_error: 0.082 - 0s 270us/sample - loss: 0.0145 - mean_absolute_error: 0.0890 - val_loss: 0.0879 - val_mean_absolute_error: 0.2751\n",
      "Epoch 46/100\n",
      "88/88 [==============================] - ETA: 0s - loss: 0.0133 - mean_absolute_error: 0.086 - 0s 304us/sample - loss: 0.0136 - mean_absolute_error: 0.0862 - val_loss: 0.0836 - val_mean_absolute_error: 0.2670\n",
      "Epoch 47/100\n",
      "88/88 [==============================] - ETA: 0s - loss: 0.0123 - mean_absolute_error: 0.084 - 0s 284us/sample - loss: 0.0129 - mean_absolute_error: 0.0842 - val_loss: 0.0792 - val_mean_absolute_error: 0.2588\n",
      "Epoch 48/100\n",
      "88/88 [==============================] - ETA: 0s - loss: 0.0188 - mean_absolute_error: 0.104 - 0s 269us/sample - loss: 0.0122 - mean_absolute_error: 0.0823 - val_loss: 0.0750 - val_mean_absolute_error: 0.2505\n",
      "Epoch 49/100\n",
      "88/88 [==============================] - ETA: 0s - loss: 0.0128 - mean_absolute_error: 0.083 - 0s 283us/sample - loss: 0.0115 - mean_absolute_error: 0.0803 - val_loss: 0.0710 - val_mean_absolute_error: 0.2424\n",
      "Epoch 50/100\n",
      "88/88 [==============================] - ETA: 0s - loss: 0.0091 - mean_absolute_error: 0.066 - 0s 263us/sample - loss: 0.0108 - mean_absolute_error: 0.0781 - val_loss: 0.0673 - val_mean_absolute_error: 0.2346\n",
      "Epoch 51/100\n",
      "88/88 [==============================] - ETA: 0s - loss: 0.0122 - mean_absolute_error: 0.087 - 0s 288us/sample - loss: 0.0103 - mean_absolute_error: 0.0768 - val_loss: 0.0636 - val_mean_absolute_error: 0.2267\n",
      "Epoch 52/100\n",
      "88/88 [==============================] - ETA: 0s - loss: 0.0152 - mean_absolute_error: 0.097 - 0s 337us/sample - loss: 0.0098 - mean_absolute_error: 0.0752 - val_loss: 0.0601 - val_mean_absolute_error: 0.2188\n",
      "Epoch 53/100\n",
      "88/88 [==============================] - ETA: 0s - loss: 0.0123 - mean_absolute_error: 0.083 - 0s 296us/sample - loss: 0.0093 - mean_absolute_error: 0.0736 - val_loss: 0.0569 - val_mean_absolute_error: 0.2113\n",
      "Epoch 54/100\n",
      "88/88 [==============================] - ETA: 0s - loss: 0.0076 - mean_absolute_error: 0.066 - 0s 281us/sample - loss: 0.0088 - mean_absolute_error: 0.0721 - val_loss: 0.0539 - val_mean_absolute_error: 0.2041\n",
      "Epoch 55/100\n",
      "88/88 [==============================] - ETA: 0s - loss: 0.0076 - mean_absolute_error: 0.066 - 0s 260us/sample - loss: 0.0085 - mean_absolute_error: 0.0711 - val_loss: 0.0510 - val_mean_absolute_error: 0.1971\n",
      "Epoch 56/100\n",
      "88/88 [==============================] - ETA: 0s - loss: 0.0064 - mean_absolute_error: 0.059 - 0s 268us/sample - loss: 0.0082 - mean_absolute_error: 0.0699 - val_loss: 0.0484 - val_mean_absolute_error: 0.1902\n",
      "Epoch 57/100\n",
      "88/88 [==============================] - ETA: 0s - loss: 0.0043 - mean_absolute_error: 0.055 - 0s 279us/sample - loss: 0.0078 - mean_absolute_error: 0.0689 - val_loss: 0.0460 - val_mean_absolute_error: 0.1838\n",
      "Epoch 58/100\n",
      "88/88 [==============================] - ETA: 0s - loss: 0.0084 - mean_absolute_error: 0.073 - 0s 273us/sample - loss: 0.0076 - mean_absolute_error: 0.0681 - val_loss: 0.0436 - val_mean_absolute_error: 0.1773\n",
      "Epoch 59/100\n",
      "88/88 [==============================] - ETA: 0s - loss: 0.0069 - mean_absolute_error: 0.064 - 0s 279us/sample - loss: 0.0074 - mean_absolute_error: 0.0672 - val_loss: 0.0415 - val_mean_absolute_error: 0.1713\n"
     ]
    },
    {
     "name": "stdout",
     "output_type": "stream",
     "text": [
      "Epoch 60/100\n",
      "88/88 [==============================] - ETA: 0s - loss: 0.0062 - mean_absolute_error: 0.059 - 0s 273us/sample - loss: 0.0071 - mean_absolute_error: 0.0663 - val_loss: 0.0397 - val_mean_absolute_error: 0.1663\n",
      "Epoch 61/100\n",
      "88/88 [==============================] - ETA: 0s - loss: 0.0090 - mean_absolute_error: 0.070 - 0s 286us/sample - loss: 0.0070 - mean_absolute_error: 0.0656 - val_loss: 0.0379 - val_mean_absolute_error: 0.1617\n",
      "Epoch 62/100\n",
      "88/88 [==============================] - ETA: 0s - loss: 0.0086 - mean_absolute_error: 0.068 - 0s 273us/sample - loss: 0.0068 - mean_absolute_error: 0.0648 - val_loss: 0.0363 - val_mean_absolute_error: 0.1575\n",
      "Epoch 63/100\n",
      "88/88 [==============================] - ETA: 0s - loss: 0.0042 - mean_absolute_error: 0.053 - 0s 263us/sample - loss: 0.0066 - mean_absolute_error: 0.0640 - val_loss: 0.0349 - val_mean_absolute_error: 0.1537\n",
      "Epoch 64/100\n",
      "88/88 [==============================] - ETA: 0s - loss: 0.0082 - mean_absolute_error: 0.071 - 0s 320us/sample - loss: 0.0065 - mean_absolute_error: 0.0632 - val_loss: 0.0336 - val_mean_absolute_error: 0.1500\n",
      "Epoch 65/100\n",
      "88/88 [==============================] - ETA: 0s - loss: 0.0071 - mean_absolute_error: 0.069 - 0s 271us/sample - loss: 0.0063 - mean_absolute_error: 0.0625 - val_loss: 0.0325 - val_mean_absolute_error: 0.1469\n",
      "Epoch 66/100\n",
      "88/88 [==============================] - ETA: 0s - loss: 0.0065 - mean_absolute_error: 0.065 - 0s 268us/sample - loss: 0.0062 - mean_absolute_error: 0.0617 - val_loss: 0.0315 - val_mean_absolute_error: 0.1441\n",
      "Epoch 67/100\n",
      "88/88 [==============================] - ETA: 0s - loss: 0.0072 - mean_absolute_error: 0.066 - 0s 268us/sample - loss: 0.0061 - mean_absolute_error: 0.0610 - val_loss: 0.0306 - val_mean_absolute_error: 0.1412\n",
      "Epoch 68/100\n",
      "88/88 [==============================] - ETA: 0s - loss: 0.0057 - mean_absolute_error: 0.062 - 0s 268us/sample - loss: 0.0059 - mean_absolute_error: 0.0604 - val_loss: 0.0297 - val_mean_absolute_error: 0.1385\n",
      "Epoch 69/100\n",
      "88/88 [==============================] - ETA: 0s - loss: 0.0059 - mean_absolute_error: 0.059 - 0s 268us/sample - loss: 0.0058 - mean_absolute_error: 0.0596 - val_loss: 0.0290 - val_mean_absolute_error: 0.1362\n",
      "Epoch 70/100\n",
      "88/88 [==============================] - ETA: 0s - loss: 0.0058 - mean_absolute_error: 0.055 - 0s 299us/sample - loss: 0.0057 - mean_absolute_error: 0.0590 - val_loss: 0.0281 - val_mean_absolute_error: 0.1336\n",
      "Epoch 71/100\n",
      "88/88 [==============================] - ETA: 0s - loss: 0.0064 - mean_absolute_error: 0.065 - 0s 270us/sample - loss: 0.0056 - mean_absolute_error: 0.0584 - val_loss: 0.0274 - val_mean_absolute_error: 0.1312\n",
      "Epoch 72/100\n",
      "88/88 [==============================] - ETA: 0s - loss: 0.0063 - mean_absolute_error: 0.058 - 0s 291us/sample - loss: 0.0055 - mean_absolute_error: 0.0576 - val_loss: 0.0267 - val_mean_absolute_error: 0.1286\n",
      "Epoch 73/100\n",
      "88/88 [==============================] - ETA: 0s - loss: 0.0080 - mean_absolute_error: 0.067 - 0s 312us/sample - loss: 0.0054 - mean_absolute_error: 0.0570 - val_loss: 0.0259 - val_mean_absolute_error: 0.1259\n",
      "Epoch 74/100\n",
      "88/88 [==============================] - ETA: 0s - loss: 0.0051 - mean_absolute_error: 0.052 - 0s 346us/sample - loss: 0.0053 - mean_absolute_error: 0.0564 - val_loss: 0.0253 - val_mean_absolute_error: 0.1235\n",
      "Epoch 75/100\n",
      "88/88 [==============================] - ETA: 0s - loss: 0.0062 - mean_absolute_error: 0.060 - 0s 273us/sample - loss: 0.0052 - mean_absolute_error: 0.0559 - val_loss: 0.0246 - val_mean_absolute_error: 0.1210\n",
      "Epoch 76/100\n",
      "88/88 [==============================] - ETA: 0s - loss: 0.0068 - mean_absolute_error: 0.060 - 0s 275us/sample - loss: 0.0052 - mean_absolute_error: 0.0555 - val_loss: 0.0240 - val_mean_absolute_error: 0.1189\n",
      "Epoch 77/100\n",
      "88/88 [==============================] - ETA: 0s - loss: 0.0046 - mean_absolute_error: 0.050 - 0s 286us/sample - loss: 0.0051 - mean_absolute_error: 0.0550 - val_loss: 0.0234 - val_mean_absolute_error: 0.1172\n",
      "Epoch 78/100\n",
      "88/88 [==============================] - ETA: 0s - loss: 0.0040 - mean_absolute_error: 0.045 - 0s 462us/sample - loss: 0.0050 - mean_absolute_error: 0.0546 - val_loss: 0.0229 - val_mean_absolute_error: 0.1154\n",
      "Epoch 79/100\n",
      "88/88 [==============================] - ETA: 0s - loss: 0.0037 - mean_absolute_error: 0.049 - 0s 370us/sample - loss: 0.0049 - mean_absolute_error: 0.0542 - val_loss: 0.0224 - val_mean_absolute_error: 0.1137\n",
      "Epoch 80/100\n",
      "88/88 [==============================] - ETA: 0s - loss: 0.0046 - mean_absolute_error: 0.054 - 0s 368us/sample - loss: 0.0049 - mean_absolute_error: 0.0539 - val_loss: 0.0218 - val_mean_absolute_error: 0.1119\n",
      "Epoch 81/100\n",
      "88/88 [==============================] - ETA: 0s - loss: 0.0059 - mean_absolute_error: 0.060 - 0s 340us/sample - loss: 0.0048 - mean_absolute_error: 0.0535 - val_loss: 0.0213 - val_mean_absolute_error: 0.1105\n",
      "Epoch 82/100\n",
      "88/88 [==============================] - ETA: 0s - loss: 0.0057 - mean_absolute_error: 0.059 - 0s 366us/sample - loss: 0.0047 - mean_absolute_error: 0.0532 - val_loss: 0.0208 - val_mean_absolute_error: 0.1090\n",
      "Epoch 83/100\n",
      "88/88 [==============================] - ETA: 0s - loss: 0.0044 - mean_absolute_error: 0.053 - 0s 343us/sample - loss: 0.0047 - mean_absolute_error: 0.0529 - val_loss: 0.0204 - val_mean_absolute_error: 0.1079\n",
      "Epoch 84/100\n",
      "88/88 [==============================] - ETA: 0s - loss: 0.0049 - mean_absolute_error: 0.053 - 0s 332us/sample - loss: 0.0046 - mean_absolute_error: 0.0527 - val_loss: 0.0199 - val_mean_absolute_error: 0.1065\n",
      "Epoch 85/100\n",
      "88/88 [==============================] - ETA: 0s - loss: 0.0045 - mean_absolute_error: 0.053 - 0s 357us/sample - loss: 0.0045 - mean_absolute_error: 0.0524 - val_loss: 0.0195 - val_mean_absolute_error: 0.1052\n",
      "Epoch 86/100\n",
      "88/88 [==============================] - ETA: 0s - loss: 0.0055 - mean_absolute_error: 0.054 - 0s 371us/sample - loss: 0.0045 - mean_absolute_error: 0.0519 - val_loss: 0.0192 - val_mean_absolute_error: 0.1043\n",
      "Epoch 87/100\n",
      "88/88 [==============================] - ETA: 0s - loss: 0.0045 - mean_absolute_error: 0.051 - 0s 343us/sample - loss: 0.0044 - mean_absolute_error: 0.0516 - val_loss: 0.0189 - val_mean_absolute_error: 0.1033\n",
      "Epoch 88/100\n",
      "88/88 [==============================] - ETA: 0s - loss: 0.0041 - mean_absolute_error: 0.049 - 0s 341us/sample - loss: 0.0044 - mean_absolute_error: 0.0514 - val_loss: 0.0186 - val_mean_absolute_error: 0.1024\n",
      "Epoch 89/100\n",
      "88/88 [==============================] - ETA: 0s - loss: 0.0043 - mean_absolute_error: 0.053 - 0s 371us/sample - loss: 0.0044 - mean_absolute_error: 0.0510 - val_loss: 0.0183 - val_mean_absolute_error: 0.1014\n",
      "Epoch 90/100\n",
      "88/88 [==============================] - ETA: 0s - loss: 0.0043 - mean_absolute_error: 0.053 - 0s 351us/sample - loss: 0.0043 - mean_absolute_error: 0.0508 - val_loss: 0.0179 - val_mean_absolute_error: 0.1001\n",
      "Epoch 91/100\n",
      "88/88 [==============================] - ETA: 0s - loss: 0.0025 - mean_absolute_error: 0.039 - 0s 354us/sample - loss: 0.0043 - mean_absolute_error: 0.0506 - val_loss: 0.0176 - val_mean_absolute_error: 0.0993\n",
      "Epoch 92/100\n",
      "88/88 [==============================] - ETA: 0s - loss: 0.0049 - mean_absolute_error: 0.052 - 0s 356us/sample - loss: 0.0042 - mean_absolute_error: 0.0505 - val_loss: 0.0173 - val_mean_absolute_error: 0.0983\n",
      "Epoch 93/100\n",
      "88/88 [==============================] - ETA: 0s - loss: 0.0048 - mean_absolute_error: 0.053 - 0s 354us/sample - loss: 0.0042 - mean_absolute_error: 0.0504 - val_loss: 0.0169 - val_mean_absolute_error: 0.0973\n",
      "Epoch 94/100\n",
      "88/88 [==============================] - ETA: 0s - loss: 0.0050 - mean_absolute_error: 0.055 - 0s 345us/sample - loss: 0.0042 - mean_absolute_error: 0.0503 - val_loss: 0.0166 - val_mean_absolute_error: 0.0963\n",
      "Epoch 95/100\n",
      "88/88 [==============================] - ETA: 0s - loss: 0.0025 - mean_absolute_error: 0.040 - 0s 335us/sample - loss: 0.0041 - mean_absolute_error: 0.0501 - val_loss: 0.0163 - val_mean_absolute_error: 0.0956\n",
      "Epoch 96/100\n",
      "88/88 [==============================] - ETA: 0s - loss: 0.0030 - mean_absolute_error: 0.043 - 0s 319us/sample - loss: 0.0041 - mean_absolute_error: 0.0499 - val_loss: 0.0161 - val_mean_absolute_error: 0.0950\n"
     ]
    },
    {
     "name": "stdout",
     "output_type": "stream",
     "text": [
      "Epoch 97/100\n",
      "88/88 [==============================] - ETA: 0s - loss: 0.0036 - mean_absolute_error: 0.048 - 0s 339us/sample - loss: 0.0041 - mean_absolute_error: 0.0498 - val_loss: 0.0159 - val_mean_absolute_error: 0.0947\n",
      "Epoch 98/100\n",
      "88/88 [==============================] - ETA: 0s - loss: 0.0044 - mean_absolute_error: 0.049 - 0s 354us/sample - loss: 0.0041 - mean_absolute_error: 0.0497 - val_loss: 0.0158 - val_mean_absolute_error: 0.0943\n",
      "Epoch 99/100\n",
      "88/88 [==============================] - ETA: 0s - loss: 0.0035 - mean_absolute_error: 0.045 - 0s 344us/sample - loss: 0.0040 - mean_absolute_error: 0.0495 - val_loss: 0.0156 - val_mean_absolute_error: 0.0940\n",
      "Epoch 100/100\n",
      "88/88 [==============================] - ETA: 0s - loss: 0.0047 - mean_absolute_error: 0.053 - 0s 353us/sample - loss: 0.0040 - mean_absolute_error: 0.0493 - val_loss: 0.0154 - val_mean_absolute_error: 0.0937\n"
     ]
    },
    {
     "data": {
      "text/html": [
       "<span style=\"color:#4527A0\"><h1 style=\"font-size:18px\">Trial complete</h1></span>"
      ],
      "text/plain": [
       "<IPython.core.display.HTML object>"
      ]
     },
     "metadata": {},
     "output_type": "display_data"
    },
    {
     "data": {
      "text/html": [
       "<span style=\"color:#4527A0\"><h1 style=\"font-size:18px\">Trial summary</h1></span>"
      ],
      "text/plain": [
       "<IPython.core.display.HTML object>"
      ]
     },
     "metadata": {},
     "output_type": "display_data"
    },
    {
     "data": {
      "text/html": [
       "<span style=\"color:cyan\"> |-Trial ID: d094b881451ba482590b4f54352ec19f</span>"
      ],
      "text/plain": [
       "<IPython.core.display.HTML object>"
      ]
     },
     "metadata": {},
     "output_type": "display_data"
    },
    {
     "data": {
      "text/html": [
       "<span style=\"color:cyan\"> |-Score: 0.1117335855960846</span>"
      ],
      "text/plain": [
       "<IPython.core.display.HTML object>"
      ]
     },
     "metadata": {},
     "output_type": "display_data"
    },
    {
     "data": {
      "text/html": [
       "<span style=\"color:cyan\"> |-Best step: 0</span>"
      ],
      "text/plain": [
       "<IPython.core.display.HTML object>"
      ]
     },
     "metadata": {},
     "output_type": "display_data"
    },
    {
     "data": {
      "text/html": [
       "<span style=\"color:#7E57C2\"><h2 style=\"font-size:16px\">Hyperparameters:</h2></span>"
      ],
      "text/plain": [
       "<IPython.core.display.HTML object>"
      ]
     },
     "metadata": {},
     "output_type": "display_data"
    },
    {
     "data": {
      "text/html": [
       "<span style=\"color:cyan\"> |-input_units: 44</span>"
      ],
      "text/plain": [
       "<IPython.core.display.HTML object>"
      ]
     },
     "metadata": {},
     "output_type": "display_data"
    },
    {
     "data": {
      "text/html": [
       "<span style=\"color:blue\"> |-learning_rate: 0.0001</span>"
      ],
      "text/plain": [
       "<IPython.core.display.HTML object>"
      ]
     },
     "metadata": {},
     "output_type": "display_data"
    },
    {
     "data": {
      "text/html": [
       "<span style=\"color:cyan\"> |-n_layers: 0</span>"
      ],
      "text/plain": [
       "<IPython.core.display.HTML object>"
      ]
     },
     "metadata": {},
     "output_type": "display_data"
    },
    {
     "name": "stdout",
     "output_type": "stream",
     "text": [
      "Train on 88 samples, validate on 13 samples\n",
      "Epoch 1/100\n",
      "88/88 [==============================] - ETA: 1s - loss: 0.0692 - mean_absolute_error: 0.237 - 1s 10ms/sample - loss: 0.0727 - mean_absolute_error: 0.2355 - val_loss: 0.2975 - val_mean_absolute_error: 0.5345\n",
      "Epoch 2/100\n",
      "88/88 [==============================] - ETA: 0s - loss: 0.0638 - mean_absolute_error: 0.224 - 0s 342us/sample - loss: 0.0690 - mean_absolute_error: 0.2279 - val_loss: 0.2868 - val_mean_absolute_error: 0.5243\n",
      "Epoch 3/100\n",
      "88/88 [==============================] - ETA: 0s - loss: 0.0686 - mean_absolute_error: 0.225 - 0s 366us/sample - loss: 0.0653 - mean_absolute_error: 0.2199 - val_loss: 0.2757 - val_mean_absolute_error: 0.5136\n",
      "Epoch 4/100\n",
      "88/88 [==============================] - ETA: 0s - loss: 0.0592 - mean_absolute_error: 0.206 - 0s 339us/sample - loss: 0.0614 - mean_absolute_error: 0.2117 - val_loss: 0.2642 - val_mean_absolute_error: 0.5023\n",
      "Epoch 5/100\n",
      "88/88 [==============================] - ETA: 0s - loss: 0.0648 - mean_absolute_error: 0.227 - 0s 341us/sample - loss: 0.0576 - mean_absolute_error: 0.2027 - val_loss: 0.2522 - val_mean_absolute_error: 0.4901\n",
      "Epoch 6/100\n",
      "88/88 [==============================] - ETA: 0s - loss: 0.0559 - mean_absolute_error: 0.195 - 0s 354us/sample - loss: 0.0532 - mean_absolute_error: 0.1924 - val_loss: 0.2394 - val_mean_absolute_error: 0.4768\n",
      "Epoch 7/100\n",
      "88/88 [==============================] - ETA: 0s - loss: 0.0500 - mean_absolute_error: 0.188 - 0s 327us/sample - loss: 0.0483 - mean_absolute_error: 0.1798 - val_loss: 0.2250 - val_mean_absolute_error: 0.4613\n",
      "Epoch 8/100\n",
      "88/88 [==============================] - ETA: 0s - loss: 0.0430 - mean_absolute_error: 0.170 - 0s 331us/sample - loss: 0.0418 - mean_absolute_error: 0.1640 - val_loss: 0.1997 - val_mean_absolute_error: 0.4328\n",
      "Epoch 9/100\n",
      "88/88 [==============================] - ETA: 0s - loss: 0.0461 - mean_absolute_error: 0.164 - 0s 380us/sample - loss: 0.0344 - mean_absolute_error: 0.1452 - val_loss: 0.1704 - val_mean_absolute_error: 0.3974\n",
      "Epoch 10/100\n",
      "88/88 [==============================] - ETA: 0s - loss: 0.0346 - mean_absolute_error: 0.150 - 0s 404us/sample - loss: 0.0271 - mean_absolute_error: 0.1260 - val_loss: 0.1391 - val_mean_absolute_error: 0.3558\n",
      "Epoch 11/100\n",
      "88/88 [==============================] - ETA: 0s - loss: 0.0169 - mean_absolute_error: 0.099 - 0s 341us/sample - loss: 0.0201 - mean_absolute_error: 0.1081 - val_loss: 0.1074 - val_mean_absolute_error: 0.3079\n",
      "Epoch 12/100\n",
      "88/88 [==============================] - ETA: 0s - loss: 0.0164 - mean_absolute_error: 0.093 - 0s 336us/sample - loss: 0.0155 - mean_absolute_error: 0.0979 - val_loss: 0.0769 - val_mean_absolute_error: 0.2535\n",
      "Epoch 13/100\n",
      "88/88 [==============================] - ETA: 0s - loss: 0.0130 - mean_absolute_error: 0.094 - 0s 301us/sample - loss: 0.0126 - mean_absolute_error: 0.0909 - val_loss: 0.0521 - val_mean_absolute_error: 0.1985\n",
      "Epoch 14/100\n",
      "88/88 [==============================] - ETA: 0s - loss: 0.0152 - mean_absolute_error: 0.102 - 0s 323us/sample - loss: 0.0124 - mean_absolute_error: 0.0925 - val_loss: 0.0366 - val_mean_absolute_error: 0.1554\n",
      "Epoch 15/100\n",
      "88/88 [==============================] - ETA: 0s - loss: 0.0119 - mean_absolute_error: 0.085 - 0s 331us/sample - loss: 0.0128 - mean_absolute_error: 0.0945 - val_loss: 0.0309 - val_mean_absolute_error: 0.1385\n",
      "Epoch 16/100\n",
      "88/88 [==============================] - ETA: 0s - loss: 0.0098 - mean_absolute_error: 0.078 - 0s 239us/sample - loss: 0.0127 - mean_absolute_error: 0.0942 - val_loss: 0.0311 - val_mean_absolute_error: 0.1392\n",
      "Epoch 17/100\n",
      "88/88 [==============================] - ETA: 0s - loss: 0.0101 - mean_absolute_error: 0.087 - 0s 252us/sample - loss: 0.0116 - mean_absolute_error: 0.0896 - val_loss: 0.0353 - val_mean_absolute_error: 0.1516\n",
      "Epoch 18/100\n",
      "88/88 [==============================] - ETA: 0s - loss: 0.0122 - mean_absolute_error: 0.087 - 0s 245us/sample - loss: 0.0106 - mean_absolute_error: 0.0847 - val_loss: 0.0403 - val_mean_absolute_error: 0.1650\n",
      "Epoch 19/100\n",
      "88/88 [==============================] - ETA: 0s - loss: 0.0086 - mean_absolute_error: 0.076 - 0s 239us/sample - loss: 0.0100 - mean_absolute_error: 0.0815 - val_loss: 0.0447 - val_mean_absolute_error: 0.1773\n",
      "Epoch 20/100\n",
      "88/88 [==============================] - ETA: 0s - loss: 0.0095 - mean_absolute_error: 0.080 - 0s 274us/sample - loss: 0.0097 - mean_absolute_error: 0.0797 - val_loss: 0.0465 - val_mean_absolute_error: 0.1823\n",
      "Train on 88 samples, validate on 13 samples\n",
      "Epoch 1/100\n",
      "88/88 [==============================] - ETA: 1s - loss: 0.0745 - mean_absolute_error: 0.235 - 1s 10ms/sample - loss: 0.0567 - mean_absolute_error: 0.2050 - val_loss: 0.2086 - val_mean_absolute_error: 0.4428\n",
      "Epoch 2/100\n",
      "88/88 [==============================] - ETA: 0s - loss: 0.0365 - mean_absolute_error: 0.170 - 0s 255us/sample - loss: 0.0436 - mean_absolute_error: 0.1760 - val_loss: 0.1704 - val_mean_absolute_error: 0.3974\n",
      "Epoch 3/100\n",
      "88/88 [==============================] - ETA: 0s - loss: 0.0373 - mean_absolute_error: 0.157 - 0s 267us/sample - loss: 0.0338 - mean_absolute_error: 0.1513 - val_loss: 0.1392 - val_mean_absolute_error: 0.3559\n",
      "Epoch 4/100\n",
      "88/88 [==============================] - ETA: 0s - loss: 0.0283 - mean_absolute_error: 0.140 - 0s 251us/sample - loss: 0.0269 - mean_absolute_error: 0.1325 - val_loss: 0.1146 - val_mean_absolute_error: 0.3197\n",
      "Epoch 5/100\n",
      "88/88 [==============================] - ETA: 0s - loss: 0.0217 - mean_absolute_error: 0.123 - 0s 272us/sample - loss: 0.0215 - mean_absolute_error: 0.1152 - val_loss: 0.0951 - val_mean_absolute_error: 0.2875\n",
      "Epoch 6/100\n",
      "88/88 [==============================] - ETA: 0s - loss: 0.0137 - mean_absolute_error: 0.093 - 0s 246us/sample - loss: 0.0166 - mean_absolute_error: 0.0988 - val_loss: 0.0772 - val_mean_absolute_error: 0.2543\n",
      "Epoch 7/100\n",
      "88/88 [==============================] - ETA: 0s - loss: 0.0163 - mean_absolute_error: 0.093 - 0s 245us/sample - loss: 0.0128 - mean_absolute_error: 0.0845 - val_loss: 0.0603 - val_mean_absolute_error: 0.2184\n",
      "Epoch 8/100\n",
      "88/88 [==============================] - ETA: 0s - loss: 0.0101 - mean_absolute_error: 0.078 - 0s 245us/sample - loss: 0.0097 - mean_absolute_error: 0.0739 - val_loss: 0.0447 - val_mean_absolute_error: 0.1792\n",
      "Epoch 9/100\n",
      "88/88 [==============================] - ETA: 0s - loss: 0.0079 - mean_absolute_error: 0.069 - 0s 245us/sample - loss: 0.0076 - mean_absolute_error: 0.0678 - val_loss: 0.0317 - val_mean_absolute_error: 0.1444\n",
      "Epoch 10/100\n",
      "88/88 [==============================] - ETA: 0s - loss: 0.0051 - mean_absolute_error: 0.053 - 0s 394us/sample - loss: 0.0066 - mean_absolute_error: 0.0650 - val_loss: 0.0228 - val_mean_absolute_error: 0.1148\n",
      "Epoch 11/100\n",
      "88/88 [==============================] - ETA: 0s - loss: 0.0054 - mean_absolute_error: 0.057 - 0s 336us/sample - loss: 0.0065 - mean_absolute_error: 0.0664 - val_loss: 0.0182 - val_mean_absolute_error: 0.1023\n",
      "Epoch 12/100\n",
      "88/88 [==============================] - ETA: 0s - loss: 0.0082 - mean_absolute_error: 0.078 - 0s 340us/sample - loss: 0.0068 - mean_absolute_error: 0.0691 - val_loss: 0.0163 - val_mean_absolute_error: 0.0972\n",
      "Epoch 13/100\n",
      "88/88 [==============================] - ETA: 0s - loss: 0.0067 - mean_absolute_error: 0.069 - 0s 236us/sample - loss: 0.0065 - mean_absolute_error: 0.0675 - val_loss: 0.0167 - val_mean_absolute_error: 0.0987\n",
      "Epoch 14/100\n",
      "88/88 [==============================] - ETA: 0s - loss: 0.0070 - mean_absolute_error: 0.068 - 0s 255us/sample - loss: 0.0060 - mean_absolute_error: 0.0640 - val_loss: 0.0183 - val_mean_absolute_error: 0.1035\n",
      "Epoch 15/100\n",
      "88/88 [==============================] - ETA: 0s - loss: 0.0036 - mean_absolute_error: 0.050 - 0s 236us/sample - loss: 0.0055 - mean_absolute_error: 0.0604 - val_loss: 0.0205 - val_mean_absolute_error: 0.1091\n",
      "Epoch 16/100\n",
      "88/88 [==============================] - ETA: 0s - loss: 0.0037 - mean_absolute_error: 0.047 - 0s 241us/sample - loss: 0.0053 - mean_absolute_error: 0.0571 - val_loss: 0.0220 - val_mean_absolute_error: 0.1126\n",
      "Epoch 17/100\n",
      "88/88 [==============================] - ETA: 0s - loss: 0.0032 - mean_absolute_error: 0.047 - 0s 243us/sample - loss: 0.0052 - mean_absolute_error: 0.0558 - val_loss: 0.0223 - val_mean_absolute_error: 0.1134\n"
     ]
    },
    {
     "name": "stdout",
     "output_type": "stream",
     "text": [
      "Train on 88 samples, validate on 13 samples\n",
      "Epoch 1/100\n",
      "88/88 [==============================] - ETA: 1s - loss: 0.0721 - mean_absolute_error: 0.230 - 1s 10ms/sample - loss: 0.0572 - mean_absolute_error: 0.2073 - val_loss: 0.2166 - val_mean_absolute_error: 0.4524\n",
      "Epoch 2/100\n",
      "88/88 [==============================] - ETA: 0s - loss: 0.0406 - mean_absolute_error: 0.170 - 0s 254us/sample - loss: 0.0482 - mean_absolute_error: 0.1875 - val_loss: 0.1896 - val_mean_absolute_error: 0.4214\n",
      "Epoch 3/100\n",
      "88/88 [==============================] - ETA: 0s - loss: 0.0422 - mean_absolute_error: 0.169 - 0s 279us/sample - loss: 0.0401 - mean_absolute_error: 0.1671 - val_loss: 0.1632 - val_mean_absolute_error: 0.3886\n",
      "Epoch 4/100\n",
      "88/88 [==============================] - ETA: 0s - loss: 0.0388 - mean_absolute_error: 0.157 - 0s 231us/sample - loss: 0.0324 - mean_absolute_error: 0.1457 - val_loss: 0.1371 - val_mean_absolute_error: 0.3534\n",
      "Epoch 5/100\n",
      "88/88 [==============================] - ETA: 0s - loss: 0.0281 - mean_absolute_error: 0.135 - 0s 242us/sample - loss: 0.0250 - mean_absolute_error: 0.1240 - val_loss: 0.1113 - val_mean_absolute_error: 0.3145\n",
      "Epoch 6/100\n",
      "88/88 [==============================] - ETA: 0s - loss: 0.0251 - mean_absolute_error: 0.127 - 0s 228us/sample - loss: 0.0187 - mean_absolute_error: 0.1035 - val_loss: 0.0846 - val_mean_absolute_error: 0.2688\n",
      "Epoch 7/100\n",
      "88/88 [==============================] - ETA: 0s - loss: 0.0113 - mean_absolute_error: 0.076 - 0s 271us/sample - loss: 0.0126 - mean_absolute_error: 0.0827 - val_loss: 0.0586 - val_mean_absolute_error: 0.2151\n",
      "Epoch 8/100\n",
      "88/88 [==============================] - ETA: 0s - loss: 0.0099 - mean_absolute_error: 0.078 - 0s 244us/sample - loss: 0.0090 - mean_absolute_error: 0.0732 - val_loss: 0.0374 - val_mean_absolute_error: 0.1605\n",
      "Epoch 9/100\n",
      "88/88 [==============================] - ETA: 0s - loss: 0.0078 - mean_absolute_error: 0.068 - 0s 243us/sample - loss: 0.0075 - mean_absolute_error: 0.0689 - val_loss: 0.0238 - val_mean_absolute_error: 0.1180\n",
      "Epoch 10/100\n",
      "88/88 [==============================] - ETA: 0s - loss: 0.0077 - mean_absolute_error: 0.074 - 0s 233us/sample - loss: 0.0079 - mean_absolute_error: 0.0739 - val_loss: 0.0177 - val_mean_absolute_error: 0.1007\n",
      "Epoch 11/100\n",
      "88/88 [==============================] - ETA: 0s - loss: 0.0069 - mean_absolute_error: 0.070 - 0s 248us/sample - loss: 0.0087 - mean_absolute_error: 0.0798 - val_loss: 0.0163 - val_mean_absolute_error: 0.0975\n",
      "Epoch 12/100\n",
      "88/88 [==============================] - ETA: 0s - loss: 0.0069 - mean_absolute_error: 0.072 - 0s 241us/sample - loss: 0.0086 - mean_absolute_error: 0.0796 - val_loss: 0.0173 - val_mean_absolute_error: 0.0997\n",
      "Epoch 13/100\n",
      "88/88 [==============================] - ETA: 0s - loss: 0.0100 - mean_absolute_error: 0.087 - 0s 257us/sample - loss: 0.0078 - mean_absolute_error: 0.0743 - val_loss: 0.0200 - val_mean_absolute_error: 0.1067\n",
      "Epoch 14/100\n",
      "88/88 [==============================] - ETA: 0s - loss: 0.0083 - mean_absolute_error: 0.078 - 0s 227us/sample - loss: 0.0071 - mean_absolute_error: 0.0693 - val_loss: 0.0239 - val_mean_absolute_error: 0.1183\n",
      "Epoch 15/100\n",
      "88/88 [==============================] - ETA: 0s - loss: 0.0065 - mean_absolute_error: 0.068 - 0s 254us/sample - loss: 0.0067 - mean_absolute_error: 0.0659 - val_loss: 0.0272 - val_mean_absolute_error: 0.1293\n",
      "Epoch 16/100\n",
      "88/88 [==============================] - ETA: 0s - loss: 0.0066 - mean_absolute_error: 0.067 - 0s 225us/sample - loss: 0.0066 - mean_absolute_error: 0.0643 - val_loss: 0.0290 - val_mean_absolute_error: 0.1355\n"
     ]
    },
    {
     "data": {
      "text/html": [
       "<span style=\"color:#4527A0\"><h1 style=\"font-size:18px\">Trial complete</h1></span>"
      ],
      "text/plain": [
       "<IPython.core.display.HTML object>"
      ]
     },
     "metadata": {},
     "output_type": "display_data"
    },
    {
     "data": {
      "text/html": [
       "<span style=\"color:#4527A0\"><h1 style=\"font-size:18px\">Trial summary</h1></span>"
      ],
      "text/plain": [
       "<IPython.core.display.HTML object>"
      ]
     },
     "metadata": {},
     "output_type": "display_data"
    },
    {
     "data": {
      "text/html": [
       "<span style=\"color:cyan\"> |-Trial ID: e7f8f39a8780fae9f2ec15bc04c63339</span>"
      ],
      "text/plain": [
       "<IPython.core.display.HTML object>"
      ]
     },
     "metadata": {},
     "output_type": "display_data"
    },
    {
     "data": {
      "text/html": [
       "<span style=\"color:cyan\"> |-Score: 0.11108452081680298</span>"
      ],
      "text/plain": [
       "<IPython.core.display.HTML object>"
      ]
     },
     "metadata": {},
     "output_type": "display_data"
    },
    {
     "data": {
      "text/html": [
       "<span style=\"color:cyan\"> |-Best step: 0</span>"
      ],
      "text/plain": [
       "<IPython.core.display.HTML object>"
      ]
     },
     "metadata": {},
     "output_type": "display_data"
    },
    {
     "data": {
      "text/html": [
       "<span style=\"color:#7E57C2\"><h2 style=\"font-size:16px\">Hyperparameters:</h2></span>"
      ],
      "text/plain": [
       "<IPython.core.display.HTML object>"
      ]
     },
     "metadata": {},
     "output_type": "display_data"
    },
    {
     "data": {
      "text/html": [
       "<span style=\"color:cyan\"> |-dense_0_units: 5</span>"
      ],
      "text/plain": [
       "<IPython.core.display.HTML object>"
      ]
     },
     "metadata": {},
     "output_type": "display_data"
    },
    {
     "data": {
      "text/html": [
       "<span style=\"color:blue\"> |-dropout_layers: 0</span>"
      ],
      "text/plain": [
       "<IPython.core.display.HTML object>"
      ]
     },
     "metadata": {},
     "output_type": "display_data"
    },
    {
     "data": {
      "text/html": [
       "<span style=\"color:cyan\"> |-input_units: 26</span>"
      ],
      "text/plain": [
       "<IPython.core.display.HTML object>"
      ]
     },
     "metadata": {},
     "output_type": "display_data"
    },
    {
     "data": {
      "text/html": [
       "<span style=\"color:blue\"> |-learning_rate: 0.001</span>"
      ],
      "text/plain": [
       "<IPython.core.display.HTML object>"
      ]
     },
     "metadata": {},
     "output_type": "display_data"
    },
    {
     "data": {
      "text/html": [
       "<span style=\"color:cyan\"> |-n_layers: 1</span>"
      ],
      "text/plain": [
       "<IPython.core.display.HTML object>"
      ]
     },
     "metadata": {},
     "output_type": "display_data"
    },
    {
     "name": "stdout",
     "output_type": "stream",
     "text": [
      "Train on 88 samples, validate on 13 samples\n",
      "Epoch 1/100\n",
      "88/88 [==============================] - ETA: 1s - loss: 0.0623 - mean_absolute_error: 0.228 - 1s 10ms/sample - loss: 0.0758 - mean_absolute_error: 0.2406 - val_loss: 0.3143 - val_mean_absolute_error: 0.5500\n",
      "Epoch 2/100\n",
      "88/88 [==============================] - ETA: 0s - loss: 0.0817 - mean_absolute_error: 0.254 - 0s 319us/sample - loss: 0.0743 - mean_absolute_error: 0.2383 - val_loss: 0.3106 - val_mean_absolute_error: 0.5465\n",
      "Epoch 3/100\n",
      "88/88 [==============================] - ETA: 0s - loss: 0.0824 - mean_absolute_error: 0.248 - 0s 363us/sample - loss: 0.0739 - mean_absolute_error: 0.2365 - val_loss: 0.3068 - val_mean_absolute_error: 0.5431\n",
      "Epoch 4/100\n",
      "88/88 [==============================] - ETA: 0s - loss: 0.0791 - mean_absolute_error: 0.243 - 0s 319us/sample - loss: 0.0721 - mean_absolute_error: 0.2336 - val_loss: 0.3032 - val_mean_absolute_error: 0.5397\n",
      "Epoch 5/100\n",
      "88/88 [==============================] - ETA: 0s - loss: 0.0775 - mean_absolute_error: 0.237 - 0s 321us/sample - loss: 0.0704 - mean_absolute_error: 0.2307 - val_loss: 0.2997 - val_mean_absolute_error: 0.5364\n",
      "Epoch 6/100\n",
      "88/88 [==============================] - ETA: 0s - loss: 0.0669 - mean_absolute_error: 0.232 - 0s 317us/sample - loss: 0.0708 - mean_absolute_error: 0.2304 - val_loss: 0.2962 - val_mean_absolute_error: 0.5331\n",
      "Epoch 7/100\n",
      "88/88 [==============================] - ETA: 0s - loss: 0.0772 - mean_absolute_error: 0.239 - 0s 302us/sample - loss: 0.0696 - mean_absolute_error: 0.2284 - val_loss: 0.2928 - val_mean_absolute_error: 0.5299\n",
      "Epoch 8/100\n",
      "88/88 [==============================] - ETA: 0s - loss: 0.0671 - mean_absolute_error: 0.219 - 0s 305us/sample - loss: 0.0679 - mean_absolute_error: 0.2250 - val_loss: 0.2895 - val_mean_absolute_error: 0.5268\n",
      "Epoch 9/100\n",
      "88/88 [==============================] - ETA: 0s - loss: 0.0725 - mean_absolute_error: 0.239 - 0s 321us/sample - loss: 0.0672 - mean_absolute_error: 0.2232 - val_loss: 0.2862 - val_mean_absolute_error: 0.5236\n",
      "Epoch 10/100\n",
      "88/88 [==============================] - ETA: 0s - loss: 0.0631 - mean_absolute_error: 0.219 - 0s 327us/sample - loss: 0.0651 - mean_absolute_error: 0.2201 - val_loss: 0.2829 - val_mean_absolute_error: 0.5205\n",
      "Epoch 11/100\n",
      "88/88 [==============================] - ETA: 0s - loss: 0.0851 - mean_absolute_error: 0.255 - 0s 353us/sample - loss: 0.0645 - mean_absolute_error: 0.2180 - val_loss: 0.2797 - val_mean_absolute_error: 0.5174\n",
      "Epoch 12/100\n",
      "88/88 [==============================] - ETA: 0s - loss: 0.0610 - mean_absolute_error: 0.214 - 0s 324us/sample - loss: 0.0638 - mean_absolute_error: 0.2160 - val_loss: 0.2763 - val_mean_absolute_error: 0.5141\n",
      "Epoch 13/100\n",
      "88/88 [==============================] - ETA: 0s - loss: 0.0705 - mean_absolute_error: 0.232 - 0s 299us/sample - loss: 0.0623 - mean_absolute_error: 0.2132 - val_loss: 0.2727 - val_mean_absolute_error: 0.5106\n",
      "Epoch 14/100\n",
      "88/88 [==============================] - ETA: 0s - loss: 0.0562 - mean_absolute_error: 0.205 - 0s 335us/sample - loss: 0.0607 - mean_absolute_error: 0.2105 - val_loss: 0.2692 - val_mean_absolute_error: 0.5071\n",
      "Epoch 15/100\n",
      "88/88 [==============================] - ETA: 0s - loss: 0.0482 - mean_absolute_error: 0.190 - 0s 310us/sample - loss: 0.0599 - mean_absolute_error: 0.2081 - val_loss: 0.2657 - val_mean_absolute_error: 0.5037\n",
      "Epoch 16/100\n",
      "88/88 [==============================] - ETA: 0s - loss: 0.0615 - mean_absolute_error: 0.217 - 0s 341us/sample - loss: 0.0587 - mean_absolute_error: 0.2061 - val_loss: 0.2622 - val_mean_absolute_error: 0.5002\n",
      "Epoch 17/100\n",
      "88/88 [==============================] - ETA: 0s - loss: 0.0650 - mean_absolute_error: 0.214 - 0s 314us/sample - loss: 0.0576 - mean_absolute_error: 0.2034 - val_loss: 0.2588 - val_mean_absolute_error: 0.4968\n",
      "Epoch 18/100\n",
      "88/88 [==============================] - ETA: 0s - loss: 0.0564 - mean_absolute_error: 0.198 - 0s 317us/sample - loss: 0.0573 - mean_absolute_error: 0.2026 - val_loss: 0.2554 - val_mean_absolute_error: 0.4934\n",
      "Epoch 19/100\n",
      "88/88 [==============================] - ETA: 0s - loss: 0.0539 - mean_absolute_error: 0.192 - 0s 324us/sample - loss: 0.0546 - mean_absolute_error: 0.1978 - val_loss: 0.2520 - val_mean_absolute_error: 0.4900\n",
      "Epoch 20/100\n",
      "88/88 [==============================] - ETA: 0s - loss: 0.0545 - mean_absolute_error: 0.205 - 0s 311us/sample - loss: 0.0538 - mean_absolute_error: 0.1961 - val_loss: 0.2486 - val_mean_absolute_error: 0.4865\n",
      "Epoch 21/100\n",
      "88/88 [==============================] - ETA: 0s - loss: 0.0398 - mean_absolute_error: 0.166 - 0s 347us/sample - loss: 0.0533 - mean_absolute_error: 0.1943 - val_loss: 0.2451 - val_mean_absolute_error: 0.4830\n",
      "Epoch 22/100\n",
      "88/88 [==============================] - ETA: 0s - loss: 0.0561 - mean_absolute_error: 0.193 - 0s 369us/sample - loss: 0.0517 - mean_absolute_error: 0.1909 - val_loss: 0.2417 - val_mean_absolute_error: 0.4794\n",
      "Epoch 23/100\n",
      "88/88 [==============================] - ETA: 0s - loss: 0.0434 - mean_absolute_error: 0.170 - 0s 329us/sample - loss: 0.0512 - mean_absolute_error: 0.1902 - val_loss: 0.2383 - val_mean_absolute_error: 0.4759\n",
      "Epoch 24/100\n",
      "88/88 [==============================] - ETA: 0s - loss: 0.0465 - mean_absolute_error: 0.179 - 0s 336us/sample - loss: 0.0497 - mean_absolute_error: 0.1871 - val_loss: 0.2349 - val_mean_absolute_error: 0.4723\n",
      "Epoch 25/100\n",
      "88/88 [==============================] - ETA: 0s - loss: 0.0394 - mean_absolute_error: 0.164 - 0s 345us/sample - loss: 0.0489 - mean_absolute_error: 0.1841 - val_loss: 0.2316 - val_mean_absolute_error: 0.4688\n",
      "Epoch 26/100\n",
      "88/88 [==============================] - ETA: 0s - loss: 0.0480 - mean_absolute_error: 0.187 - 0s 313us/sample - loss: 0.0483 - mean_absolute_error: 0.1823 - val_loss: 0.2283 - val_mean_absolute_error: 0.4652\n",
      "Epoch 27/100\n",
      "88/88 [==============================] - ETA: 0s - loss: 0.0405 - mean_absolute_error: 0.162 - 0s 321us/sample - loss: 0.0489 - mean_absolute_error: 0.1823 - val_loss: 0.2251 - val_mean_absolute_error: 0.4618\n",
      "Epoch 28/100\n",
      "88/88 [==============================] - ETA: 0s - loss: 0.0498 - mean_absolute_error: 0.186 - 0s 344us/sample - loss: 0.0467 - mean_absolute_error: 0.1790 - val_loss: 0.2220 - val_mean_absolute_error: 0.4584\n",
      "Epoch 29/100\n",
      "88/88 [==============================] - ETA: 0s - loss: 0.0432 - mean_absolute_error: 0.169 - 0s 330us/sample - loss: 0.0449 - mean_absolute_error: 0.1748 - val_loss: 0.2189 - val_mean_absolute_error: 0.4550\n",
      "Epoch 30/100\n",
      "88/88 [==============================] - ETA: 0s - loss: 0.0372 - mean_absolute_error: 0.156 - 0s 336us/sample - loss: 0.0437 - mean_absolute_error: 0.1727 - val_loss: 0.2158 - val_mean_absolute_error: 0.4516\n",
      "Epoch 31/100\n",
      "88/88 [==============================] - ETA: 0s - loss: 0.0528 - mean_absolute_error: 0.189 - 0s 350us/sample - loss: 0.0433 - mean_absolute_error: 0.1721 - val_loss: 0.2128 - val_mean_absolute_error: 0.4482\n",
      "Epoch 32/100\n",
      "88/88 [==============================] - ETA: 0s - loss: 0.0477 - mean_absolute_error: 0.181 - 0s 330us/sample - loss: 0.0425 - mean_absolute_error: 0.1702 - val_loss: 0.2098 - val_mean_absolute_error: 0.4449\n",
      "Epoch 33/100\n",
      "88/88 [==============================] - ETA: 0s - loss: 0.0434 - mean_absolute_error: 0.177 - 0s 312us/sample - loss: 0.0416 - mean_absolute_error: 0.1669 - val_loss: 0.2069 - val_mean_absolute_error: 0.4416\n",
      "Epoch 34/100\n",
      "88/88 [==============================] - ETA: 0s - loss: 0.0339 - mean_absolute_error: 0.143 - 0s 335us/sample - loss: 0.0409 - mean_absolute_error: 0.1660 - val_loss: 0.2040 - val_mean_absolute_error: 0.4383\n",
      "Epoch 35/100\n",
      "88/88 [==============================] - ETA: 0s - loss: 0.0216 - mean_absolute_error: 0.118 - 0s 306us/sample - loss: 0.0397 - mean_absolute_error: 0.1624 - val_loss: 0.2012 - val_mean_absolute_error: 0.4351\n",
      "Epoch 36/100\n",
      "88/88 [==============================] - ETA: 0s - loss: 0.0425 - mean_absolute_error: 0.169 - 0s 331us/sample - loss: 0.0386 - mean_absolute_error: 0.1593 - val_loss: 0.1983 - val_mean_absolute_error: 0.4317\n",
      "Epoch 37/100\n",
      "88/88 [==============================] - ETA: 0s - loss: 0.0477 - mean_absolute_error: 0.180 - 0s 333us/sample - loss: 0.0389 - mean_absolute_error: 0.1594 - val_loss: 0.1954 - val_mean_absolute_error: 0.4284\n"
     ]
    },
    {
     "name": "stdout",
     "output_type": "stream",
     "text": [
      "Epoch 38/100\n",
      "88/88 [==============================] - ETA: 0s - loss: 0.0412 - mean_absolute_error: 0.161 - 0s 310us/sample - loss: 0.0387 - mean_absolute_error: 0.1597 - val_loss: 0.1925 - val_mean_absolute_error: 0.4250\n",
      "Epoch 39/100\n",
      "88/88 [==============================] - ETA: 0s - loss: 0.0334 - mean_absolute_error: 0.149 - 0s 331us/sample - loss: 0.0363 - mean_absolute_error: 0.1532 - val_loss: 0.1896 - val_mean_absolute_error: 0.4216\n",
      "Epoch 40/100\n",
      "88/88 [==============================] - ETA: 0s - loss: 0.0283 - mean_absolute_error: 0.128 - 0s 334us/sample - loss: 0.0360 - mean_absolute_error: 0.1528 - val_loss: 0.1868 - val_mean_absolute_error: 0.4182\n",
      "Epoch 41/100\n",
      "88/88 [==============================] - ETA: 0s - loss: 0.0418 - mean_absolute_error: 0.154 - 0s 325us/sample - loss: 0.0359 - mean_absolute_error: 0.1526 - val_loss: 0.1839 - val_mean_absolute_error: 0.4147\n",
      "Epoch 42/100\n",
      "88/88 [==============================] - ETA: 0s - loss: 0.0299 - mean_absolute_error: 0.135 - 0s 329us/sample - loss: 0.0345 - mean_absolute_error: 0.1497 - val_loss: 0.1810 - val_mean_absolute_error: 0.4112\n",
      "Epoch 43/100\n",
      "88/88 [==============================] - ETA: 0s - loss: 0.0383 - mean_absolute_error: 0.168 - 0s 352us/sample - loss: 0.0342 - mean_absolute_error: 0.1474 - val_loss: 0.1781 - val_mean_absolute_error: 0.4076\n",
      "Epoch 44/100\n",
      "88/88 [==============================] - ETA: 0s - loss: 0.0369 - mean_absolute_error: 0.153 - 0s 333us/sample - loss: 0.0319 - mean_absolute_error: 0.1435 - val_loss: 0.1752 - val_mean_absolute_error: 0.4041\n",
      "Epoch 45/100\n",
      "88/88 [==============================] - ETA: 0s - loss: 0.0283 - mean_absolute_error: 0.130 - 0s 312us/sample - loss: 0.0325 - mean_absolute_error: 0.1431 - val_loss: 0.1723 - val_mean_absolute_error: 0.4005\n",
      "Epoch 46/100\n",
      "88/88 [==============================] - ETA: 0s - loss: 0.0307 - mean_absolute_error: 0.131 - 0s 332us/sample - loss: 0.0327 - mean_absolute_error: 0.1427 - val_loss: 0.1695 - val_mean_absolute_error: 0.3969\n",
      "Epoch 47/100\n",
      "88/88 [==============================] - ETA: 0s - loss: 0.0401 - mean_absolute_error: 0.165 - 0s 308us/sample - loss: 0.0319 - mean_absolute_error: 0.1412 - val_loss: 0.1666 - val_mean_absolute_error: 0.3933\n",
      "Epoch 48/100\n",
      "88/88 [==============================] - ETA: 0s - loss: 0.0324 - mean_absolute_error: 0.148 - 0s 319us/sample - loss: 0.0303 - mean_absolute_error: 0.1354 - val_loss: 0.1638 - val_mean_absolute_error: 0.3897\n",
      "Epoch 49/100\n",
      "88/88 [==============================] - ETA: 0s - loss: 0.0323 - mean_absolute_error: 0.150 - 0s 332us/sample - loss: 0.0286 - mean_absolute_error: 0.1329 - val_loss: 0.1610 - val_mean_absolute_error: 0.3861\n",
      "Epoch 50/100\n",
      "88/88 [==============================] - ETA: 0s - loss: 0.0202 - mean_absolute_error: 0.112 - 0s 365us/sample - loss: 0.0277 - mean_absolute_error: 0.1309 - val_loss: 0.1582 - val_mean_absolute_error: 0.3825\n",
      "Epoch 51/100\n",
      "88/88 [==============================] - ETA: 0s - loss: 0.0274 - mean_absolute_error: 0.124 - 0s 330us/sample - loss: 0.0284 - mean_absolute_error: 0.1308 - val_loss: 0.1555 - val_mean_absolute_error: 0.3789\n",
      "Epoch 52/100\n",
      "88/88 [==============================] - ETA: 0s - loss: 0.0244 - mean_absolute_error: 0.123 - 0s 358us/sample - loss: 0.0275 - mean_absolute_error: 0.1287 - val_loss: 0.1527 - val_mean_absolute_error: 0.3753\n",
      "Epoch 53/100\n",
      "88/88 [==============================] - ETA: 0s - loss: 0.0301 - mean_absolute_error: 0.137 - 0s 316us/sample - loss: 0.0272 - mean_absolute_error: 0.1280 - val_loss: 0.1500 - val_mean_absolute_error: 0.3716\n",
      "Epoch 54/100\n",
      "88/88 [==============================] - ETA: 0s - loss: 0.0266 - mean_absolute_error: 0.123 - 0s 315us/sample - loss: 0.0262 - mean_absolute_error: 0.1255 - val_loss: 0.1473 - val_mean_absolute_error: 0.3680\n",
      "Epoch 55/100\n",
      "88/88 [==============================] - ETA: 0s - loss: 0.0269 - mean_absolute_error: 0.119 - 0s 344us/sample - loss: 0.0253 - mean_absolute_error: 0.1236 - val_loss: 0.1446 - val_mean_absolute_error: 0.3643\n",
      "Epoch 56/100\n",
      "88/88 [==============================] - ETA: 0s - loss: 0.0265 - mean_absolute_error: 0.128 - 0s 322us/sample - loss: 0.0266 - mean_absolute_error: 0.1244 - val_loss: 0.1419 - val_mean_absolute_error: 0.3605\n",
      "Epoch 57/100\n",
      "88/88 [==============================] - ETA: 0s - loss: 0.0257 - mean_absolute_error: 0.123 - 0s 317us/sample - loss: 0.0232 - mean_absolute_error: 0.1174 - val_loss: 0.1392 - val_mean_absolute_error: 0.3567\n",
      "Epoch 58/100\n",
      "88/88 [==============================] - ETA: 0s - loss: 0.0290 - mean_absolute_error: 0.142 - 0s 322us/sample - loss: 0.0231 - mean_absolute_error: 0.1166 - val_loss: 0.1365 - val_mean_absolute_error: 0.3529\n",
      "Epoch 59/100\n",
      "88/88 [==============================] - ETA: 0s - loss: 0.0290 - mean_absolute_error: 0.126 - 0s 308us/sample - loss: 0.0235 - mean_absolute_error: 0.1149 - val_loss: 0.1338 - val_mean_absolute_error: 0.3491\n",
      "Epoch 60/100\n",
      "88/88 [==============================] - ETA: 0s - loss: 0.0187 - mean_absolute_error: 0.103 - 0s 304us/sample - loss: 0.0220 - mean_absolute_error: 0.1125 - val_loss: 0.1311 - val_mean_absolute_error: 0.3452\n",
      "Epoch 61/100\n",
      "88/88 [==============================] - ETA: 0s - loss: 0.0152 - mean_absolute_error: 0.087 - 0s 314us/sample - loss: 0.0222 - mean_absolute_error: 0.1124 - val_loss: 0.1285 - val_mean_absolute_error: 0.3414\n",
      "Epoch 62/100\n",
      "88/88 [==============================] - ETA: 0s - loss: 0.0209 - mean_absolute_error: 0.104 - 0s 342us/sample - loss: 0.0228 - mean_absolute_error: 0.1135 - val_loss: 0.1259 - val_mean_absolute_error: 0.3375\n",
      "Epoch 63/100\n",
      "88/88 [==============================] - ETA: 0s - loss: 0.0239 - mean_absolute_error: 0.114 - 0s 320us/sample - loss: 0.0221 - mean_absolute_error: 0.1109 - val_loss: 0.1233 - val_mean_absolute_error: 0.3336\n",
      "Epoch 64/100\n",
      "88/88 [==============================] - ETA: 0s - loss: 0.0289 - mean_absolute_error: 0.122 - 0s 347us/sample - loss: 0.0204 - mean_absolute_error: 0.1054 - val_loss: 0.1207 - val_mean_absolute_error: 0.3296\n",
      "Epoch 65/100\n",
      "88/88 [==============================] - ETA: 0s - loss: 0.0232 - mean_absolute_error: 0.111 - 0s 319us/sample - loss: 0.0186 - mean_absolute_error: 0.1016 - val_loss: 0.1181 - val_mean_absolute_error: 0.3257\n",
      "Epoch 66/100\n",
      "88/88 [==============================] - ETA: 0s - loss: 0.0240 - mean_absolute_error: 0.107 - 0s 329us/sample - loss: 0.0200 - mean_absolute_error: 0.1049 - val_loss: 0.1156 - val_mean_absolute_error: 0.3218\n",
      "Epoch 67/100\n",
      "88/88 [==============================] - ETA: 0s - loss: 0.0175 - mean_absolute_error: 0.094 - 0s 343us/sample - loss: 0.0186 - mean_absolute_error: 0.1000 - val_loss: 0.1131 - val_mean_absolute_error: 0.3178\n",
      "Epoch 68/100\n",
      "88/88 [==============================] - ETA: 0s - loss: 0.0189 - mean_absolute_error: 0.106 - 0s 361us/sample - loss: 0.0183 - mean_absolute_error: 0.1022 - val_loss: 0.1106 - val_mean_absolute_error: 0.3138\n",
      "Epoch 69/100\n",
      "88/88 [==============================] - ETA: 0s - loss: 0.0187 - mean_absolute_error: 0.106 - 0s 399us/sample - loss: 0.0185 - mean_absolute_error: 0.1022 - val_loss: 0.1080 - val_mean_absolute_error: 0.3097\n",
      "Epoch 70/100\n",
      "88/88 [==============================] - ETA: 0s - loss: 0.0249 - mean_absolute_error: 0.128 - 0s 483us/sample - loss: 0.0176 - mean_absolute_error: 0.0993 - val_loss: 0.1055 - val_mean_absolute_error: 0.3056\n",
      "Epoch 71/100\n",
      "88/88 [==============================] - ETA: 0s - loss: 0.0181 - mean_absolute_error: 0.090 - 0s 387us/sample - loss: 0.0174 - mean_absolute_error: 0.0968 - val_loss: 0.1031 - val_mean_absolute_error: 0.3016\n",
      "Epoch 72/100\n",
      "88/88 [==============================] - ETA: 0s - loss: 0.0124 - mean_absolute_error: 0.079 - 0s 416us/sample - loss: 0.0175 - mean_absolute_error: 0.0992 - val_loss: 0.1006 - val_mean_absolute_error: 0.2975\n",
      "Epoch 73/100\n",
      "88/88 [==============================] - ETA: 0s - loss: 0.0133 - mean_absolute_error: 0.095 - 0s 419us/sample - loss: 0.0168 - mean_absolute_error: 0.0960 - val_loss: 0.0982 - val_mean_absolute_error: 0.2933\n",
      "Epoch 74/100\n",
      "88/88 [==============================] - ETA: 0s - loss: 0.0168 - mean_absolute_error: 0.098 - 0s 374us/sample - loss: 0.0158 - mean_absolute_error: 0.0919 - val_loss: 0.0958 - val_mean_absolute_error: 0.2891\n"
     ]
    },
    {
     "name": "stdout",
     "output_type": "stream",
     "text": [
      "Epoch 75/100\n",
      "88/88 [==============================] - ETA: 0s - loss: 0.0105 - mean_absolute_error: 0.076 - 0s 352us/sample - loss: 0.0155 - mean_absolute_error: 0.0907 - val_loss: 0.0934 - val_mean_absolute_error: 0.2850\n",
      "Epoch 76/100\n",
      "88/88 [==============================] - ETA: 0s - loss: 0.0135 - mean_absolute_error: 0.089 - 0s 365us/sample - loss: 0.0149 - mean_absolute_error: 0.0918 - val_loss: 0.0910 - val_mean_absolute_error: 0.2807\n",
      "Epoch 77/100\n",
      "88/88 [==============================] - ETA: 0s - loss: 0.0108 - mean_absolute_error: 0.074 - 0s 365us/sample - loss: 0.0137 - mean_absolute_error: 0.0881 - val_loss: 0.0886 - val_mean_absolute_error: 0.2765\n",
      "Epoch 78/100\n",
      "88/88 [==============================] - ETA: 0s - loss: 0.0110 - mean_absolute_error: 0.079 - 0s 347us/sample - loss: 0.0155 - mean_absolute_error: 0.0903 - val_loss: 0.0863 - val_mean_absolute_error: 0.2722\n",
      "Epoch 79/100\n",
      "88/88 [==============================] - ETA: 0s - loss: 0.0085 - mean_absolute_error: 0.062 - 0s 345us/sample - loss: 0.0145 - mean_absolute_error: 0.0876 - val_loss: 0.0841 - val_mean_absolute_error: 0.2680\n",
      "Epoch 80/100\n",
      "88/88 [==============================] - ETA: 0s - loss: 0.0102 - mean_absolute_error: 0.078 - 0s 353us/sample - loss: 0.0128 - mean_absolute_error: 0.0862 - val_loss: 0.0818 - val_mean_absolute_error: 0.2637\n",
      "Epoch 81/100\n",
      "88/88 [==============================] - ETA: 0s - loss: 0.0132 - mean_absolute_error: 0.086 - 0s 332us/sample - loss: 0.0118 - mean_absolute_error: 0.0812 - val_loss: 0.0796 - val_mean_absolute_error: 0.2594\n",
      "Epoch 82/100\n",
      "88/88 [==============================] - ETA: 0s - loss: 0.0115 - mean_absolute_error: 0.078 - 0s 343us/sample - loss: 0.0119 - mean_absolute_error: 0.0822 - val_loss: 0.0774 - val_mean_absolute_error: 0.2551\n",
      "Epoch 83/100\n",
      "88/88 [==============================] - ETA: 0s - loss: 0.0094 - mean_absolute_error: 0.078 - 0s 332us/sample - loss: 0.0115 - mean_absolute_error: 0.0814 - val_loss: 0.0752 - val_mean_absolute_error: 0.2509\n",
      "Epoch 84/100\n",
      "88/88 [==============================] - ETA: 0s - loss: 0.0177 - mean_absolute_error: 0.092 - 0s 331us/sample - loss: 0.0132 - mean_absolute_error: 0.0861 - val_loss: 0.0731 - val_mean_absolute_error: 0.2465\n",
      "Epoch 85/100\n",
      "88/88 [==============================] - ETA: 0s - loss: 0.0100 - mean_absolute_error: 0.075 - 0s 324us/sample - loss: 0.0117 - mean_absolute_error: 0.0812 - val_loss: 0.0710 - val_mean_absolute_error: 0.2423\n",
      "Epoch 86/100\n",
      "88/88 [==============================] - ETA: 0s - loss: 0.0095 - mean_absolute_error: 0.083 - 0s 355us/sample - loss: 0.0128 - mean_absolute_error: 0.0845 - val_loss: 0.0689 - val_mean_absolute_error: 0.2379\n",
      "Epoch 87/100\n",
      "88/88 [==============================] - ETA: 0s - loss: 0.0083 - mean_absolute_error: 0.072 - 0s 327us/sample - loss: 0.0115 - mean_absolute_error: 0.0797 - val_loss: 0.0670 - val_mean_absolute_error: 0.2337\n",
      "Epoch 88/100\n",
      "88/88 [==============================] - ETA: 0s - loss: 0.0136 - mean_absolute_error: 0.083 - 0s 331us/sample - loss: 0.0113 - mean_absolute_error: 0.0809 - val_loss: 0.0650 - val_mean_absolute_error: 0.2295\n",
      "Epoch 89/100\n",
      "88/88 [==============================] - ETA: 0s - loss: 0.0103 - mean_absolute_error: 0.071 - 0s 341us/sample - loss: 0.0111 - mean_absolute_error: 0.0793 - val_loss: 0.0632 - val_mean_absolute_error: 0.2254\n",
      "Epoch 90/100\n",
      "88/88 [==============================] - ETA: 0s - loss: 0.0071 - mean_absolute_error: 0.066 - 0s 328us/sample - loss: 0.0111 - mean_absolute_error: 0.0801 - val_loss: 0.0614 - val_mean_absolute_error: 0.2214\n",
      "Epoch 91/100\n",
      "88/88 [==============================] - ETA: 0s - loss: 0.0085 - mean_absolute_error: 0.070 - 0s 344us/sample - loss: 0.0083 - mean_absolute_error: 0.0693 - val_loss: 0.0595 - val_mean_absolute_error: 0.2170\n",
      "Epoch 92/100\n",
      "88/88 [==============================] - ETA: 0s - loss: 0.0136 - mean_absolute_error: 0.085 - 0s 352us/sample - loss: 0.0105 - mean_absolute_error: 0.0770 - val_loss: 0.0577 - val_mean_absolute_error: 0.2128\n",
      "Epoch 93/100\n",
      "88/88 [==============================] - ETA: 0s - loss: 0.0116 - mean_absolute_error: 0.087 - 0s 332us/sample - loss: 0.0107 - mean_absolute_error: 0.0814 - val_loss: 0.0559 - val_mean_absolute_error: 0.2086\n",
      "Epoch 94/100\n",
      "88/88 [==============================] - ETA: 0s - loss: 0.0056 - mean_absolute_error: 0.061 - 0s 324us/sample - loss: 0.0096 - mean_absolute_error: 0.0772 - val_loss: 0.0543 - val_mean_absolute_error: 0.2046\n",
      "Epoch 95/100\n",
      "88/88 [==============================] - ETA: 0s - loss: 0.0076 - mean_absolute_error: 0.073 - 0s 343us/sample - loss: 0.0099 - mean_absolute_error: 0.0748 - val_loss: 0.0527 - val_mean_absolute_error: 0.2007\n",
      "Epoch 96/100\n",
      "88/88 [==============================] - ETA: 0s - loss: 0.0085 - mean_absolute_error: 0.073 - 0s 345us/sample - loss: 0.0099 - mean_absolute_error: 0.0762 - val_loss: 0.0512 - val_mean_absolute_error: 0.1968\n",
      "Epoch 97/100\n",
      "88/88 [==============================] - ETA: 0s - loss: 0.0073 - mean_absolute_error: 0.069 - 0s 362us/sample - loss: 0.0081 - mean_absolute_error: 0.0696 - val_loss: 0.0497 - val_mean_absolute_error: 0.1928\n",
      "Epoch 98/100\n",
      "88/88 [==============================] - ETA: 0s - loss: 0.0071 - mean_absolute_error: 0.076 - 0s 355us/sample - loss: 0.0082 - mean_absolute_error: 0.0724 - val_loss: 0.0482 - val_mean_absolute_error: 0.1891\n",
      "Epoch 99/100\n",
      "88/88 [==============================] - ETA: 0s - loss: 0.0117 - mean_absolute_error: 0.078 - 0s 396us/sample - loss: 0.0101 - mean_absolute_error: 0.0777 - val_loss: 0.0468 - val_mean_absolute_error: 0.1852\n",
      "Epoch 100/100\n",
      "88/88 [==============================] - ETA: 0s - loss: 0.0084 - mean_absolute_error: 0.066 - 0s 415us/sample - loss: 0.0071 - mean_absolute_error: 0.0658 - val_loss: 0.0454 - val_mean_absolute_error: 0.1814\n",
      "Train on 88 samples, validate on 13 samples\n",
      "Epoch 1/100\n",
      "88/88 [==============================] - ETA: 1s - loss: 0.0886 - mean_absolute_error: 0.260 - 1s 14ms/sample - loss: 0.0887 - mean_absolute_error: 0.2609 - val_loss: 0.3655 - val_mean_absolute_error: 0.5951\n",
      "Epoch 2/100\n",
      "88/88 [==============================] - ETA: 0s - loss: 0.0887 - mean_absolute_error: 0.256 - 0s 258us/sample - loss: 0.0865 - mean_absolute_error: 0.2571 - val_loss: 0.3611 - val_mean_absolute_error: 0.5915\n",
      "Epoch 3/100\n",
      "88/88 [==============================] - ETA: 0s - loss: 0.0822 - mean_absolute_error: 0.247 - 0s 297us/sample - loss: 0.0845 - mean_absolute_error: 0.2538 - val_loss: 0.3568 - val_mean_absolute_error: 0.5878\n",
      "Epoch 4/100\n",
      "88/88 [==============================] - ETA: 0s - loss: 0.0891 - mean_absolute_error: 0.258 - 0s 254us/sample - loss: 0.0833 - mean_absolute_error: 0.2522 - val_loss: 0.3526 - val_mean_absolute_error: 0.5842\n",
      "Epoch 5/100\n",
      "88/88 [==============================] - ETA: 0s - loss: 0.0872 - mean_absolute_error: 0.253 - 0s 281us/sample - loss: 0.0819 - mean_absolute_error: 0.2492 - val_loss: 0.3484 - val_mean_absolute_error: 0.5805\n",
      "Epoch 6/100\n",
      "88/88 [==============================] - ETA: 0s - loss: 0.0528 - mean_absolute_error: 0.206 - 0s 278us/sample - loss: 0.0802 - mean_absolute_error: 0.2462 - val_loss: 0.3442 - val_mean_absolute_error: 0.5770\n",
      "Epoch 7/100\n",
      "88/88 [==============================] - ETA: 0s - loss: 0.0813 - mean_absolute_error: 0.246 - 0s 264us/sample - loss: 0.0804 - mean_absolute_error: 0.2457 - val_loss: 0.3401 - val_mean_absolute_error: 0.5734\n",
      "Epoch 8/100\n",
      "88/88 [==============================] - ETA: 0s - loss: 0.0799 - mean_absolute_error: 0.251 - 0s 272us/sample - loss: 0.0777 - mean_absolute_error: 0.2420 - val_loss: 0.3360 - val_mean_absolute_error: 0.5698\n",
      "Epoch 9/100\n",
      "88/88 [==============================] - ETA: 0s - loss: 0.0776 - mean_absolute_error: 0.230 - 0s 268us/sample - loss: 0.0775 - mean_absolute_error: 0.2414 - val_loss: 0.3320 - val_mean_absolute_error: 0.5663\n",
      "Epoch 10/100\n",
      "88/88 [==============================] - ETA: 0s - loss: 0.0833 - mean_absolute_error: 0.251 - 0s 307us/sample - loss: 0.0770 - mean_absolute_error: 0.2397 - val_loss: 0.3281 - val_mean_absolute_error: 0.5627\n",
      "Epoch 11/100\n",
      "88/88 [==============================] - ETA: 0s - loss: 0.0775 - mean_absolute_error: 0.241 - 0s 275us/sample - loss: 0.0745 - mean_absolute_error: 0.2362 - val_loss: 0.3242 - val_mean_absolute_error: 0.5593\n"
     ]
    },
    {
     "name": "stdout",
     "output_type": "stream",
     "text": [
      "Epoch 12/100\n",
      "88/88 [==============================] - ETA: 0s - loss: 0.0582 - mean_absolute_error: 0.200 - 0s 287us/sample - loss: 0.0732 - mean_absolute_error: 0.2340 - val_loss: 0.3204 - val_mean_absolute_error: 0.5558\n",
      "Epoch 13/100\n",
      "88/88 [==============================] - ETA: 0s - loss: 0.0780 - mean_absolute_error: 0.243 - 0s 318us/sample - loss: 0.0723 - mean_absolute_error: 0.2322 - val_loss: 0.3166 - val_mean_absolute_error: 0.5524\n",
      "Epoch 14/100\n",
      "88/88 [==============================] - ETA: 0s - loss: 0.0591 - mean_absolute_error: 0.194 - 0s 264us/sample - loss: 0.0699 - mean_absolute_error: 0.2286 - val_loss: 0.3129 - val_mean_absolute_error: 0.5490\n",
      "Epoch 15/100\n",
      "88/88 [==============================] - ETA: 0s - loss: 0.0619 - mean_absolute_error: 0.216 - 0s 271us/sample - loss: 0.0706 - mean_absolute_error: 0.2284 - val_loss: 0.3093 - val_mean_absolute_error: 0.5457\n",
      "Epoch 16/100\n",
      "88/88 [==============================] - ETA: 0s - loss: 0.0879 - mean_absolute_error: 0.265 - 0s 268us/sample - loss: 0.0689 - mean_absolute_error: 0.2261 - val_loss: 0.3057 - val_mean_absolute_error: 0.5425\n",
      "Epoch 17/100\n",
      "88/88 [==============================] - ETA: 0s - loss: 0.0658 - mean_absolute_error: 0.213 - 0s 278us/sample - loss: 0.0688 - mean_absolute_error: 0.2251 - val_loss: 0.3024 - val_mean_absolute_error: 0.5394\n",
      "Epoch 18/100\n",
      "88/88 [==============================] - ETA: 0s - loss: 0.0585 - mean_absolute_error: 0.199 - 0s 282us/sample - loss: 0.0672 - mean_absolute_error: 0.2227 - val_loss: 0.2993 - val_mean_absolute_error: 0.5366\n",
      "Epoch 19/100\n",
      "88/88 [==============================] - ETA: 0s - loss: 0.0769 - mean_absolute_error: 0.244 - 0s 244us/sample - loss: 0.0669 - mean_absolute_error: 0.2220 - val_loss: 0.2965 - val_mean_absolute_error: 0.5339\n",
      "Epoch 20/100\n",
      "88/88 [==============================] - ETA: 0s - loss: 0.0617 - mean_absolute_error: 0.217 - 0s 268us/sample - loss: 0.0659 - mean_absolute_error: 0.2198 - val_loss: 0.2938 - val_mean_absolute_error: 0.5314\n",
      "Epoch 21/100\n",
      "88/88 [==============================] - ETA: 0s - loss: 0.0461 - mean_absolute_error: 0.180 - 0s 269us/sample - loss: 0.0655 - mean_absolute_error: 0.2190 - val_loss: 0.2912 - val_mean_absolute_error: 0.5289\n",
      "Epoch 22/100\n",
      "88/88 [==============================] - ETA: 0s - loss: 0.0740 - mean_absolute_error: 0.237 - 0s 256us/sample - loss: 0.0664 - mean_absolute_error: 0.2198 - val_loss: 0.2885 - val_mean_absolute_error: 0.5264\n",
      "Epoch 23/100\n",
      "88/88 [==============================] - ETA: 0s - loss: 0.0553 - mean_absolute_error: 0.200 - 0s 246us/sample - loss: 0.0643 - mean_absolute_error: 0.2158 - val_loss: 0.2860 - val_mean_absolute_error: 0.5240\n",
      "Epoch 24/100\n",
      "88/88 [==============================] - ETA: 0s - loss: 0.0540 - mean_absolute_error: 0.195 - 0s 267us/sample - loss: 0.0633 - mean_absolute_error: 0.2141 - val_loss: 0.2834 - val_mean_absolute_error: 0.5216\n",
      "Epoch 25/100\n",
      "88/88 [==============================] - ETA: 0s - loss: 0.0556 - mean_absolute_error: 0.202 - 0s 277us/sample - loss: 0.0633 - mean_absolute_error: 0.2144 - val_loss: 0.2809 - val_mean_absolute_error: 0.5191\n",
      "Epoch 26/100\n",
      "88/88 [==============================] - ETA: 0s - loss: 0.0724 - mean_absolute_error: 0.228 - 0s 260us/sample - loss: 0.0624 - mean_absolute_error: 0.2122 - val_loss: 0.2784 - val_mean_absolute_error: 0.5167\n",
      "Epoch 27/100\n",
      "88/88 [==============================] - ETA: 0s - loss: 0.0654 - mean_absolute_error: 0.216 - 0s 274us/sample - loss: 0.0608 - mean_absolute_error: 0.2087 - val_loss: 0.2759 - val_mean_absolute_error: 0.5143\n",
      "Epoch 28/100\n",
      "88/88 [==============================] - ETA: 0s - loss: 0.0464 - mean_absolute_error: 0.186 - 0s 264us/sample - loss: 0.0602 - mean_absolute_error: 0.2090 - val_loss: 0.2735 - val_mean_absolute_error: 0.5119\n",
      "Epoch 29/100\n",
      "88/88 [==============================] - ETA: 0s - loss: 0.0603 - mean_absolute_error: 0.209 - 0s 262us/sample - loss: 0.0615 - mean_absolute_error: 0.2087 - val_loss: 0.2710 - val_mean_absolute_error: 0.5095\n",
      "Epoch 30/100\n",
      "88/88 [==============================] - ETA: 0s - loss: 0.0713 - mean_absolute_error: 0.225 - 0s 255us/sample - loss: 0.0600 - mean_absolute_error: 0.2064 - val_loss: 0.2685 - val_mean_absolute_error: 0.5070\n",
      "Epoch 31/100\n",
      "88/88 [==============================] - ETA: 0s - loss: 0.0739 - mean_absolute_error: 0.231 - 0s 294us/sample - loss: 0.0592 - mean_absolute_error: 0.2054 - val_loss: 0.2660 - val_mean_absolute_error: 0.5046\n",
      "Epoch 32/100\n",
      "88/88 [==============================] - ETA: 0s - loss: 0.0543 - mean_absolute_error: 0.199 - 0s 259us/sample - loss: 0.0580 - mean_absolute_error: 0.2034 - val_loss: 0.2636 - val_mean_absolute_error: 0.5021\n",
      "Epoch 33/100\n",
      "88/88 [==============================] - ETA: 0s - loss: 0.0442 - mean_absolute_error: 0.175 - 0s 288us/sample - loss: 0.0553 - mean_absolute_error: 0.1985 - val_loss: 0.2611 - val_mean_absolute_error: 0.4997\n",
      "Epoch 34/100\n",
      "88/88 [==============================] - ETA: 0s - loss: 0.0627 - mean_absolute_error: 0.217 - 0s 247us/sample - loss: 0.0557 - mean_absolute_error: 0.1982 - val_loss: 0.2586 - val_mean_absolute_error: 0.4971\n",
      "Epoch 35/100\n",
      "88/88 [==============================] - ETA: 0s - loss: 0.0604 - mean_absolute_error: 0.210 - 0s 265us/sample - loss: 0.0551 - mean_absolute_error: 0.1970 - val_loss: 0.2561 - val_mean_absolute_error: 0.4946\n",
      "Epoch 36/100\n",
      "88/88 [==============================] - ETA: 0s - loss: 0.0450 - mean_absolute_error: 0.184 - 0s 261us/sample - loss: 0.0545 - mean_absolute_error: 0.1949 - val_loss: 0.2535 - val_mean_absolute_error: 0.4920\n",
      "Epoch 37/100\n",
      "88/88 [==============================] - ETA: 0s - loss: 0.0455 - mean_absolute_error: 0.174 - 0s 291us/sample - loss: 0.0519 - mean_absolute_error: 0.1906 - val_loss: 0.2506 - val_mean_absolute_error: 0.4891\n",
      "Epoch 38/100\n",
      "88/88 [==============================] - ETA: 0s - loss: 0.0457 - mean_absolute_error: 0.174 - 0s 299us/sample - loss: 0.0511 - mean_absolute_error: 0.1896 - val_loss: 0.2477 - val_mean_absolute_error: 0.4861\n",
      "Epoch 39/100\n",
      "88/88 [==============================] - ETA: 0s - loss: 0.0455 - mean_absolute_error: 0.173 - 0s 291us/sample - loss: 0.0512 - mean_absolute_error: 0.1888 - val_loss: 0.2448 - val_mean_absolute_error: 0.4831\n",
      "Epoch 40/100\n",
      "88/88 [==============================] - ETA: 0s - loss: 0.0441 - mean_absolute_error: 0.174 - 0s 270us/sample - loss: 0.0506 - mean_absolute_error: 0.1880 - val_loss: 0.2419 - val_mean_absolute_error: 0.4801\n",
      "Epoch 41/100\n",
      "88/88 [==============================] - ETA: 0s - loss: 0.0476 - mean_absolute_error: 0.174 - 0s 261us/sample - loss: 0.0513 - mean_absolute_error: 0.1873 - val_loss: 0.2390 - val_mean_absolute_error: 0.4770\n",
      "Epoch 42/100\n",
      "88/88 [==============================] - ETA: 0s - loss: 0.0428 - mean_absolute_error: 0.167 - 0s 248us/sample - loss: 0.0491 - mean_absolute_error: 0.1837 - val_loss: 0.2362 - val_mean_absolute_error: 0.4740\n",
      "Epoch 43/100\n",
      "88/88 [==============================] - ETA: 0s - loss: 0.0493 - mean_absolute_error: 0.178 - 0s 256us/sample - loss: 0.0485 - mean_absolute_error: 0.1812 - val_loss: 0.2333 - val_mean_absolute_error: 0.4710\n",
      "Epoch 44/100\n",
      "88/88 [==============================] - ETA: 0s - loss: 0.0364 - mean_absolute_error: 0.155 - 0s 267us/sample - loss: 0.0474 - mean_absolute_error: 0.1789 - val_loss: 0.2305 - val_mean_absolute_error: 0.4680\n",
      "Epoch 45/100\n",
      "88/88 [==============================] - ETA: 0s - loss: 0.0617 - mean_absolute_error: 0.217 - 0s 292us/sample - loss: 0.0483 - mean_absolute_error: 0.1801 - val_loss: 0.2277 - val_mean_absolute_error: 0.4649\n",
      "Epoch 46/100\n",
      "88/88 [==============================] - ETA: 0s - loss: 0.0514 - mean_absolute_error: 0.177 - 0s 290us/sample - loss: 0.0465 - mean_absolute_error: 0.1765 - val_loss: 0.2249 - val_mean_absolute_error: 0.4619\n",
      "Epoch 47/100\n",
      "88/88 [==============================] - ETA: 0s - loss: 0.0404 - mean_absolute_error: 0.159 - 0s 273us/sample - loss: 0.0458 - mean_absolute_error: 0.1756 - val_loss: 0.2221 - val_mean_absolute_error: 0.4589\n",
      "Epoch 48/100\n",
      "88/88 [==============================] - ETA: 0s - loss: 0.0402 - mean_absolute_error: 0.167 - 0s 287us/sample - loss: 0.0449 - mean_absolute_error: 0.1742 - val_loss: 0.2193 - val_mean_absolute_error: 0.4558\n"
     ]
    },
    {
     "name": "stdout",
     "output_type": "stream",
     "text": [
      "Epoch 49/100\n",
      "88/88 [==============================] - ETA: 0s - loss: 0.0385 - mean_absolute_error: 0.169 - 0s 269us/sample - loss: 0.0441 - mean_absolute_error: 0.1727 - val_loss: 0.2166 - val_mean_absolute_error: 0.4528\n",
      "Epoch 50/100\n",
      "88/88 [==============================] - ETA: 0s - loss: 0.0331 - mean_absolute_error: 0.155 - 0s 263us/sample - loss: 0.0427 - mean_absolute_error: 0.1693 - val_loss: 0.2138 - val_mean_absolute_error: 0.4497\n",
      "Epoch 51/100\n",
      "88/88 [==============================] - ETA: 0s - loss: 0.0497 - mean_absolute_error: 0.170 - 0s 240us/sample - loss: 0.0433 - mean_absolute_error: 0.1699 - val_loss: 0.2110 - val_mean_absolute_error: 0.4466\n",
      "Epoch 52/100\n",
      "88/88 [==============================] - ETA: 0s - loss: 0.0442 - mean_absolute_error: 0.170 - 0s 260us/sample - loss: 0.0426 - mean_absolute_error: 0.1680 - val_loss: 0.2082 - val_mean_absolute_error: 0.4434\n",
      "Epoch 53/100\n",
      "88/88 [==============================] - ETA: 0s - loss: 0.0531 - mean_absolute_error: 0.194 - 0s 246us/sample - loss: 0.0407 - mean_absolute_error: 0.1643 - val_loss: 0.2054 - val_mean_absolute_error: 0.4403\n",
      "Epoch 54/100\n",
      "88/88 [==============================] - ETA: 0s - loss: 0.0371 - mean_absolute_error: 0.170 - 0s 248us/sample - loss: 0.0407 - mean_absolute_error: 0.1641 - val_loss: 0.2027 - val_mean_absolute_error: 0.4371\n",
      "Epoch 55/100\n",
      "88/88 [==============================] - ETA: 0s - loss: 0.0285 - mean_absolute_error: 0.134 - 0s 260us/sample - loss: 0.0389 - mean_absolute_error: 0.1603 - val_loss: 0.1999 - val_mean_absolute_error: 0.4340\n",
      "Epoch 56/100\n",
      "88/88 [==============================] - ETA: 0s - loss: 0.0523 - mean_absolute_error: 0.180 - 0s 264us/sample - loss: 0.0388 - mean_absolute_error: 0.1581 - val_loss: 0.1971 - val_mean_absolute_error: 0.4307\n",
      "Epoch 57/100\n",
      "88/88 [==============================] - ETA: 0s - loss: 0.0327 - mean_absolute_error: 0.138 - 0s 282us/sample - loss: 0.0377 - mean_absolute_error: 0.1553 - val_loss: 0.1944 - val_mean_absolute_error: 0.4275\n",
      "Epoch 58/100\n",
      "88/88 [==============================] - ETA: 0s - loss: 0.0448 - mean_absolute_error: 0.161 - 0s 237us/sample - loss: 0.0390 - mean_absolute_error: 0.1570 - val_loss: 0.1916 - val_mean_absolute_error: 0.4242\n",
      "Epoch 59/100\n",
      "88/88 [==============================] - ETA: 0s - loss: 0.0502 - mean_absolute_error: 0.175 - 0s 254us/sample - loss: 0.0374 - mean_absolute_error: 0.1549 - val_loss: 0.1888 - val_mean_absolute_error: 0.4209\n",
      "Epoch 60/100\n",
      "88/88 [==============================] - ETA: 0s - loss: 0.0339 - mean_absolute_error: 0.150 - 0s 243us/sample - loss: 0.0362 - mean_absolute_error: 0.1511 - val_loss: 0.1861 - val_mean_absolute_error: 0.4176\n",
      "Epoch 61/100\n",
      "88/88 [==============================] - ETA: 0s - loss: 0.0382 - mean_absolute_error: 0.164 - 0s 269us/sample - loss: 0.0347 - mean_absolute_error: 0.1505 - val_loss: 0.1833 - val_mean_absolute_error: 0.4143\n",
      "Epoch 62/100\n",
      "88/88 [==============================] - ETA: 0s - loss: 0.0364 - mean_absolute_error: 0.152 - 0s 264us/sample - loss: 0.0345 - mean_absolute_error: 0.1483 - val_loss: 0.1805 - val_mean_absolute_error: 0.4109\n",
      "Epoch 63/100\n",
      "88/88 [==============================] - ETA: 0s - loss: 0.0278 - mean_absolute_error: 0.142 - 0s 252us/sample - loss: 0.0341 - mean_absolute_error: 0.1478 - val_loss: 0.1778 - val_mean_absolute_error: 0.4075\n",
      "Epoch 64/100\n",
      "88/88 [==============================] - ETA: 0s - loss: 0.0281 - mean_absolute_error: 0.125 - 0s 253us/sample - loss: 0.0325 - mean_absolute_error: 0.1428 - val_loss: 0.1750 - val_mean_absolute_error: 0.4041\n",
      "Epoch 65/100\n",
      "88/88 [==============================] - ETA: 0s - loss: 0.0258 - mean_absolute_error: 0.137 - 0s 251us/sample - loss: 0.0325 - mean_absolute_error: 0.1417 - val_loss: 0.1722 - val_mean_absolute_error: 0.4006\n",
      "Epoch 66/100\n",
      "88/88 [==============================] - ETA: 0s - loss: 0.0289 - mean_absolute_error: 0.131 - 0s 256us/sample - loss: 0.0329 - mean_absolute_error: 0.1425 - val_loss: 0.1694 - val_mean_absolute_error: 0.3971\n",
      "Epoch 67/100\n",
      "88/88 [==============================] - ETA: 0s - loss: 0.0331 - mean_absolute_error: 0.141 - 0s 288us/sample - loss: 0.0301 - mean_absolute_error: 0.1363 - val_loss: 0.1666 - val_mean_absolute_error: 0.3935\n",
      "Epoch 68/100\n",
      "88/88 [==============================] - ETA: 0s - loss: 0.0195 - mean_absolute_error: 0.107 - 0s 268us/sample - loss: 0.0311 - mean_absolute_error: 0.1382 - val_loss: 0.1638 - val_mean_absolute_error: 0.3899\n",
      "Epoch 69/100\n",
      "88/88 [==============================] - ETA: 0s - loss: 0.0311 - mean_absolute_error: 0.151 - 0s 259us/sample - loss: 0.0290 - mean_absolute_error: 0.1341 - val_loss: 0.1609 - val_mean_absolute_error: 0.3862\n",
      "Epoch 70/100\n",
      "88/88 [==============================] - ETA: 0s - loss: 0.0189 - mean_absolute_error: 0.101 - 0s 275us/sample - loss: 0.0296 - mean_absolute_error: 0.1316 - val_loss: 0.1582 - val_mean_absolute_error: 0.3826\n",
      "Epoch 71/100\n",
      "88/88 [==============================] - ETA: 0s - loss: 0.0236 - mean_absolute_error: 0.124 - 0s 255us/sample - loss: 0.0292 - mean_absolute_error: 0.1326 - val_loss: 0.1553 - val_mean_absolute_error: 0.3788\n",
      "Epoch 72/100\n",
      "88/88 [==============================] - ETA: 0s - loss: 0.0293 - mean_absolute_error: 0.133 - 0s 318us/sample - loss: 0.0278 - mean_absolute_error: 0.1304 - val_loss: 0.1525 - val_mean_absolute_error: 0.3750\n",
      "Epoch 73/100\n",
      "88/88 [==============================] - ETA: 0s - loss: 0.0426 - mean_absolute_error: 0.166 - 0s 263us/sample - loss: 0.0273 - mean_absolute_error: 0.1273 - val_loss: 0.1496 - val_mean_absolute_error: 0.3711\n",
      "Epoch 74/100\n",
      "88/88 [==============================] - ETA: 0s - loss: 0.0276 - mean_absolute_error: 0.133 - 0s 279us/sample - loss: 0.0279 - mean_absolute_error: 0.1292 - val_loss: 0.1467 - val_mean_absolute_error: 0.3672\n",
      "Epoch 75/100\n",
      "88/88 [==============================] - ETA: 0s - loss: 0.0248 - mean_absolute_error: 0.127 - 0s 285us/sample - loss: 0.0279 - mean_absolute_error: 0.1289 - val_loss: 0.1438 - val_mean_absolute_error: 0.3633\n",
      "Epoch 76/100\n",
      "88/88 [==============================] - ETA: 0s - loss: 0.0227 - mean_absolute_error: 0.114 - 0s 281us/sample - loss: 0.0238 - mean_absolute_error: 0.1172 - val_loss: 0.1409 - val_mean_absolute_error: 0.3592\n",
      "Epoch 77/100\n",
      "88/88 [==============================] - ETA: 0s - loss: 0.0339 - mean_absolute_error: 0.149 - 0s 286us/sample - loss: 0.0224 - mean_absolute_error: 0.1175 - val_loss: 0.1379 - val_mean_absolute_error: 0.3549\n",
      "Epoch 78/100\n",
      "88/88 [==============================] - ETA: 0s - loss: 0.0230 - mean_absolute_error: 0.117 - 0s 280us/sample - loss: 0.0245 - mean_absolute_error: 0.1158 - val_loss: 0.1349 - val_mean_absolute_error: 0.3505\n",
      "Epoch 79/100\n",
      "88/88 [==============================] - ETA: 0s - loss: 0.0179 - mean_absolute_error: 0.093 - 0s 285us/sample - loss: 0.0216 - mean_absolute_error: 0.1118 - val_loss: 0.1318 - val_mean_absolute_error: 0.3461\n",
      "Epoch 80/100\n",
      "88/88 [==============================] - ETA: 0s - loss: 0.0256 - mean_absolute_error: 0.123 - 0s 292us/sample - loss: 0.0241 - mean_absolute_error: 0.1171 - val_loss: 0.1286 - val_mean_absolute_error: 0.3415\n",
      "Epoch 81/100\n",
      "88/88 [==============================] - ETA: 0s - loss: 0.0188 - mean_absolute_error: 0.105 - 0s 296us/sample - loss: 0.0228 - mean_absolute_error: 0.1127 - val_loss: 0.1253 - val_mean_absolute_error: 0.3366\n",
      "Epoch 82/100\n",
      "88/88 [==============================] - ETA: 0s - loss: 0.0214 - mean_absolute_error: 0.109 - 0s 297us/sample - loss: 0.0195 - mean_absolute_error: 0.1069 - val_loss: 0.1221 - val_mean_absolute_error: 0.3317\n",
      "Epoch 83/100\n",
      "88/88 [==============================] - ETA: 0s - loss: 0.0263 - mean_absolute_error: 0.122 - 0s 252us/sample - loss: 0.0215 - mean_absolute_error: 0.1112 - val_loss: 0.1187 - val_mean_absolute_error: 0.3266\n",
      "Epoch 84/100\n",
      "88/88 [==============================] - ETA: 0s - loss: 0.0161 - mean_absolute_error: 0.090 - 0s 265us/sample - loss: 0.0190 - mean_absolute_error: 0.1047 - val_loss: 0.1154 - val_mean_absolute_error: 0.3214\n",
      "Epoch 85/100\n",
      "88/88 [==============================] - ETA: 0s - loss: 0.0207 - mean_absolute_error: 0.112 - 0s 259us/sample - loss: 0.0178 - mean_absolute_error: 0.1004 - val_loss: 0.1119 - val_mean_absolute_error: 0.3160\n"
     ]
    },
    {
     "name": "stdout",
     "output_type": "stream",
     "text": [
      "Epoch 86/100\n",
      "88/88 [==============================] - ETA: 0s - loss: 0.0133 - mean_absolute_error: 0.081 - 0s 274us/sample - loss: 0.0184 - mean_absolute_error: 0.1014 - val_loss: 0.1086 - val_mean_absolute_error: 0.3107\n",
      "Epoch 87/100\n",
      "88/88 [==============================] - ETA: 0s - loss: 0.0150 - mean_absolute_error: 0.088 - 0s 251us/sample - loss: 0.0166 - mean_absolute_error: 0.0972 - val_loss: 0.1052 - val_mean_absolute_error: 0.3052\n",
      "Epoch 88/100\n",
      "88/88 [==============================] - ETA: 0s - loss: 0.0168 - mean_absolute_error: 0.090 - 0s 237us/sample - loss: 0.0181 - mean_absolute_error: 0.1008 - val_loss: 0.1018 - val_mean_absolute_error: 0.2996\n",
      "Epoch 89/100\n",
      "88/88 [==============================] - ETA: 0s - loss: 0.0185 - mean_absolute_error: 0.095 - 0s 244us/sample - loss: 0.0160 - mean_absolute_error: 0.0945 - val_loss: 0.0984 - val_mean_absolute_error: 0.2940\n",
      "Epoch 90/100\n",
      "88/88 [==============================] - ETA: 0s - loss: 0.0198 - mean_absolute_error: 0.106 - 0s 254us/sample - loss: 0.0178 - mean_absolute_error: 0.1010 - val_loss: 0.0951 - val_mean_absolute_error: 0.2883\n",
      "Epoch 91/100\n",
      "88/88 [==============================] - ETA: 0s - loss: 0.0169 - mean_absolute_error: 0.102 - 0s 253us/sample - loss: 0.0153 - mean_absolute_error: 0.0927 - val_loss: 0.0918 - val_mean_absolute_error: 0.2825\n",
      "Epoch 92/100\n",
      "88/88 [==============================] - ETA: 0s - loss: 0.0200 - mean_absolute_error: 0.111 - 0s 253us/sample - loss: 0.0139 - mean_absolute_error: 0.0910 - val_loss: 0.0884 - val_mean_absolute_error: 0.2765\n",
      "Epoch 93/100\n",
      "88/88 [==============================] - ETA: 0s - loss: 0.0166 - mean_absolute_error: 0.098 - 0s 234us/sample - loss: 0.0147 - mean_absolute_error: 0.0927 - val_loss: 0.0848 - val_mean_absolute_error: 0.2701\n",
      "Epoch 94/100\n",
      "88/88 [==============================] - ETA: 0s - loss: 0.0133 - mean_absolute_error: 0.088 - 0s 237us/sample - loss: 0.0130 - mean_absolute_error: 0.0890 - val_loss: 0.0812 - val_mean_absolute_error: 0.2634\n",
      "Epoch 95/100\n",
      "88/88 [==============================] - ETA: 0s - loss: 0.0146 - mean_absolute_error: 0.087 - 0s 252us/sample - loss: 0.0155 - mean_absolute_error: 0.0918 - val_loss: 0.0776 - val_mean_absolute_error: 0.2566\n",
      "Epoch 96/100\n",
      "88/88 [==============================] - ETA: 0s - loss: 0.0170 - mean_absolute_error: 0.106 - 0s 259us/sample - loss: 0.0122 - mean_absolute_error: 0.0866 - val_loss: 0.0740 - val_mean_absolute_error: 0.2496\n",
      "Epoch 97/100\n",
      "88/88 [==============================] - ETA: 0s - loss: 0.0176 - mean_absolute_error: 0.098 - 0s 253us/sample - loss: 0.0132 - mean_absolute_error: 0.0882 - val_loss: 0.0705 - val_mean_absolute_error: 0.2426\n",
      "Epoch 98/100\n",
      "88/88 [==============================] - ETA: 0s - loss: 0.0080 - mean_absolute_error: 0.070 - 0s 255us/sample - loss: 0.0120 - mean_absolute_error: 0.0855 - val_loss: 0.0674 - val_mean_absolute_error: 0.2360\n",
      "Epoch 99/100\n",
      "88/88 [==============================] - ETA: 0s - loss: 0.0152 - mean_absolute_error: 0.103 - 0s 269us/sample - loss: 0.0124 - mean_absolute_error: 0.0889 - val_loss: 0.0643 - val_mean_absolute_error: 0.2295\n",
      "Epoch 100/100\n",
      "88/88 [==============================] - ETA: 0s - loss: 0.0099 - mean_absolute_error: 0.077 - 0s 281us/sample - loss: 0.0096 - mean_absolute_error: 0.0780 - val_loss: 0.0615 - val_mean_absolute_error: 0.2233\n",
      "Train on 88 samples, validate on 13 samples\n",
      "Epoch 1/100\n",
      "88/88 [==============================] - ETA: 1s - loss: 0.0862 - mean_absolute_error: 0.259 - 1s 10ms/sample - loss: 0.0885 - mean_absolute_error: 0.2610 - val_loss: 0.3594 - val_mean_absolute_error: 0.5895\n",
      "Epoch 2/100\n",
      "88/88 [==============================] - ETA: 0s - loss: 0.0967 - mean_absolute_error: 0.276 - 0s 334us/sample - loss: 0.0860 - mean_absolute_error: 0.2555 - val_loss: 0.3557 - val_mean_absolute_error: 0.5864\n",
      "Epoch 3/100\n",
      "88/88 [==============================] - ETA: 0s - loss: 0.0669 - mean_absolute_error: 0.228 - 0s 295us/sample - loss: 0.0852 - mean_absolute_error: 0.2554 - val_loss: 0.3523 - val_mean_absolute_error: 0.5835\n",
      "Epoch 4/100\n",
      "88/88 [==============================] - ETA: 0s - loss: 0.0601 - mean_absolute_error: 0.211 - 0s 242us/sample - loss: 0.0841 - mean_absolute_error: 0.2528 - val_loss: 0.3489 - val_mean_absolute_error: 0.5806\n",
      "Epoch 5/100\n",
      "88/88 [==============================] - ETA: 0s - loss: 0.0892 - mean_absolute_error: 0.263 - 0s 256us/sample - loss: 0.0837 - mean_absolute_error: 0.2517 - val_loss: 0.3455 - val_mean_absolute_error: 0.5776\n",
      "Epoch 6/100\n",
      "88/88 [==============================] - ETA: 0s - loss: 0.0719 - mean_absolute_error: 0.228 - 0s 237us/sample - loss: 0.0817 - mean_absolute_error: 0.2490 - val_loss: 0.3421 - val_mean_absolute_error: 0.5746\n",
      "Epoch 7/100\n",
      "88/88 [==============================] - ETA: 0s - loss: 0.0887 - mean_absolute_error: 0.256 - 0s 260us/sample - loss: 0.0815 - mean_absolute_error: 0.2480 - val_loss: 0.3389 - val_mean_absolute_error: 0.5718\n",
      "Epoch 8/100\n",
      "88/88 [==============================] - ETA: 0s - loss: 0.0918 - mean_absolute_error: 0.269 - 0s 245us/sample - loss: 0.0773 - mean_absolute_error: 0.2423 - val_loss: 0.3357 - val_mean_absolute_error: 0.5690\n",
      "Epoch 9/100\n",
      "88/88 [==============================] - ETA: 0s - loss: 0.0633 - mean_absolute_error: 0.207 - 0s 231us/sample - loss: 0.0774 - mean_absolute_error: 0.2410 - val_loss: 0.3324 - val_mean_absolute_error: 0.5661\n",
      "Epoch 10/100\n",
      "88/88 [==============================] - ETA: 0s - loss: 0.0553 - mean_absolute_error: 0.199 - 0s 237us/sample - loss: 0.0770 - mean_absolute_error: 0.2396 - val_loss: 0.3292 - val_mean_absolute_error: 0.5632\n",
      "Epoch 11/100\n",
      "88/88 [==============================] - ETA: 0s - loss: 0.0671 - mean_absolute_error: 0.226 - 0s 254us/sample - loss: 0.0767 - mean_absolute_error: 0.2376 - val_loss: 0.3259 - val_mean_absolute_error: 0.5603\n",
      "Epoch 12/100\n",
      "88/88 [==============================] - ETA: 0s - loss: 0.0458 - mean_absolute_error: 0.190 - 0s 235us/sample - loss: 0.0729 - mean_absolute_error: 0.2326 - val_loss: 0.3226 - val_mean_absolute_error: 0.5574\n",
      "Epoch 13/100\n",
      "88/88 [==============================] - ETA: 0s - loss: 0.0635 - mean_absolute_error: 0.224 - 0s 284us/sample - loss: 0.0736 - mean_absolute_error: 0.2330 - val_loss: 0.3194 - val_mean_absolute_error: 0.5545\n",
      "Epoch 14/100\n",
      "88/88 [==============================] - ETA: 0s - loss: 0.0729 - mean_absolute_error: 0.222 - 0s 251us/sample - loss: 0.0737 - mean_absolute_error: 0.2322 - val_loss: 0.3161 - val_mean_absolute_error: 0.5515\n",
      "Epoch 15/100\n",
      "88/88 [==============================] - ETA: 0s - loss: 0.0832 - mean_absolute_error: 0.235 - 0s 267us/sample - loss: 0.0714 - mean_absolute_error: 0.2287 - val_loss: 0.3128 - val_mean_absolute_error: 0.5485\n",
      "Epoch 16/100\n",
      "88/88 [==============================] - ETA: 0s - loss: 0.0574 - mean_absolute_error: 0.207 - 0s 242us/sample - loss: 0.0688 - mean_absolute_error: 0.2240 - val_loss: 0.3095 - val_mean_absolute_error: 0.5455\n",
      "Epoch 17/100\n",
      "88/88 [==============================] - ETA: 0s - loss: 0.0752 - mean_absolute_error: 0.233 - 0s 240us/sample - loss: 0.0701 - mean_absolute_error: 0.2251 - val_loss: 0.3061 - val_mean_absolute_error: 0.5424\n",
      "Epoch 18/100\n",
      "88/88 [==============================] - ETA: 0s - loss: 0.0761 - mean_absolute_error: 0.234 - 0s 256us/sample - loss: 0.0688 - mean_absolute_error: 0.2222 - val_loss: 0.3028 - val_mean_absolute_error: 0.5393\n",
      "Epoch 19/100\n",
      "88/88 [==============================] - ETA: 0s - loss: 0.0645 - mean_absolute_error: 0.215 - 0s 272us/sample - loss: 0.0679 - mean_absolute_error: 0.2208 - val_loss: 0.2995 - val_mean_absolute_error: 0.5362\n",
      "Epoch 20/100\n",
      "88/88 [==============================] - ETA: 0s - loss: 0.0780 - mean_absolute_error: 0.236 - 0s 241us/sample - loss: 0.0673 - mean_absolute_error: 0.2195 - val_loss: 0.2962 - val_mean_absolute_error: 0.5331\n",
      "Epoch 21/100\n",
      "88/88 [==============================] - ETA: 0s - loss: 0.0737 - mean_absolute_error: 0.227 - 0s 254us/sample - loss: 0.0643 - mean_absolute_error: 0.2143 - val_loss: 0.2929 - val_mean_absolute_error: 0.5300\n",
      "Epoch 22/100\n",
      "88/88 [==============================] - ETA: 0s - loss: 0.0690 - mean_absolute_error: 0.218 - 0s 232us/sample - loss: 0.0645 - mean_absolute_error: 0.2149 - val_loss: 0.2896 - val_mean_absolute_error: 0.5269\n"
     ]
    },
    {
     "name": "stdout",
     "output_type": "stream",
     "text": [
      "Epoch 23/100\n",
      "88/88 [==============================] - ETA: 0s - loss: 0.0611 - mean_absolute_error: 0.210 - 0s 243us/sample - loss: 0.0626 - mean_absolute_error: 0.2113 - val_loss: 0.2863 - val_mean_absolute_error: 0.5237\n",
      "Epoch 24/100\n",
      "88/88 [==============================] - ETA: 0s - loss: 0.0835 - mean_absolute_error: 0.241 - 0s 239us/sample - loss: 0.0616 - mean_absolute_error: 0.2090 - val_loss: 0.2830 - val_mean_absolute_error: 0.5206\n",
      "Epoch 25/100\n",
      "88/88 [==============================] - ETA: 0s - loss: 0.0499 - mean_absolute_error: 0.182 - 0s 267us/sample - loss: 0.0595 - mean_absolute_error: 0.2053 - val_loss: 0.2798 - val_mean_absolute_error: 0.5175\n",
      "Epoch 26/100\n",
      "88/88 [==============================] - ETA: 0s - loss: 0.0665 - mean_absolute_error: 0.208 - 0s 258us/sample - loss: 0.0594 - mean_absolute_error: 0.2036 - val_loss: 0.2765 - val_mean_absolute_error: 0.5143\n",
      "Epoch 27/100\n",
      "88/88 [==============================] - ETA: 0s - loss: 0.0386 - mean_absolute_error: 0.163 - 0s 255us/sample - loss: 0.0586 - mean_absolute_error: 0.2024 - val_loss: 0.2733 - val_mean_absolute_error: 0.5112\n",
      "Epoch 28/100\n",
      "88/88 [==============================] - ETA: 0s - loss: 0.0538 - mean_absolute_error: 0.188 - 0s 238us/sample - loss: 0.0588 - mean_absolute_error: 0.2023 - val_loss: 0.2701 - val_mean_absolute_error: 0.5081\n",
      "Epoch 29/100\n",
      "88/88 [==============================] - ETA: 0s - loss: 0.0617 - mean_absolute_error: 0.207 - 0s 249us/sample - loss: 0.0566 - mean_absolute_error: 0.1981 - val_loss: 0.2669 - val_mean_absolute_error: 0.5049\n",
      "Epoch 30/100\n",
      "88/88 [==============================] - ETA: 0s - loss: 0.0649 - mean_absolute_error: 0.213 - 0s 248us/sample - loss: 0.0565 - mean_absolute_error: 0.1974 - val_loss: 0.2637 - val_mean_absolute_error: 0.5017\n",
      "Epoch 31/100\n",
      "88/88 [==============================] - ETA: 0s - loss: 0.0516 - mean_absolute_error: 0.191 - 0s 253us/sample - loss: 0.0550 - mean_absolute_error: 0.1941 - val_loss: 0.2606 - val_mean_absolute_error: 0.4985\n",
      "Epoch 32/100\n",
      "88/88 [==============================] - ETA: 0s - loss: 0.0648 - mean_absolute_error: 0.203 - 0s 238us/sample - loss: 0.0539 - mean_absolute_error: 0.1915 - val_loss: 0.2574 - val_mean_absolute_error: 0.4954\n",
      "Epoch 33/100\n",
      "88/88 [==============================] - ETA: 0s - loss: 0.0550 - mean_absolute_error: 0.192 - 0s 245us/sample - loss: 0.0520 - mean_absolute_error: 0.1895 - val_loss: 0.2543 - val_mean_absolute_error: 0.4921\n",
      "Epoch 34/100\n",
      "88/88 [==============================] - ETA: 0s - loss: 0.0474 - mean_absolute_error: 0.177 - 0s 250us/sample - loss: 0.0524 - mean_absolute_error: 0.1891 - val_loss: 0.2511 - val_mean_absolute_error: 0.4889\n",
      "Epoch 35/100\n",
      "88/88 [==============================] - ETA: 0s - loss: 0.0715 - mean_absolute_error: 0.223 - 0s 275us/sample - loss: 0.0523 - mean_absolute_error: 0.1873 - val_loss: 0.2479 - val_mean_absolute_error: 0.4857\n",
      "Epoch 36/100\n",
      "88/88 [==============================] - ETA: 0s - loss: 0.0612 - mean_absolute_error: 0.198 - 0s 246us/sample - loss: 0.0521 - mean_absolute_error: 0.1863 - val_loss: 0.2448 - val_mean_absolute_error: 0.4824\n",
      "Epoch 37/100\n",
      "88/88 [==============================] - ETA: 0s - loss: 0.0550 - mean_absolute_error: 0.195 - 0s 245us/sample - loss: 0.0499 - mean_absolute_error: 0.1832 - val_loss: 0.2417 - val_mean_absolute_error: 0.4792\n",
      "Epoch 38/100\n",
      "88/88 [==============================] - ETA: 0s - loss: 0.0430 - mean_absolute_error: 0.173 - 0s 246us/sample - loss: 0.0479 - mean_absolute_error: 0.1783 - val_loss: 0.2386 - val_mean_absolute_error: 0.4760\n",
      "Epoch 39/100\n",
      "88/88 [==============================] - ETA: 0s - loss: 0.0482 - mean_absolute_error: 0.175 - 0s 259us/sample - loss: 0.0467 - mean_absolute_error: 0.1755 - val_loss: 0.2355 - val_mean_absolute_error: 0.4727\n",
      "Epoch 40/100\n",
      "88/88 [==============================] - ETA: 0s - loss: 0.0294 - mean_absolute_error: 0.133 - 0s 237us/sample - loss: 0.0469 - mean_absolute_error: 0.1763 - val_loss: 0.2325 - val_mean_absolute_error: 0.4694\n",
      "Epoch 41/100\n",
      "88/88 [==============================] - ETA: 0s - loss: 0.0341 - mean_absolute_error: 0.156 - 0s 255us/sample - loss: 0.0453 - mean_absolute_error: 0.1723 - val_loss: 0.2294 - val_mean_absolute_error: 0.4661\n",
      "Epoch 42/100\n",
      "88/88 [==============================] - ETA: 0s - loss: 0.0354 - mean_absolute_error: 0.151 - 0s 234us/sample - loss: 0.0453 - mean_absolute_error: 0.1729 - val_loss: 0.2263 - val_mean_absolute_error: 0.4627\n",
      "Epoch 43/100\n",
      "88/88 [==============================] - ETA: 0s - loss: 0.0438 - mean_absolute_error: 0.163 - 0s 268us/sample - loss: 0.0447 - mean_absolute_error: 0.1693 - val_loss: 0.2231 - val_mean_absolute_error: 0.4593\n",
      "Epoch 44/100\n",
      "88/88 [==============================] - ETA: 0s - loss: 0.0467 - mean_absolute_error: 0.174 - 0s 240us/sample - loss: 0.0431 - mean_absolute_error: 0.1660 - val_loss: 0.2200 - val_mean_absolute_error: 0.4559\n",
      "Epoch 45/100\n",
      "88/88 [==============================] - ETA: 0s - loss: 0.0323 - mean_absolute_error: 0.146 - 0s 263us/sample - loss: 0.0419 - mean_absolute_error: 0.1660 - val_loss: 0.2169 - val_mean_absolute_error: 0.4525\n",
      "Epoch 46/100\n",
      "88/88 [==============================] - ETA: 0s - loss: 0.0496 - mean_absolute_error: 0.173 - 0s 259us/sample - loss: 0.0425 - mean_absolute_error: 0.1639 - val_loss: 0.2137 - val_mean_absolute_error: 0.4490\n",
      "Epoch 47/100\n",
      "88/88 [==============================] - ETA: 0s - loss: 0.0301 - mean_absolute_error: 0.141 - 0s 263us/sample - loss: 0.0413 - mean_absolute_error: 0.1613 - val_loss: 0.2106 - val_mean_absolute_error: 0.4455\n",
      "Epoch 48/100\n",
      "88/88 [==============================] - ETA: 0s - loss: 0.0461 - mean_absolute_error: 0.176 - 0s 237us/sample - loss: 0.0397 - mean_absolute_error: 0.1578 - val_loss: 0.2075 - val_mean_absolute_error: 0.4419\n",
      "Epoch 49/100\n",
      "88/88 [==============================] - ETA: 0s - loss: 0.0374 - mean_absolute_error: 0.150 - 0s 237us/sample - loss: 0.0388 - mean_absolute_error: 0.1548 - val_loss: 0.2044 - val_mean_absolute_error: 0.4383\n",
      "Epoch 50/100\n",
      "88/88 [==============================] - ETA: 0s - loss: 0.0343 - mean_absolute_error: 0.145 - 0s 245us/sample - loss: 0.0388 - mean_absolute_error: 0.1554 - val_loss: 0.2012 - val_mean_absolute_error: 0.4347\n",
      "Epoch 51/100\n",
      "88/88 [==============================] - ETA: 0s - loss: 0.0442 - mean_absolute_error: 0.163 - 0s 259us/sample - loss: 0.0362 - mean_absolute_error: 0.1502 - val_loss: 0.1980 - val_mean_absolute_error: 0.4310\n",
      "Epoch 52/100\n",
      "88/88 [==============================] - ETA: 0s - loss: 0.0347 - mean_absolute_error: 0.143 - 0s 229us/sample - loss: 0.0369 - mean_absolute_error: 0.1513 - val_loss: 0.1948 - val_mean_absolute_error: 0.4273\n",
      "Epoch 53/100\n",
      "88/88 [==============================] - ETA: 0s - loss: 0.0425 - mean_absolute_error: 0.171 - 0s 260us/sample - loss: 0.0355 - mean_absolute_error: 0.1493 - val_loss: 0.1917 - val_mean_absolute_error: 0.4235\n",
      "Epoch 54/100\n",
      "88/88 [==============================] - ETA: 0s - loss: 0.0359 - mean_absolute_error: 0.145 - 0s 236us/sample - loss: 0.0342 - mean_absolute_error: 0.1444 - val_loss: 0.1885 - val_mean_absolute_error: 0.4197\n",
      "Epoch 55/100\n",
      "88/88 [==============================] - ETA: 0s - loss: 0.0342 - mean_absolute_error: 0.134 - 0s 280us/sample - loss: 0.0331 - mean_absolute_error: 0.1414 - val_loss: 0.1853 - val_mean_absolute_error: 0.4159\n",
      "Epoch 56/100\n",
      "88/88 [==============================] - ETA: 0s - loss: 0.0342 - mean_absolute_error: 0.142 - 0s 266us/sample - loss: 0.0330 - mean_absolute_error: 0.1420 - val_loss: 0.1821 - val_mean_absolute_error: 0.4121\n",
      "Epoch 57/100\n",
      "88/88 [==============================] - ETA: 0s - loss: 0.0395 - mean_absolute_error: 0.158 - 0s 255us/sample - loss: 0.0325 - mean_absolute_error: 0.1408 - val_loss: 0.1789 - val_mean_absolute_error: 0.4081\n",
      "Epoch 58/100\n",
      "88/88 [==============================] - ETA: 0s - loss: 0.0342 - mean_absolute_error: 0.155 - 0s 256us/sample - loss: 0.0338 - mean_absolute_error: 0.1435 - val_loss: 0.1757 - val_mean_absolute_error: 0.4042\n",
      "Epoch 59/100\n",
      "88/88 [==============================] - ETA: 0s - loss: 0.0371 - mean_absolute_error: 0.149 - 0s 241us/sample - loss: 0.0296 - mean_absolute_error: 0.1339 - val_loss: 0.1725 - val_mean_absolute_error: 0.4002\n"
     ]
    },
    {
     "name": "stdout",
     "output_type": "stream",
     "text": [
      "Epoch 60/100\n",
      "88/88 [==============================] - ETA: 0s - loss: 0.0301 - mean_absolute_error: 0.133 - 0s 244us/sample - loss: 0.0296 - mean_absolute_error: 0.1332 - val_loss: 0.1694 - val_mean_absolute_error: 0.3962\n",
      "Epoch 61/100\n",
      "88/88 [==============================] - ETA: 0s - loss: 0.0357 - mean_absolute_error: 0.150 - 0s 247us/sample - loss: 0.0290 - mean_absolute_error: 0.1315 - val_loss: 0.1661 - val_mean_absolute_error: 0.3921\n",
      "Epoch 62/100\n",
      "88/88 [==============================] - ETA: 0s - loss: 0.0330 - mean_absolute_error: 0.126 - 0s 235us/sample - loss: 0.0289 - mean_absolute_error: 0.1266 - val_loss: 0.1629 - val_mean_absolute_error: 0.3879\n",
      "Epoch 63/100\n",
      "88/88 [==============================] - ETA: 0s - loss: 0.0254 - mean_absolute_error: 0.112 - 0s 242us/sample - loss: 0.0260 - mean_absolute_error: 0.1229 - val_loss: 0.1596 - val_mean_absolute_error: 0.3836\n",
      "Epoch 64/100\n",
      "88/88 [==============================] - ETA: 0s - loss: 0.0322 - mean_absolute_error: 0.137 - 0s 248us/sample - loss: 0.0266 - mean_absolute_error: 0.1239 - val_loss: 0.1562 - val_mean_absolute_error: 0.3791\n",
      "Epoch 65/100\n",
      "88/88 [==============================] - ETA: 0s - loss: 0.0328 - mean_absolute_error: 0.142 - 0s 246us/sample - loss: 0.0256 - mean_absolute_error: 0.1210 - val_loss: 0.1528 - val_mean_absolute_error: 0.3745\n",
      "Epoch 66/100\n",
      "88/88 [==============================] - ETA: 0s - loss: 0.0306 - mean_absolute_error: 0.138 - 0s 219us/sample - loss: 0.0250 - mean_absolute_error: 0.1207 - val_loss: 0.1494 - val_mean_absolute_error: 0.3700\n",
      "Epoch 67/100\n",
      "88/88 [==============================] - ETA: 0s - loss: 0.0308 - mean_absolute_error: 0.137 - 0s 249us/sample - loss: 0.0239 - mean_absolute_error: 0.1184 - val_loss: 0.1460 - val_mean_absolute_error: 0.3653\n",
      "Epoch 68/100\n",
      "88/88 [==============================] - ETA: 0s - loss: 0.0299 - mean_absolute_error: 0.127 - 0s 234us/sample - loss: 0.0243 - mean_absolute_error: 0.1167 - val_loss: 0.1426 - val_mean_absolute_error: 0.3605\n",
      "Epoch 69/100\n",
      "88/88 [==============================] - ETA: 0s - loss: 0.0218 - mean_absolute_error: 0.101 - 0s 282us/sample - loss: 0.0223 - mean_absolute_error: 0.1094 - val_loss: 0.1391 - val_mean_absolute_error: 0.3557\n",
      "Epoch 70/100\n",
      "88/88 [==============================] - ETA: 0s - loss: 0.0166 - mean_absolute_error: 0.090 - 0s 256us/sample - loss: 0.0231 - mean_absolute_error: 0.1116 - val_loss: 0.1358 - val_mean_absolute_error: 0.3509\n",
      "Epoch 71/100\n",
      "88/88 [==============================] - ETA: 0s - loss: 0.0285 - mean_absolute_error: 0.125 - 0s 256us/sample - loss: 0.0206 - mean_absolute_error: 0.1057 - val_loss: 0.1323 - val_mean_absolute_error: 0.3459\n",
      "Epoch 72/100\n",
      "88/88 [==============================] - ETA: 0s - loss: 0.0181 - mean_absolute_error: 0.098 - 0s 255us/sample - loss: 0.0200 - mean_absolute_error: 0.1063 - val_loss: 0.1290 - val_mean_absolute_error: 0.3410\n",
      "Epoch 73/100\n",
      "88/88 [==============================] - ETA: 0s - loss: 0.0190 - mean_absolute_error: 0.107 - 0s 262us/sample - loss: 0.0202 - mean_absolute_error: 0.1073 - val_loss: 0.1256 - val_mean_absolute_error: 0.3360\n",
      "Epoch 74/100\n",
      "88/88 [==============================] - ETA: 0s - loss: 0.0243 - mean_absolute_error: 0.121 - 0s 266us/sample - loss: 0.0200 - mean_absolute_error: 0.1069 - val_loss: 0.1222 - val_mean_absolute_error: 0.3310\n",
      "Epoch 75/100\n",
      "88/88 [==============================] - ETA: 0s - loss: 0.0165 - mean_absolute_error: 0.098 - 0s 245us/sample - loss: 0.0194 - mean_absolute_error: 0.1053 - val_loss: 0.1190 - val_mean_absolute_error: 0.3260\n",
      "Epoch 76/100\n",
      "88/88 [==============================] - ETA: 0s - loss: 0.0174 - mean_absolute_error: 0.101 - 0s 255us/sample - loss: 0.0186 - mean_absolute_error: 0.1012 - val_loss: 0.1157 - val_mean_absolute_error: 0.3210\n",
      "Epoch 77/100\n",
      "88/88 [==============================] - ETA: 0s - loss: 0.0245 - mean_absolute_error: 0.109 - 0s 261us/sample - loss: 0.0175 - mean_absolute_error: 0.0962 - val_loss: 0.1124 - val_mean_absolute_error: 0.3158\n",
      "Epoch 78/100\n",
      "88/88 [==============================] - ETA: 0s - loss: 0.0203 - mean_absolute_error: 0.111 - 0s 244us/sample - loss: 0.0168 - mean_absolute_error: 0.1004 - val_loss: 0.1092 - val_mean_absolute_error: 0.3107\n",
      "Epoch 79/100\n",
      "88/88 [==============================] - ETA: 0s - loss: 0.0211 - mean_absolute_error: 0.109 - 0s 252us/sample - loss: 0.0176 - mean_absolute_error: 0.0967 - val_loss: 0.1060 - val_mean_absolute_error: 0.3055\n",
      "Epoch 80/100\n",
      "88/88 [==============================] - ETA: 0s - loss: 0.0207 - mean_absolute_error: 0.103 - 0s 276us/sample - loss: 0.0158 - mean_absolute_error: 0.0942 - val_loss: 0.1029 - val_mean_absolute_error: 0.3004\n",
      "Epoch 81/100\n",
      "88/88 [==============================] - ETA: 0s - loss: 0.0203 - mean_absolute_error: 0.107 - 0s 316us/sample - loss: 0.0139 - mean_absolute_error: 0.0895 - val_loss: 0.1000 - val_mean_absolute_error: 0.2955\n",
      "Epoch 82/100\n",
      "88/88 [==============================] - ETA: 0s - loss: 0.0160 - mean_absolute_error: 0.101 - 0s 249us/sample - loss: 0.0151 - mean_absolute_error: 0.0910 - val_loss: 0.0971 - val_mean_absolute_error: 0.2905\n",
      "Epoch 83/100\n",
      "88/88 [==============================] - ETA: 0s - loss: 0.0129 - mean_absolute_error: 0.091 - 0s 264us/sample - loss: 0.0160 - mean_absolute_error: 0.0931 - val_loss: 0.0943 - val_mean_absolute_error: 0.2856\n",
      "Epoch 84/100\n",
      "88/88 [==============================] - ETA: 0s - loss: 0.0177 - mean_absolute_error: 0.100 - 0s 247us/sample - loss: 0.0135 - mean_absolute_error: 0.0880 - val_loss: 0.0915 - val_mean_absolute_error: 0.2807\n",
      "Epoch 85/100\n",
      "88/88 [==============================] - ETA: 0s - loss: 0.0155 - mean_absolute_error: 0.088 - 0s 254us/sample - loss: 0.0133 - mean_absolute_error: 0.0860 - val_loss: 0.0888 - val_mean_absolute_error: 0.2760\n",
      "Epoch 86/100\n",
      "88/88 [==============================] - ETA: 0s - loss: 0.0195 - mean_absolute_error: 0.098 - 0s 259us/sample - loss: 0.0132 - mean_absolute_error: 0.0829 - val_loss: 0.0862 - val_mean_absolute_error: 0.2712\n",
      "Epoch 87/100\n",
      "88/88 [==============================] - ETA: 0s - loss: 0.0152 - mean_absolute_error: 0.082 - 0s 245us/sample - loss: 0.0141 - mean_absolute_error: 0.0857 - val_loss: 0.0836 - val_mean_absolute_error: 0.2664\n",
      "Epoch 88/100\n",
      "88/88 [==============================] - ETA: 0s - loss: 0.0175 - mean_absolute_error: 0.094 - 0s 259us/sample - loss: 0.0143 - mean_absolute_error: 0.0896 - val_loss: 0.0810 - val_mean_absolute_error: 0.2616\n",
      "Epoch 89/100\n",
      "88/88 [==============================] - ETA: 0s - loss: 0.0084 - mean_absolute_error: 0.066 - 0s 239us/sample - loss: 0.0108 - mean_absolute_error: 0.0795 - val_loss: 0.0787 - val_mean_absolute_error: 0.2570\n",
      "Epoch 90/100\n",
      "88/88 [==============================] - ETA: 0s - loss: 0.0065 - mean_absolute_error: 0.063 - 0s 267us/sample - loss: 0.0123 - mean_absolute_error: 0.0843 - val_loss: 0.0763 - val_mean_absolute_error: 0.2524\n",
      "Epoch 91/100\n",
      "88/88 [==============================] - ETA: 0s - loss: 0.0123 - mean_absolute_error: 0.087 - 0s 271us/sample - loss: 0.0113 - mean_absolute_error: 0.0814 - val_loss: 0.0739 - val_mean_absolute_error: 0.2476\n",
      "Epoch 92/100\n",
      "88/88 [==============================] - ETA: 0s - loss: 0.0074 - mean_absolute_error: 0.059 - 0s 270us/sample - loss: 0.0118 - mean_absolute_error: 0.0792 - val_loss: 0.0716 - val_mean_absolute_error: 0.2431\n",
      "Epoch 93/100\n",
      "88/88 [==============================] - ETA: 0s - loss: 0.0059 - mean_absolute_error: 0.061 - 0s 235us/sample - loss: 0.0107 - mean_absolute_error: 0.0784 - val_loss: 0.0695 - val_mean_absolute_error: 0.2387\n",
      "Epoch 94/100\n",
      "88/88 [==============================] - ETA: 0s - loss: 0.0122 - mean_absolute_error: 0.081 - 0s 252us/sample - loss: 0.0115 - mean_absolute_error: 0.0784 - val_loss: 0.0674 - val_mean_absolute_error: 0.2343\n",
      "Epoch 95/100\n",
      "88/88 [==============================] - ETA: 0s - loss: 0.0126 - mean_absolute_error: 0.093 - 0s 246us/sample - loss: 0.0123 - mean_absolute_error: 0.0849 - val_loss: 0.0653 - val_mean_absolute_error: 0.2298\n",
      "Epoch 96/100\n",
      "88/88 [==============================] - ETA: 0s - loss: 0.0106 - mean_absolute_error: 0.081 - 0s 265us/sample - loss: 0.0101 - mean_absolute_error: 0.0777 - val_loss: 0.0632 - val_mean_absolute_error: 0.2252\n"
     ]
    },
    {
     "name": "stdout",
     "output_type": "stream",
     "text": [
      "Epoch 97/100\n",
      "88/88 [==============================] - ETA: 0s - loss: 0.0086 - mean_absolute_error: 0.073 - 0s 257us/sample - loss: 0.0093 - mean_absolute_error: 0.0742 - val_loss: 0.0613 - val_mean_absolute_error: 0.2209\n",
      "Epoch 98/100\n",
      "88/88 [==============================] - ETA: 0s - loss: 0.0115 - mean_absolute_error: 0.079 - 0s 257us/sample - loss: 0.0098 - mean_absolute_error: 0.0789 - val_loss: 0.0594 - val_mean_absolute_error: 0.2166\n",
      "Epoch 99/100\n",
      "88/88 [==============================] - ETA: 0s - loss: 0.0081 - mean_absolute_error: 0.065 - 0s 248us/sample - loss: 0.0094 - mean_absolute_error: 0.0730 - val_loss: 0.0576 - val_mean_absolute_error: 0.2124\n",
      "Epoch 100/100\n",
      "88/88 [==============================] - ETA: 0s - loss: 0.0078 - mean_absolute_error: 0.072 - 0s 289us/sample - loss: 0.0086 - mean_absolute_error: 0.0716 - val_loss: 0.0560 - val_mean_absolute_error: 0.2087\n"
     ]
    },
    {
     "data": {
      "text/html": [
       "<span style=\"color:#4527A0\"><h1 style=\"font-size:18px\">Trial complete</h1></span>"
      ],
      "text/plain": [
       "<IPython.core.display.HTML object>"
      ]
     },
     "metadata": {},
     "output_type": "display_data"
    },
    {
     "data": {
      "text/html": [
       "<span style=\"color:#4527A0\"><h1 style=\"font-size:18px\">Trial summary</h1></span>"
      ],
      "text/plain": [
       "<IPython.core.display.HTML object>"
      ]
     },
     "metadata": {},
     "output_type": "display_data"
    },
    {
     "data": {
      "text/html": [
       "<span style=\"color:cyan\"> |-Trial ID: dd17cb7f62c46b4b92d2425c9f2b4395</span>"
      ],
      "text/plain": [
       "<IPython.core.display.HTML object>"
      ]
     },
     "metadata": {},
     "output_type": "display_data"
    },
    {
     "data": {
      "text/html": [
       "<span style=\"color:cyan\"> |-Score: 0.2044621706008911</span>"
      ],
      "text/plain": [
       "<IPython.core.display.HTML object>"
      ]
     },
     "metadata": {},
     "output_type": "display_data"
    },
    {
     "data": {
      "text/html": [
       "<span style=\"color:cyan\"> |-Best step: 0</span>"
      ],
      "text/plain": [
       "<IPython.core.display.HTML object>"
      ]
     },
     "metadata": {},
     "output_type": "display_data"
    },
    {
     "data": {
      "text/html": [
       "<span style=\"color:#7E57C2\"><h2 style=\"font-size:16px\">Hyperparameters:</h2></span>"
      ],
      "text/plain": [
       "<IPython.core.display.HTML object>"
      ]
     },
     "metadata": {},
     "output_type": "display_data"
    },
    {
     "data": {
      "text/html": [
       "<span style=\"color:cyan\"> |-dense_0_units: 23</span>"
      ],
      "text/plain": [
       "<IPython.core.display.HTML object>"
      ]
     },
     "metadata": {},
     "output_type": "display_data"
    },
    {
     "data": {
      "text/html": [
       "<span style=\"color:blue\"> |-drop_rate_0: 0.1</span>"
      ],
      "text/plain": [
       "<IPython.core.display.HTML object>"
      ]
     },
     "metadata": {},
     "output_type": "display_data"
    },
    {
     "data": {
      "text/html": [
       "<span style=\"color:cyan\"> |-dropout_layers: 1</span>"
      ],
      "text/plain": [
       "<IPython.core.display.HTML object>"
      ]
     },
     "metadata": {},
     "output_type": "display_data"
    },
    {
     "data": {
      "text/html": [
       "<span style=\"color:blue\"> |-input_units: 23</span>"
      ],
      "text/plain": [
       "<IPython.core.display.HTML object>"
      ]
     },
     "metadata": {},
     "output_type": "display_data"
    },
    {
     "data": {
      "text/html": [
       "<span style=\"color:cyan\"> |-learning_rate: 0.0001</span>"
      ],
      "text/plain": [
       "<IPython.core.display.HTML object>"
      ]
     },
     "metadata": {},
     "output_type": "display_data"
    },
    {
     "data": {
      "text/html": [
       "<span style=\"color:blue\"> |-n_layers: 1</span>"
      ],
      "text/plain": [
       "<IPython.core.display.HTML object>"
      ]
     },
     "metadata": {},
     "output_type": "display_data"
    },
    {
     "name": "stdout",
     "output_type": "stream",
     "text": [
      "Train on 88 samples, validate on 13 samples\n",
      "Epoch 1/100\n",
      "88/88 [==============================] - ETA: 1s - loss: 0.0887 - mean_absolute_error: 0.257 - 1s 10ms/sample - loss: 0.0882 - mean_absolute_error: 0.2598 - val_loss: 0.3430 - val_mean_absolute_error: 0.5758\n",
      "Epoch 2/100\n",
      "88/88 [==============================] - ETA: 0s - loss: 0.0933 - mean_absolute_error: 0.266 - 0s 361us/sample - loss: 0.0757 - mean_absolute_error: 0.2379 - val_loss: 0.3061 - val_mean_absolute_error: 0.5427\n",
      "Epoch 3/100\n",
      "88/88 [==============================] - ETA: 0s - loss: 0.0934 - mean_absolute_error: 0.270 - 0s 359us/sample - loss: 0.0678 - mean_absolute_error: 0.2230 - val_loss: 0.2847 - val_mean_absolute_error: 0.5225\n",
      "Epoch 4/100\n",
      "88/88 [==============================] - ETA: 0s - loss: 0.0590 - mean_absolute_error: 0.213 - 0s 310us/sample - loss: 0.0612 - mean_absolute_error: 0.2097 - val_loss: 0.2635 - val_mean_absolute_error: 0.5018\n",
      "Epoch 5/100\n",
      "88/88 [==============================] - ETA: 0s - loss: 0.0408 - mean_absolute_error: 0.162 - 0s 342us/sample - loss: 0.0543 - mean_absolute_error: 0.1943 - val_loss: 0.2424 - val_mean_absolute_error: 0.4801\n",
      "Epoch 6/100\n",
      "88/88 [==============================] - ETA: 0s - loss: 0.0539 - mean_absolute_error: 0.197 - 0s 333us/sample - loss: 0.0472 - mean_absolute_error: 0.1776 - val_loss: 0.2155 - val_mean_absolute_error: 0.4511\n",
      "Epoch 7/100\n",
      "88/88 [==============================] - ETA: 0s - loss: 0.0556 - mean_absolute_error: 0.206 - 0s 321us/sample - loss: 0.0395 - mean_absolute_error: 0.1592 - val_loss: 0.1845 - val_mean_absolute_error: 0.4153\n",
      "Epoch 8/100\n",
      "88/88 [==============================] - ETA: 0s - loss: 0.0352 - mean_absolute_error: 0.150 - 0s 328us/sample - loss: 0.0315 - mean_absolute_error: 0.1387 - val_loss: 0.1533 - val_mean_absolute_error: 0.3757\n",
      "Epoch 9/100\n",
      "88/88 [==============================] - ETA: 0s - loss: 0.0346 - mean_absolute_error: 0.137 - 0s 330us/sample - loss: 0.0242 - mean_absolute_error: 0.1188 - val_loss: 0.1221 - val_mean_absolute_error: 0.3314\n",
      "Epoch 10/100\n",
      "88/88 [==============================] - ETA: 0s - loss: 0.0152 - mean_absolute_error: 0.082 - 0s 328us/sample - loss: 0.0173 - mean_absolute_error: 0.0991 - val_loss: 0.0910 - val_mean_absolute_error: 0.2804\n",
      "Epoch 11/100\n",
      "88/88 [==============================] - ETA: 0s - loss: 0.0113 - mean_absolute_error: 0.083 - 0s 368us/sample - loss: 0.0125 - mean_absolute_error: 0.0868 - val_loss: 0.0606 - val_mean_absolute_error: 0.2191\n",
      "Epoch 12/100\n",
      "88/88 [==============================] - ETA: 0s - loss: 0.0135 - mean_absolute_error: 0.092 - 0s 350us/sample - loss: 0.0096 - mean_absolute_error: 0.0788 - val_loss: 0.0372 - val_mean_absolute_error: 0.1585\n",
      "Epoch 13/100\n",
      "88/88 [==============================] - ETA: 0s - loss: 0.0072 - mean_absolute_error: 0.072 - 0s 344us/sample - loss: 0.0084 - mean_absolute_error: 0.0757 - val_loss: 0.0253 - val_mean_absolute_error: 0.1225\n",
      "Epoch 14/100\n",
      "88/88 [==============================] - ETA: 0s - loss: 0.0084 - mean_absolute_error: 0.076 - 0s 403us/sample - loss: 0.0081 - mean_absolute_error: 0.0745 - val_loss: 0.0220 - val_mean_absolute_error: 0.1128\n",
      "Epoch 15/100\n",
      "88/88 [==============================] - ETA: 0s - loss: 0.0062 - mean_absolute_error: 0.064 - 0s 258us/sample - loss: 0.0070 - mean_absolute_error: 0.0689 - val_loss: 0.0243 - val_mean_absolute_error: 0.1195\n",
      "Epoch 16/100\n",
      "88/88 [==============================] - ETA: 0s - loss: 0.0057 - mean_absolute_error: 0.061 - 0s 252us/sample - loss: 0.0062 - mean_absolute_error: 0.0623 - val_loss: 0.0269 - val_mean_absolute_error: 0.1275\n",
      "Epoch 17/100\n",
      "88/88 [==============================] - ETA: 0s - loss: 0.0053 - mean_absolute_error: 0.057 - 0s 262us/sample - loss: 0.0060 - mean_absolute_error: 0.0596 - val_loss: 0.0230 - val_mean_absolute_error: 0.1160\n",
      "Epoch 18/100\n",
      "88/88 [==============================] - ETA: 0s - loss: 0.0073 - mean_absolute_error: 0.063 - 0s 352us/sample - loss: 0.0054 - mean_absolute_error: 0.0568 - val_loss: 0.0174 - val_mean_absolute_error: 0.1036\n",
      "Epoch 19/100\n",
      "88/88 [==============================] - ETA: 0s - loss: 0.0047 - mean_absolute_error: 0.057 - 0s 356us/sample - loss: 0.0049 - mean_absolute_error: 0.0561 - val_loss: 0.0149 - val_mean_absolute_error: 0.0968\n",
      "Epoch 20/100\n",
      "88/88 [==============================] - ETA: 0s - loss: 0.0044 - mean_absolute_error: 0.054 - 0s 325us/sample - loss: 0.0046 - mean_absolute_error: 0.0542 - val_loss: 0.0149 - val_mean_absolute_error: 0.0965\n",
      "Epoch 21/100\n",
      "88/88 [==============================] - ETA: 0s - loss: 0.0052 - mean_absolute_error: 0.059 - 0s 359us/sample - loss: 0.0043 - mean_absolute_error: 0.0517 - val_loss: 0.0149 - val_mean_absolute_error: 0.0960\n",
      "Epoch 22/100\n",
      "88/88 [==============================] - ETA: 0s - loss: 0.0034 - mean_absolute_error: 0.047 - 0s 295us/sample - loss: 0.0042 - mean_absolute_error: 0.0503 - val_loss: 0.0148 - val_mean_absolute_error: 0.0968\n",
      "Epoch 23/100\n",
      "88/88 [==============================] - ETA: 0s - loss: 0.0063 - mean_absolute_error: 0.060 - 0s 275us/sample - loss: 0.0042 - mean_absolute_error: 0.0494 - val_loss: 0.0155 - val_mean_absolute_error: 0.1025\n",
      "Epoch 24/100\n",
      "88/88 [==============================] - ETA: 0s - loss: 0.0029 - mean_absolute_error: 0.044 - 0s 293us/sample - loss: 0.0041 - mean_absolute_error: 0.0497 - val_loss: 0.0159 - val_mean_absolute_error: 0.1051\n",
      "Epoch 25/100\n",
      "88/88 [==============================] - ETA: 0s - loss: 0.0055 - mean_absolute_error: 0.056 - 0s 278us/sample - loss: 0.0040 - mean_absolute_error: 0.0486 - val_loss: 0.0154 - val_mean_absolute_error: 0.1019\n",
      "Epoch 26/100\n",
      "88/88 [==============================] - ETA: 0s - loss: 0.0049 - mean_absolute_error: 0.054 - 0s 275us/sample - loss: 0.0042 - mean_absolute_error: 0.0496 - val_loss: 0.0147 - val_mean_absolute_error: 0.0972\n",
      "Epoch 27/100\n",
      "88/88 [==============================] - ETA: 0s - loss: 0.0035 - mean_absolute_error: 0.045 - 0s 282us/sample - loss: 0.0041 - mean_absolute_error: 0.0491 - val_loss: 0.0154 - val_mean_absolute_error: 0.1024\n",
      "Epoch 28/100\n",
      "88/88 [==============================] - ETA: 0s - loss: 0.0025 - mean_absolute_error: 0.038 - 0s 275us/sample - loss: 0.0039 - mean_absolute_error: 0.0483 - val_loss: 0.0165 - val_mean_absolute_error: 0.1093\n",
      "Epoch 29/100\n",
      "88/88 [==============================] - ETA: 0s - loss: 0.0047 - mean_absolute_error: 0.051 - 0s 267us/sample - loss: 0.0041 - mean_absolute_error: 0.0491 - val_loss: 0.0151 - val_mean_absolute_error: 0.1015\n",
      "Epoch 30/100\n",
      "88/88 [==============================] - ETA: 0s - loss: 0.0049 - mean_absolute_error: 0.053 - 0s 272us/sample - loss: 0.0039 - mean_absolute_error: 0.0482 - val_loss: 0.0146 - val_mean_absolute_error: 0.0989\n",
      "Epoch 31/100\n",
      "88/88 [==============================] - ETA: 0s - loss: 0.0030 - mean_absolute_error: 0.041 - 0s 291us/sample - loss: 0.0039 - mean_absolute_error: 0.0479 - val_loss: 0.0143 - val_mean_absolute_error: 0.0963\n",
      "Epoch 32/100\n",
      "88/88 [==============================] - ETA: 0s - loss: 0.0039 - mean_absolute_error: 0.048 - 0s 273us/sample - loss: 0.0040 - mean_absolute_error: 0.0483 - val_loss: 0.0143 - val_mean_absolute_error: 0.0970\n",
      "Epoch 33/100\n",
      "88/88 [==============================] - ETA: 0s - loss: 0.0044 - mean_absolute_error: 0.053 - 0s 298us/sample - loss: 0.0039 - mean_absolute_error: 0.0483 - val_loss: 0.0148 - val_mean_absolute_error: 0.1004\n",
      "Epoch 34/100\n",
      "88/88 [==============================] - ETA: 0s - loss: 0.0031 - mean_absolute_error: 0.043 - 0s 290us/sample - loss: 0.0040 - mean_absolute_error: 0.0488 - val_loss: 0.0150 - val_mean_absolute_error: 0.1013\n",
      "Epoch 35/100\n",
      "88/88 [==============================] - ETA: 0s - loss: 0.0040 - mean_absolute_error: 0.045 - 0s 294us/sample - loss: 0.0039 - mean_absolute_error: 0.0479 - val_loss: 0.0142 - val_mean_absolute_error: 0.0968\n",
      "Epoch 36/100\n",
      "88/88 [==============================] - ETA: 0s - loss: 0.0043 - mean_absolute_error: 0.052 - 0s 339us/sample - loss: 0.0039 - mean_absolute_error: 0.0480 - val_loss: 0.0141 - val_mean_absolute_error: 0.0949\n",
      "Epoch 37/100\n",
      "88/88 [==============================] - ETA: 0s - loss: 0.0031 - mean_absolute_error: 0.042 - 0s 258us/sample - loss: 0.0039 - mean_absolute_error: 0.0476 - val_loss: 0.0142 - val_mean_absolute_error: 0.0973\n"
     ]
    },
    {
     "name": "stdout",
     "output_type": "stream",
     "text": [
      "Epoch 38/100\n",
      "88/88 [==============================] - ETA: 0s - loss: 0.0033 - mean_absolute_error: 0.044 - 0s 291us/sample - loss: 0.0038 - mean_absolute_error: 0.0477 - val_loss: 0.0147 - val_mean_absolute_error: 0.1000\n",
      "Epoch 39/100\n",
      "88/88 [==============================] - ETA: 0s - loss: 0.0040 - mean_absolute_error: 0.048 - 0s 283us/sample - loss: 0.0039 - mean_absolute_error: 0.0482 - val_loss: 0.0148 - val_mean_absolute_error: 0.1007\n",
      "Epoch 40/100\n",
      "88/88 [==============================] - ETA: 0s - loss: 0.0046 - mean_absolute_error: 0.052 - 0s 270us/sample - loss: 0.0038 - mean_absolute_error: 0.0477 - val_loss: 0.0141 - val_mean_absolute_error: 0.0970\n",
      "Epoch 41/100\n",
      "88/88 [==============================] - ETA: 0s - loss: 0.0047 - mean_absolute_error: 0.050 - 0s 281us/sample - loss: 0.0038 - mean_absolute_error: 0.0474 - val_loss: 0.0139 - val_mean_absolute_error: 0.0955\n",
      "Epoch 42/100\n",
      "88/88 [==============================] - ETA: 0s - loss: 0.0034 - mean_absolute_error: 0.043 - 0s 279us/sample - loss: 0.0038 - mean_absolute_error: 0.0474 - val_loss: 0.0141 - val_mean_absolute_error: 0.0976\n",
      "Epoch 43/100\n",
      "88/88 [==============================] - ETA: 0s - loss: 0.0042 - mean_absolute_error: 0.051 - 0s 268us/sample - loss: 0.0038 - mean_absolute_error: 0.0471 - val_loss: 0.0143 - val_mean_absolute_error: 0.0987\n",
      "Epoch 44/100\n",
      "88/88 [==============================] - ETA: 0s - loss: 0.0027 - mean_absolute_error: 0.040 - 0s 295us/sample - loss: 0.0038 - mean_absolute_error: 0.0477 - val_loss: 0.0143 - val_mean_absolute_error: 0.0987\n",
      "Epoch 45/100\n",
      "88/88 [==============================] - ETA: 0s - loss: 0.0043 - mean_absolute_error: 0.052 - 0s 343us/sample - loss: 0.0037 - mean_absolute_error: 0.0470 - val_loss: 0.0137 - val_mean_absolute_error: 0.0948\n",
      "Epoch 46/100\n",
      "88/88 [==============================] - ETA: 0s - loss: 0.0044 - mean_absolute_error: 0.051 - 0s 266us/sample - loss: 0.0038 - mean_absolute_error: 0.0471 - val_loss: 0.0137 - val_mean_absolute_error: 0.0951\n",
      "Epoch 47/100\n",
      "88/88 [==============================] - ETA: 0s - loss: 0.0040 - mean_absolute_error: 0.049 - 0s 297us/sample - loss: 0.0038 - mean_absolute_error: 0.0474 - val_loss: 0.0137 - val_mean_absolute_error: 0.0958\n",
      "Epoch 48/100\n",
      "88/88 [==============================] - ETA: 0s - loss: 0.0038 - mean_absolute_error: 0.048 - 0s 284us/sample - loss: 0.0037 - mean_absolute_error: 0.0462 - val_loss: 0.0143 - val_mean_absolute_error: 0.0989\n",
      "Epoch 49/100\n",
      "88/88 [==============================] - ETA: 0s - loss: 0.0029 - mean_absolute_error: 0.041 - 0s 280us/sample - loss: 0.0038 - mean_absolute_error: 0.0476 - val_loss: 0.0141 - val_mean_absolute_error: 0.0979\n",
      "Epoch 50/100\n",
      "88/88 [==============================] - ETA: 0s - loss: 0.0033 - mean_absolute_error: 0.044 - 0s 277us/sample - loss: 0.0037 - mean_absolute_error: 0.0466 - val_loss: 0.0135 - val_mean_absolute_error: 0.0951\n",
      "Epoch 51/100\n",
      "88/88 [==============================] - ETA: 0s - loss: 0.0034 - mean_absolute_error: 0.043 - 0s 353us/sample - loss: 0.0037 - mean_absolute_error: 0.0465 - val_loss: 0.0133 - val_mean_absolute_error: 0.0922\n",
      "Epoch 52/100\n",
      "88/88 [==============================] - ETA: 0s - loss: 0.0027 - mean_absolute_error: 0.036 - 0s 282us/sample - loss: 0.0037 - mean_absolute_error: 0.0467 - val_loss: 0.0136 - val_mean_absolute_error: 0.0954\n",
      "Epoch 53/100\n",
      "88/88 [==============================] - ETA: 0s - loss: 0.0041 - mean_absolute_error: 0.049 - 0s 292us/sample - loss: 0.0038 - mean_absolute_error: 0.0470 - val_loss: 0.0145 - val_mean_absolute_error: 0.1010\n",
      "Epoch 54/100\n",
      "88/88 [==============================] - ETA: 0s - loss: 0.0023 - mean_absolute_error: 0.037 - 0s 268us/sample - loss: 0.0037 - mean_absolute_error: 0.0467 - val_loss: 0.0134 - val_mean_absolute_error: 0.0951\n",
      "Epoch 55/100\n",
      "88/88 [==============================] - ETA: 0s - loss: 0.0031 - mean_absolute_error: 0.046 - 0s 288us/sample - loss: 0.0037 - mean_absolute_error: 0.0468 - val_loss: 0.0131 - val_mean_absolute_error: 0.0923\n",
      "Epoch 56/100\n",
      "88/88 [==============================] - ETA: 0s - loss: 0.0045 - mean_absolute_error: 0.051 - 0s 295us/sample - loss: 0.0037 - mean_absolute_error: 0.0461 - val_loss: 0.0133 - val_mean_absolute_error: 0.0947\n",
      "Epoch 57/100\n",
      "88/88 [==============================] - ETA: 0s - loss: 0.0039 - mean_absolute_error: 0.047 - 0s 298us/sample - loss: 0.0037 - mean_absolute_error: 0.0466 - val_loss: 0.0142 - val_mean_absolute_error: 0.1002\n",
      "Epoch 58/100\n",
      "88/88 [==============================] - ETA: 0s - loss: 0.0042 - mean_absolute_error: 0.048 - 0s 259us/sample - loss: 0.0037 - mean_absolute_error: 0.0469 - val_loss: 0.0134 - val_mean_absolute_error: 0.0951\n",
      "Epoch 59/100\n",
      "88/88 [==============================] - ETA: 0s - loss: 0.0040 - mean_absolute_error: 0.048 - 0s 406us/sample - loss: 0.0036 - mean_absolute_error: 0.0457 - val_loss: 0.0129 - val_mean_absolute_error: 0.0916\n",
      "Epoch 60/100\n",
      "88/88 [==============================] - ETA: 0s - loss: 0.0027 - mean_absolute_error: 0.042 - 0s 308us/sample - loss: 0.0037 - mean_absolute_error: 0.0462 - val_loss: 0.0130 - val_mean_absolute_error: 0.0933\n",
      "Epoch 61/100\n",
      "88/88 [==============================] - ETA: 0s - loss: 0.0042 - mean_absolute_error: 0.051 - 0s 275us/sample - loss: 0.0036 - mean_absolute_error: 0.0458 - val_loss: 0.0133 - val_mean_absolute_error: 0.0951\n",
      "Epoch 62/100\n",
      "88/88 [==============================] - ETA: 0s - loss: 0.0042 - mean_absolute_error: 0.048 - 0s 265us/sample - loss: 0.0036 - mean_absolute_error: 0.0458 - val_loss: 0.0135 - val_mean_absolute_error: 0.0961\n",
      "Epoch 63/100\n",
      "88/88 [==============================] - ETA: 0s - loss: 0.0040 - mean_absolute_error: 0.046 - 0s 260us/sample - loss: 0.0035 - mean_absolute_error: 0.0453 - val_loss: 0.0129 - val_mean_absolute_error: 0.0931\n",
      "Epoch 64/100\n",
      "88/88 [==============================] - ETA: 0s - loss: 0.0023 - mean_absolute_error: 0.038 - 0s 280us/sample - loss: 0.0035 - mean_absolute_error: 0.0453 - val_loss: 0.0129 - val_mean_absolute_error: 0.0931\n",
      "Train on 88 samples, validate on 13 samples\n",
      "Epoch 1/100\n",
      "88/88 [==============================] - ETA: 1s - loss: 0.0571 - mean_absolute_error: 0.214 - 1s 10ms/sample - loss: 0.0688 - mean_absolute_error: 0.2289 - val_loss: 0.2733 - val_mean_absolute_error: 0.5115\n",
      "Epoch 2/100\n",
      "88/88 [==============================] - ETA: 0s - loss: 0.0544 - mean_absolute_error: 0.199 - 0s 256us/sample - loss: 0.0612 - mean_absolute_error: 0.2128 - val_loss: 0.2506 - val_mean_absolute_error: 0.4887\n",
      "Epoch 3/100\n",
      "88/88 [==============================] - ETA: 0s - loss: 0.0628 - mean_absolute_error: 0.212 - 0s 277us/sample - loss: 0.0540 - mean_absolute_error: 0.1965 - val_loss: 0.2266 - val_mean_absolute_error: 0.4633\n",
      "Epoch 4/100\n",
      "88/88 [==============================] - ETA: 0s - loss: 0.0456 - mean_absolute_error: 0.177 - 0s 268us/sample - loss: 0.0463 - mean_absolute_error: 0.1785 - val_loss: 0.2013 - val_mean_absolute_error: 0.4352\n",
      "Epoch 5/100\n",
      "88/88 [==============================] - ETA: 0s - loss: 0.0460 - mean_absolute_error: 0.178 - 0s 259us/sample - loss: 0.0387 - mean_absolute_error: 0.1590 - val_loss: 0.1736 - val_mean_absolute_error: 0.4020\n",
      "Epoch 6/100\n",
      "88/88 [==============================] - ETA: 0s - loss: 0.0388 - mean_absolute_error: 0.164 - 0s 261us/sample - loss: 0.0305 - mean_absolute_error: 0.1371 - val_loss: 0.1404 - val_mean_absolute_error: 0.3580\n",
      "Epoch 7/100\n",
      "88/88 [==============================] - ETA: 0s - loss: 0.0123 - mean_absolute_error: 0.088 - 0s 287us/sample - loss: 0.0216 - mean_absolute_error: 0.1128 - val_loss: 0.1045 - val_mean_absolute_error: 0.3037\n",
      "Epoch 8/100\n",
      "88/88 [==============================] - ETA: 0s - loss: 0.0135 - mean_absolute_error: 0.091 - 0s 284us/sample - loss: 0.0147 - mean_absolute_error: 0.0923 - val_loss: 0.0683 - val_mean_absolute_error: 0.2366\n",
      "Epoch 9/100\n",
      "88/88 [==============================] - ETA: 0s - loss: 0.0103 - mean_absolute_error: 0.075 - 0s 269us/sample - loss: 0.0099 - mean_absolute_error: 0.0787 - val_loss: 0.0379 - val_mean_absolute_error: 0.1613\n",
      "Epoch 10/100\n",
      "88/88 [==============================] - ETA: 0s - loss: 0.0086 - mean_absolute_error: 0.073 - 0s 245us/sample - loss: 0.0092 - mean_absolute_error: 0.0789 - val_loss: 0.0209 - val_mean_absolute_error: 0.1094\n"
     ]
    },
    {
     "name": "stdout",
     "output_type": "stream",
     "text": [
      "Epoch 11/100\n",
      "88/88 [==============================] - ETA: 0s - loss: 0.0128 - mean_absolute_error: 0.101 - 0s 255us/sample - loss: 0.0105 - mean_absolute_error: 0.0880 - val_loss: 0.0178 - val_mean_absolute_error: 0.1005\n",
      "Epoch 12/100\n",
      "88/88 [==============================] - ETA: 0s - loss: 0.0091 - mean_absolute_error: 0.081 - 0s 234us/sample - loss: 0.0101 - mean_absolute_error: 0.0861 - val_loss: 0.0214 - val_mean_absolute_error: 0.1106\n",
      "Epoch 13/100\n",
      "88/88 [==============================] - ETA: 0s - loss: 0.0090 - mean_absolute_error: 0.082 - 0s 265us/sample - loss: 0.0083 - mean_absolute_error: 0.0761 - val_loss: 0.0281 - val_mean_absolute_error: 0.1315\n",
      "Epoch 14/100\n",
      "88/88 [==============================] - ETA: 0s - loss: 0.0061 - mean_absolute_error: 0.064 - 0s 250us/sample - loss: 0.0074 - mean_absolute_error: 0.0684 - val_loss: 0.0350 - val_mean_absolute_error: 0.1528\n",
      "Epoch 15/100\n",
      "88/88 [==============================] - ETA: 0s - loss: 0.0070 - mean_absolute_error: 0.067 - 0s 251us/sample - loss: 0.0073 - mean_absolute_error: 0.0672 - val_loss: 0.0367 - val_mean_absolute_error: 0.1576\n",
      "Epoch 16/100\n",
      "88/88 [==============================] - ETA: 0s - loss: 0.0071 - mean_absolute_error: 0.071 - 0s 264us/sample - loss: 0.0070 - mean_absolute_error: 0.0654 - val_loss: 0.0314 - val_mean_absolute_error: 0.1419\n",
      "Train on 88 samples, validate on 13 samples\n",
      "Epoch 1/100\n",
      "88/88 [==============================] - ETA: 1s - loss: 0.0625 - mean_absolute_error: 0.214 - 1s 10ms/sample - loss: 0.0668 - mean_absolute_error: 0.2255 - val_loss: 0.2566 - val_mean_absolute_error: 0.4947\n",
      "Epoch 2/100\n",
      "88/88 [==============================] - ETA: 0s - loss: 0.0535 - mean_absolute_error: 0.203 - 0s 251us/sample - loss: 0.0572 - mean_absolute_error: 0.2053 - val_loss: 0.2262 - val_mean_absolute_error: 0.4629\n",
      "Epoch 3/100\n",
      "88/88 [==============================] - ETA: 0s - loss: 0.0483 - mean_absolute_error: 0.181 - 0s 269us/sample - loss: 0.0479 - mean_absolute_error: 0.1845 - val_loss: 0.1939 - val_mean_absolute_error: 0.4266\n",
      "Epoch 4/100\n",
      "88/88 [==============================] - ETA: 0s - loss: 0.0356 - mean_absolute_error: 0.158 - 0s 242us/sample - loss: 0.0382 - mean_absolute_error: 0.1609 - val_loss: 0.1587 - val_mean_absolute_error: 0.3828\n",
      "Epoch 5/100\n",
      "88/88 [==============================] - ETA: 0s - loss: 0.0379 - mean_absolute_error: 0.158 - 0s 257us/sample - loss: 0.0295 - mean_absolute_error: 0.1362 - val_loss: 0.1229 - val_mean_absolute_error: 0.3326\n",
      "Epoch 6/100\n",
      "88/88 [==============================] - ETA: 0s - loss: 0.0254 - mean_absolute_error: 0.120 - 0s 243us/sample - loss: 0.0208 - mean_absolute_error: 0.1099 - val_loss: 0.0879 - val_mean_absolute_error: 0.2745\n",
      "Epoch 7/100\n",
      "88/88 [==============================] - ETA: 0s - loss: 0.0166 - mean_absolute_error: 0.097 - 0s 264us/sample - loss: 0.0137 - mean_absolute_error: 0.0870 - val_loss: 0.0552 - val_mean_absolute_error: 0.2060\n",
      "Epoch 8/100\n",
      "88/88 [==============================] - ETA: 0s - loss: 0.0077 - mean_absolute_error: 0.068 - 0s 254us/sample - loss: 0.0084 - mean_absolute_error: 0.0707 - val_loss: 0.0293 - val_mean_absolute_error: 0.1354\n",
      "Epoch 9/100\n",
      "88/88 [==============================] - ETA: 0s - loss: 0.0070 - mean_absolute_error: 0.063 - 0s 258us/sample - loss: 0.0074 - mean_absolute_error: 0.0706 - val_loss: 0.0160 - val_mean_absolute_error: 0.0969\n",
      "Epoch 10/100\n",
      "88/88 [==============================] - ETA: 0s - loss: 0.0087 - mean_absolute_error: 0.079 - 0s 267us/sample - loss: 0.0091 - mean_absolute_error: 0.0820 - val_loss: 0.0137 - val_mean_absolute_error: 0.0923\n",
      "Epoch 11/100\n",
      "88/88 [==============================] - ETA: 0s - loss: 0.0066 - mean_absolute_error: 0.067 - 0s 264us/sample - loss: 0.0091 - mean_absolute_error: 0.0823 - val_loss: 0.0148 - val_mean_absolute_error: 0.0940\n",
      "Epoch 12/100\n",
      "88/88 [==============================] - ETA: 0s - loss: 0.0081 - mean_absolute_error: 0.076 - 0s 252us/sample - loss: 0.0075 - mean_absolute_error: 0.0737 - val_loss: 0.0198 - val_mean_absolute_error: 0.1056\n",
      "Epoch 13/100\n",
      "88/88 [==============================] - ETA: 0s - loss: 0.0086 - mean_absolute_error: 0.076 - 0s 269us/sample - loss: 0.0064 - mean_absolute_error: 0.0645 - val_loss: 0.0261 - val_mean_absolute_error: 0.1244\n",
      "Epoch 14/100\n",
      "88/88 [==============================] - ETA: 0s - loss: 0.0059 - mean_absolute_error: 0.059 - 0s 267us/sample - loss: 0.0065 - mean_absolute_error: 0.0631 - val_loss: 0.0304 - val_mean_absolute_error: 0.1385\n",
      "Epoch 15/100\n",
      "88/88 [==============================] - ETA: 0s - loss: 0.0067 - mean_absolute_error: 0.064 - 0s 281us/sample - loss: 0.0067 - mean_absolute_error: 0.0635 - val_loss: 0.0305 - val_mean_absolute_error: 0.1385\n"
     ]
    },
    {
     "data": {
      "text/html": [
       "<span style=\"color:#4527A0\"><h1 style=\"font-size:18px\">Trial complete</h1></span>"
      ],
      "text/plain": [
       "<IPython.core.display.HTML object>"
      ]
     },
     "metadata": {},
     "output_type": "display_data"
    },
    {
     "data": {
      "text/html": [
       "<span style=\"color:#4527A0\"><h1 style=\"font-size:18px\">Trial summary</h1></span>"
      ],
      "text/plain": [
       "<IPython.core.display.HTML object>"
      ]
     },
     "metadata": {},
     "output_type": "display_data"
    },
    {
     "data": {
      "text/html": [
       "<span style=\"color:cyan\"> |-Trial ID: d6ff5a52f3b7ae3cc002b2a62c0248d4</span>"
      ],
      "text/plain": [
       "<IPython.core.display.HTML object>"
      ]
     },
     "metadata": {},
     "output_type": "display_data"
    },
    {
     "data": {
      "text/html": [
       "<span style=\"color:cyan\"> |-Score: 0.09479674696922302</span>"
      ],
      "text/plain": [
       "<IPython.core.display.HTML object>"
      ]
     },
     "metadata": {},
     "output_type": "display_data"
    },
    {
     "data": {
      "text/html": [
       "<span style=\"color:cyan\"> |-Best step: 0</span>"
      ],
      "text/plain": [
       "<IPython.core.display.HTML object>"
      ]
     },
     "metadata": {},
     "output_type": "display_data"
    },
    {
     "data": {
      "text/html": [
       "<span style=\"color:#7E57C2\"><h2 style=\"font-size:16px\">Hyperparameters:</h2></span>"
      ],
      "text/plain": [
       "<IPython.core.display.HTML object>"
      ]
     },
     "metadata": {},
     "output_type": "display_data"
    },
    {
     "data": {
      "text/html": [
       "<span style=\"color:cyan\"> |-dense_0_units: 26</span>"
      ],
      "text/plain": [
       "<IPython.core.display.HTML object>"
      ]
     },
     "metadata": {},
     "output_type": "display_data"
    },
    {
     "data": {
      "text/html": [
       "<span style=\"color:blue\"> |-drop_rate_0: 0.8</span>"
      ],
      "text/plain": [
       "<IPython.core.display.HTML object>"
      ]
     },
     "metadata": {},
     "output_type": "display_data"
    },
    {
     "data": {
      "text/html": [
       "<span style=\"color:cyan\"> |-dropout_layers: 0</span>"
      ],
      "text/plain": [
       "<IPython.core.display.HTML object>"
      ]
     },
     "metadata": {},
     "output_type": "display_data"
    },
    {
     "data": {
      "text/html": [
       "<span style=\"color:blue\"> |-input_units: 44</span>"
      ],
      "text/plain": [
       "<IPython.core.display.HTML object>"
      ]
     },
     "metadata": {},
     "output_type": "display_data"
    },
    {
     "data": {
      "text/html": [
       "<span style=\"color:cyan\"> |-learning_rate: 0.001</span>"
      ],
      "text/plain": [
       "<IPython.core.display.HTML object>"
      ]
     },
     "metadata": {},
     "output_type": "display_data"
    },
    {
     "data": {
      "text/html": [
       "<span style=\"color:blue\"> |-n_layers: 1</span>"
      ],
      "text/plain": [
       "<IPython.core.display.HTML object>"
      ]
     },
     "metadata": {},
     "output_type": "display_data"
    },
    {
     "name": "stdout",
     "output_type": "stream",
     "text": [
      "INFO:tensorflow:Oracle triggered exit\n",
      "INFO:tensorflow:Assets written to: ../models/univariate_12/assets\n"
     ]
    }
   ],
   "source": [
    "approach = \"univariate\"\n",
    "\n",
    "# training & hyperparameter tuning\n",
    "LOG_DIR = f\"{int((time.time()))}\"\n",
    "\n",
    "tuner = RandomSearch(\n",
    "        build_model,\n",
    "        objective=\"val_mean_absolute_error\", # evtl. RMSE\n",
    "        max_trials= 5,\n",
    "        executions_per_trial=3,\n",
    "        directory='one_step_univariate/tuning_logs',\n",
    "        project_name=LOG_DIR\n",
    "    )\n",
    "    \n",
    "tuner.search(\n",
    "    x=train_samples[0],\n",
    "    y=train_samples[1],\n",
    "    epochs=100,\n",
    "    batch_size=32,\n",
    "    validation_data=(val_samples[0], val_samples[1]),\n",
    "    callbacks=[EarlyStopping('val_loss', patience=5)])\n",
    "    \n",
    "# get best model\n",
    "model = tuner.get_best_models(num_models=1)[0]\n",
    "model.save(f\"../models/{approach}_{input_window_size}\")"
   ]
  },
  {
   "cell_type": "markdown",
   "metadata": {},
   "source": [
    "# 6-Make &Denormalize Predictions"
   ]
  },
  {
   "cell_type": "code",
   "execution_count": 92,
   "metadata": {},
   "outputs": [
    {
     "data": {
      "text/plain": [
       "array([[0.7153004 ],\n",
       "       [0.7388431 ],\n",
       "       [0.76644963],\n",
       "       [0.78308517],\n",
       "       [0.79344517],\n",
       "       [0.8021602 ],\n",
       "       [0.7879256 ]], dtype=float32)"
      ]
     },
     "execution_count": 92,
     "metadata": {},
     "output_type": "execute_result"
    }
   ],
   "source": [
    "# make predictions\n",
    "predictions_for_train = model.predict(train_samples[0])\n",
    "predictions_for_validation = model.predict(val_samples[0])\n",
    "predictions_for_test = model.predict(test_samples[0])\n",
    "predictions_for_test"
   ]
  },
  {
   "cell_type": "code",
   "execution_count": 93,
   "metadata": {},
   "outputs": [],
   "source": [
    "# invert predictions\n",
    "predictions_for_train_denormalized = scaler.inverse_transform(predictions_for_train)\n",
    "true_values_train = scaler.inverse_transform(train_samples[1])\n",
    "\n",
    "predictions_for_val_denormalized = scaler.inverse_transform(predictions_for_validation)\n",
    "true_values_val = scaler.inverse_transform(val_samples[1])\n",
    "\n",
    "predictions_for_test_denormalized = scaler.inverse_transform(predictions_for_test)\n",
    "true_values_test = scaler.inverse_transform(test_samples[1])"
   ]
  },
  {
   "cell_type": "markdown",
   "metadata": {},
   "source": [
    "# 7-Evaluation"
   ]
  },
  {
   "cell_type": "code",
   "execution_count": 104,
   "metadata": {},
   "outputs": [
    {
     "name": "stdout",
     "output_type": "stream",
     "text": [
      "Train Score: 31.19 RMSE\n",
      "Validation Score: 58.81 RMSE\n",
      "Test Score: 91.88 RMSE\n"
     ]
    }
   ],
   "source": [
    "# calculate root mean squared error\n",
    "train_score = math.sqrt(mean_squared_error(true_values_train, predictions_for_train_denormalized))\n",
    "print('Train Score: %.2f RMSE' % (train_score))\n",
    "\n",
    "validation_score = math.sqrt(mean_squared_error(true_values_val, predictions_for_val_denormalized))\n",
    "print('Validation Score: %.2f RMSE' % (validation_score))\n",
    "\n",
    "test_score = math.sqrt(mean_squared_error(true_values_test, predictions_for_test_denormalized))\n",
    "print('Test Score: %.2f RMSE' % (test_score))"
   ]
  },
  {
   "cell_type": "code",
   "execution_count": 107,
   "metadata": {},
   "outputs": [
    {
     "ename": "ValueError",
     "evalue": "could not broadcast input array from shape (13,1) into shape (30,1)",
     "output_type": "error",
     "traceback": [
      "\u001b[0;31m---------------------------------------------------------------------------\u001b[0m",
      "\u001b[0;31mValueError\u001b[0m                                Traceback (most recent call last)",
      "\u001b[0;32m<ipython-input-107-754fd2977c29>\u001b[0m in \u001b[0;36m<module>\u001b[0;34m\u001b[0m\n\u001b[1;32m      7\u001b[0m \u001b[0mvalidation_predict_plot\u001b[0m \u001b[0;34m=\u001b[0m \u001b[0mnp\u001b[0m\u001b[0;34m.\u001b[0m\u001b[0mempty_like\u001b[0m\u001b[0;34m(\u001b[0m\u001b[0mnormalized_univariate_array\u001b[0m\u001b[0;34m)\u001b[0m\u001b[0;34m\u001b[0m\u001b[0;34m\u001b[0m\u001b[0m\n\u001b[1;32m      8\u001b[0m \u001b[0mvalidation_predict_plot\u001b[0m\u001b[0;34m[\u001b[0m\u001b[0;34m:\u001b[0m\u001b[0;34m,\u001b[0m \u001b[0;34m:\u001b[0m\u001b[0;34m]\u001b[0m \u001b[0;34m=\u001b[0m \u001b[0mnp\u001b[0m\u001b[0;34m.\u001b[0m\u001b[0mnan\u001b[0m\u001b[0;34m\u001b[0m\u001b[0;34m\u001b[0m\u001b[0m\n\u001b[0;32m----> 9\u001b[0;31m \u001b[0mvalidation_predict_plot\u001b[0m\u001b[0;34m[\u001b[0m\u001b[0mlen\u001b[0m\u001b[0;34m(\u001b[0m\u001b[0mpredictions_for_train_denormalized\u001b[0m\u001b[0;34m)\u001b[0m\u001b[0;34m+\u001b[0m\u001b[0;34m(\u001b[0m\u001b[0minput_window_size\u001b[0m\u001b[0;34m*\u001b[0m\u001b[0;36m2\u001b[0m\u001b[0;34m)\u001b[0m\u001b[0;34m+\u001b[0m\u001b[0;36m1\u001b[0m\u001b[0;34m:\u001b[0m\u001b[0mlen\u001b[0m\u001b[0;34m(\u001b[0m\u001b[0mnormalized_univariate_array\u001b[0m\u001b[0;34m)\u001b[0m\u001b[0;34m-\u001b[0m\u001b[0;36m1\u001b[0m\u001b[0;34m,\u001b[0m \u001b[0;34m:\u001b[0m\u001b[0;34m]\u001b[0m \u001b[0;34m=\u001b[0m \u001b[0mpredictions_for_val_denormalized\u001b[0m\u001b[0;34m\u001b[0m\u001b[0;34m\u001b[0m\u001b[0m\n\u001b[0m\u001b[1;32m     10\u001b[0m \u001b[0;34m\u001b[0m\u001b[0m\n\u001b[1;32m     11\u001b[0m \u001b[0;31m# plot baseline and predictions\u001b[0m\u001b[0;34m\u001b[0m\u001b[0;34m\u001b[0m\u001b[0;34m\u001b[0m\u001b[0m\n",
      "\u001b[0;31mValueError\u001b[0m: could not broadcast input array from shape (13,1) into shape (30,1)"
     ]
    }
   ],
   "source": [
    "# shift train predictions for plotting\n",
    "train_predict_plot = np.empty_like(normalized_univariate_array)\n",
    "train_predict_plot[:, :] = np.nan\n",
    "train_predict_plot[input_window_size:len(predictions_for_train_denormalized)+input_window_size, :] = predictions_for_train_denormalized\n",
    "\n",
    "# shift validation predictions for plotting\n",
    "validation_predict_plot = np.empty_like(normalized_univariate_array)\n",
    "validation_predict_plot[:, :] = np.nan\n",
    "validation_predict_plot[len(predictions_for_train_denormalized)+(input_window_size*2)+1:len(normalized_univariate_array)-1, :] = predictions_for_val_denormalized\n",
    "\n",
    "# plot baseline and predictions\n",
    "plt.plot(scaler.inverse_transform(normalized_univariate_array))\n",
    "plt.plot(train_predict_plot)\n",
    "plt.plot(validation_predict_plot)\n",
    "plt.show()"
   ]
  },
  {
   "cell_type": "code",
   "execution_count": null,
   "metadata": {},
   "outputs": [],
   "source": []
  }
 ],
 "metadata": {
  "kernelspec": {
   "display_name": "Python 3",
   "language": "python",
   "name": "python3"
  },
  "language_info": {
   "codemirror_mode": {
    "name": "ipython",
    "version": 3
   },
   "file_extension": ".py",
   "mimetype": "text/x-python",
   "name": "python",
   "nbconvert_exporter": "python",
   "pygments_lexer": "ipython3",
   "version": "3.6.10"
  }
 },
 "nbformat": 4,
 "nbformat_minor": 4
}
