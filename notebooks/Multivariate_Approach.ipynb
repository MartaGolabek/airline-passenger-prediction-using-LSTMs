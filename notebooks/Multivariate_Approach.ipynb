{
 "cells": [
  {
   "cell_type": "code",
   "execution_count": 21,
   "metadata": {},
   "outputs": [],
   "source": [
    "# standard libraries\n",
    "import pandas as pd\n",
    "import numpy as np\n",
    "import matplotlib.pyplot as plt\n",
    "from sklearn.preprocessing import MinMaxScaler\n",
    "from sklearn.compose import ColumnTransformer\n",
    "import math\n",
    "import time\n",
    "\n",
    "# create lstm models\n",
    "import tensorflow as tf\n",
    "from tensorflow.keras.models import Sequential\n",
    "from tensorflow.keras.layers import LSTM, Dense, Dropout\n",
    "from tensorflow.keras import metrics\n",
    "from tensorflow.keras.optimizers import Adam\n",
    "from sklearn.metrics import mean_absolute_error, mean_squared_error\n",
    "\n",
    "# hyperparameter tuning\n",
    "from kerastuner.tuners import RandomSearch\n",
    "from tensorflow.keras.callbacks import EarlyStopping, Callback"
   ]
  },
  {
   "cell_type": "markdown",
   "metadata": {},
   "source": [
    "# 1-Load Data"
   ]
  },
  {
   "cell_type": "code",
   "execution_count": 2,
   "metadata": {},
   "outputs": [
    {
     "data": {
      "text/html": [
       "<div>\n",
       "<style scoped>\n",
       "    .dataframe tbody tr th:only-of-type {\n",
       "        vertical-align: middle;\n",
       "    }\n",
       "\n",
       "    .dataframe tbody tr th {\n",
       "        vertical-align: top;\n",
       "    }\n",
       "\n",
       "    .dataframe thead th {\n",
       "        text-align: right;\n",
       "    }\n",
       "</style>\n",
       "<table border=\"1\" class=\"dataframe\">\n",
       "  <thead>\n",
       "    <tr style=\"text-align: right;\">\n",
       "      <th></th>\n",
       "      <th>passenger_number</th>\n",
       "      <th>month</th>\n",
       "      <th>previous_passenger_number</th>\n",
       "    </tr>\n",
       "  </thead>\n",
       "  <tbody>\n",
       "    <tr>\n",
       "      <th>0</th>\n",
       "      <td>118.0</td>\n",
       "      <td>2</td>\n",
       "      <td>112.0</td>\n",
       "    </tr>\n",
       "    <tr>\n",
       "      <th>1</th>\n",
       "      <td>132.0</td>\n",
       "      <td>3</td>\n",
       "      <td>118.0</td>\n",
       "    </tr>\n",
       "    <tr>\n",
       "      <th>2</th>\n",
       "      <td>129.0</td>\n",
       "      <td>4</td>\n",
       "      <td>132.0</td>\n",
       "    </tr>\n",
       "    <tr>\n",
       "      <th>3</th>\n",
       "      <td>121.0</td>\n",
       "      <td>5</td>\n",
       "      <td>129.0</td>\n",
       "    </tr>\n",
       "    <tr>\n",
       "      <th>4</th>\n",
       "      <td>135.0</td>\n",
       "      <td>6</td>\n",
       "      <td>121.0</td>\n",
       "    </tr>\n",
       "    <tr>\n",
       "      <th>...</th>\n",
       "      <td>...</td>\n",
       "      <td>...</td>\n",
       "      <td>...</td>\n",
       "    </tr>\n",
       "    <tr>\n",
       "      <th>138</th>\n",
       "      <td>606.0</td>\n",
       "      <td>8</td>\n",
       "      <td>622.0</td>\n",
       "    </tr>\n",
       "    <tr>\n",
       "      <th>139</th>\n",
       "      <td>508.0</td>\n",
       "      <td>9</td>\n",
       "      <td>606.0</td>\n",
       "    </tr>\n",
       "    <tr>\n",
       "      <th>140</th>\n",
       "      <td>461.0</td>\n",
       "      <td>10</td>\n",
       "      <td>508.0</td>\n",
       "    </tr>\n",
       "    <tr>\n",
       "      <th>141</th>\n",
       "      <td>390.0</td>\n",
       "      <td>11</td>\n",
       "      <td>461.0</td>\n",
       "    </tr>\n",
       "    <tr>\n",
       "      <th>142</th>\n",
       "      <td>432.0</td>\n",
       "      <td>12</td>\n",
       "      <td>390.0</td>\n",
       "    </tr>\n",
       "  </tbody>\n",
       "</table>\n",
       "<p>143 rows × 3 columns</p>\n",
       "</div>"
      ],
      "text/plain": [
       "     passenger_number  month  previous_passenger_number\n",
       "0               118.0      2                      112.0\n",
       "1               132.0      3                      118.0\n",
       "2               129.0      4                      132.0\n",
       "3               121.0      5                      129.0\n",
       "4               135.0      6                      121.0\n",
       "..                ...    ...                        ...\n",
       "138             606.0      8                      622.0\n",
       "139             508.0      9                      606.0\n",
       "140             461.0     10                      508.0\n",
       "141             390.0     11                      461.0\n",
       "142             432.0     12                      390.0\n",
       "\n",
       "[143 rows x 3 columns]"
      ]
     },
     "execution_count": 2,
     "metadata": {},
     "output_type": "execute_result"
    }
   ],
   "source": [
    "# load interim data set\n",
    "data_set = pd.read_csv('../data/processed/international-airline-passengers.csv')\n",
    "data_set"
   ]
  },
  {
   "cell_type": "markdown",
   "metadata": {},
   "source": [
    "# 2-Perform Train, Validation (2 years), Test Split (2 years)"
   ]
  },
  {
   "cell_type": "code",
   "execution_count": 10,
   "metadata": {},
   "outputs": [
    {
     "name": "stdout",
     "output_type": "stream",
     "text": [
      "Training set: 96, validation set: 24, test set: 24\n"
     ]
    }
   ],
   "source": [
    "train_size = len(data_set) - 48\n",
    "validation_size = 24\n",
    "test_size = 24\n",
    "train_set, validation_set, test_set = data_set[0:train_size+1], data_set[train_size:train_size+validation_size], data_set[train_size+validation_size:]\n",
    "print(f\"Training set: {len(train_set)}, validation set: {len(validation_set)}, test set: {len(test_set)}\")"
   ]
  },
  {
   "cell_type": "markdown",
   "metadata": {},
   "source": [
    "# 3-Normalize Data"
   ]
  },
  {
   "cell_type": "code",
   "execution_count": 18,
   "metadata": {
    "scrolled": true
   },
   "outputs": [
    {
     "name": "stdout",
     "output_type": "stream",
     "text": [
      "0\n",
      "month\n",
      "1\n",
      "previous_passenger_number\n"
     ]
    }
   ],
   "source": [
    "# get the columns that have to be normalized\n",
    "i = 0\n",
    "temp = train_set.drop(columns=\"passenger_number\")\n",
    "for col in temp.columns:\n",
    "    print(i)\n",
    "    print(col)\n",
    "    i = i + 1"
   ]
  },
  {
   "cell_type": "code",
   "execution_count": 19,
   "metadata": {},
   "outputs": [],
   "source": [
    "features_to_normalize = [0, 1]"
   ]
  },
  {
   "cell_type": "code",
   "execution_count": 23,
   "metadata": {},
   "outputs": [],
   "source": [
    "def normalize_lookahead(train_set, validation_set, test_set, features_to_normalize):\n",
    "    passenger_number_normalized = []\n",
    "    all_features_normalized = []\n",
    "    \n",
    "    # fit & save demand scaler in order to denormalize predictions later on\n",
    "    passenger_number_scaler = MinMaxScaler(feature_range=(0, 1))\n",
    "    passenger_number_train = train_set['passenger_number'].values.reshape(len(train_set), 1)\n",
    "    passenger_number_scaler = passenger_number_scaler.fit(passenger_number_train)\n",
    "    \n",
    "    # normalize passenger_number\n",
    "    passenger_number_val =  validation_set['passenger_number'].values.reshape(len(validation_set), 1)\n",
    "    passenger_number_test = test_set['passenger_number'].values.reshape(len(test_set), 1)\n",
    "\n",
    "    passenger_number_normalized_train = passenger_number_scaler.transform(passenger_number_train)\n",
    "    passenger_number_normalized.append(passenger_number_normalized_train)\n",
    "    \n",
    "    passenger_number_normalized_val = passenger_number_scaler.transform(passenger_number_val)\n",
    "    passenger_number_normalized.append(passenger_number_normalized_val)\n",
    "    \n",
    "    passenger_number_normalized_test = passenger_number_scaler.transform(passenger_number_test)\n",
    "    passenger_number_normalized.append(passenger_number_normalized_test)\n",
    "    \n",
    "    \n",
    "    # fit & save a scaler for all features\n",
    "    all_features_scaler = ColumnTransformer(\n",
    "        remainder='passthrough', #passthough features not listed\n",
    "        transformers=[\n",
    "            ('mm', MinMaxScaler(feature_range=(0, 1)) , features_to_normalize)\n",
    "        ])\n",
    "    \n",
    "    # reshape train set\n",
    "    temp_train = train_set.drop(columns=[\"passenger_number\"])\n",
    "    train_reshaped_df = temp_train.values.reshape((len(temp_train), len(temp_train.columns)))\n",
    "    \n",
    "    # fit & save the scaler for all features\n",
    "    all_features_scaler = all_features_scaler.fit(train_reshaped_df)\n",
    "    \n",
    "    # normalize train set\n",
    "    normalized_train_set = all_features_scaler.transform(train_reshaped_df)\n",
    "    all_features_normalized.append(normalized_train_set)\n",
    "    \n",
    "    # reshape & normalize validation set\n",
    "    temp_val = validation_set.drop(columns=[\"passenger_number\"])\n",
    "    val_reshaped_df = temp_val.values.reshape((len(temp_val), len(temp_val.columns)))\n",
    "    normalized_val_set = all_features_scaler.transform(val_reshaped_df)\n",
    "    all_features_normalized.append(normalized_val_set)\n",
    "    \n",
    "    # reshape & normalize test set\n",
    "    temp_test = test_set.drop(columns=[\"passenger_number\"])\n",
    "    test_reshaped_df = temp_test.values.reshape((len(temp_test), len(temp_test.columns)))\n",
    "    normalized_test_set = all_features_scaler.transform(test_reshaped_df)\n",
    "    all_features_normalized.append(normalized_test_set)\n",
    "    \n",
    "    return passenger_number_scaler, passenger_number_normalized, all_features_normalized"
   ]
  },
  {
   "cell_type": "code",
   "execution_count": 24,
   "metadata": {},
   "outputs": [],
   "source": [
    "passenger_number_scaler, passenger_number_normalized, all_features_normalized = normalize_lookahead(train_set, validation_set, test_set, features_to_normalize)"
   ]
  },
  {
   "cell_type": "markdown",
   "metadata": {},
   "source": [
    "# 4-Create samples using Moving Window Technique"
   ]
  },
  {
   "cell_type": "code",
   "execution_count": 29,
   "metadata": {},
   "outputs": [],
   "source": [
    "def split_sequences(sequences, n_steps_in, n_steps_out):\n",
    "    X, y = list(), list()\n",
    "    for i in range(len(sequences)):\n",
    "        # find the end of this pattern\n",
    "        end_ix = i + n_steps_in\n",
    "        out_end_ix = end_ix + n_steps_out-1\n",
    "        # check if we are beyond the dataset\n",
    "        if out_end_ix > len(sequences):\n",
    "            break\n",
    "        # gather input and output parts of the pattern\n",
    "        seq_x, seq_y = sequences[i:end_ix, :-1], sequences[end_ix-1:out_end_ix, -1] #[lookahead]\n",
    "        X.append(seq_x)\n",
    "        y.append(seq_y)\n",
    "    return np.array(X), np.array(y)"
   ]
  },
  {
   "cell_type": "code",
   "execution_count": 31,
   "metadata": {},
   "outputs": [],
   "source": [
    "def create_samples(passenger_number_normalized, all_features_normalized, input_window_size, output_window_size):\n",
    "    train_set = np.hstack((all_features_normalized[0], passenger_number_normalized[0]))\n",
    "    train_samples = split_sequences(train_set, input_window_size, output_window_size)\n",
    "    \n",
    "    val_set = np.hstack((all_features_normalized[1], passenger_number_normalized[1]))\n",
    "    val_samples = split_sequences(val_set, input_window_size, output_window_size)\n",
    "    \n",
    "    test_set = np.hstack((all_features_normalized[2], passenger_number_normalized[2]))\n",
    "    test_samples = split_sequences(test_set, input_window_size, output_window_size)\n",
    "\n",
    "    print(f\"Number of training samples: {len(train_samples[0])}, validation samples: {len(val_samples[0])}, test samples: {len(test_samples[0])}\")\n",
    "    return train_samples, val_samples, test_samples"
   ]
  },
  {
   "cell_type": "markdown",
   "metadata": {},
   "source": [
    "## Let's set size of the input window width to 6 since this was the best performing size for the univariate model"
   ]
  },
  {
   "cell_type": "code",
   "execution_count": 32,
   "metadata": {},
   "outputs": [
    {
     "name": "stdout",
     "output_type": "stream",
     "text": [
      "Number of training samples: 91, validation samples: 19, test samples: 19\n"
     ]
    }
   ],
   "source": [
    "input_window_size = 6\n",
    "output_window_size = 1\n",
    "\n",
    "train_samples, val_samples, test_samples = create_samples(passenger_number_normalized, all_features_normalized, input_window_size, output_window_size)"
   ]
  },
  {
   "cell_type": "code",
   "execution_count": 33,
   "metadata": {},
   "outputs": [
    {
     "data": {
      "text/plain": [
       "(array([[[0.09090909, 0.02588997],\n",
       "         [0.18181818, 0.04530744],\n",
       "         [0.27272727, 0.09061489],\n",
       "         [0.36363636, 0.08090615],\n",
       "         [0.45454545, 0.05501618],\n",
       "         [0.54545455, 0.10032362]],\n",
       " \n",
       "        [[0.18181818, 0.04530744],\n",
       "         [0.27272727, 0.09061489],\n",
       "         [0.36363636, 0.08090615],\n",
       "         [0.45454545, 0.05501618],\n",
       "         [0.54545455, 0.10032362],\n",
       "         [0.63636364, 0.14239482]],\n",
       " \n",
       "        [[0.27272727, 0.09061489],\n",
       "         [0.36363636, 0.08090615],\n",
       "         [0.45454545, 0.05501618],\n",
       "         [0.54545455, 0.10032362],\n",
       "         [0.63636364, 0.14239482],\n",
       "         [0.72727273, 0.14239482]],\n",
       " \n",
       "        ...,\n",
       " \n",
       "        [[0.45454545, 0.69255663],\n",
       "         [0.54545455, 0.87378641],\n",
       "         [0.63636364, 1.        ],\n",
       "         [0.72727273, 0.97411003],\n",
       "         [0.81818182, 0.81229773],\n",
       "         [0.90909091, 0.65372168]],\n",
       " \n",
       "        [[0.54545455, 0.87378641],\n",
       "         [0.63636364, 1.        ],\n",
       "         [0.72727273, 0.97411003],\n",
       "         [0.81818182, 0.81229773],\n",
       "         [0.90909091, 0.65372168],\n",
       "         [1.        , 0.54045307]],\n",
       " \n",
       "        [[0.63636364, 1.        ],\n",
       "         [0.72727273, 0.97411003],\n",
       "         [0.81818182, 0.81229773],\n",
       "         [0.90909091, 0.65372168],\n",
       "         [1.        , 0.54045307],\n",
       "         [0.        , 0.65372168]]]),\n",
       " array([[0.14239482],\n",
       "        [0.14239482],\n",
       "        [0.10355987],\n",
       "        [0.04854369],\n",
       "        [0.        ],\n",
       "        [0.04530744],\n",
       "        [0.03559871],\n",
       "        [0.07119741],\n",
       "        [0.1197411 ],\n",
       "        [0.10032362],\n",
       "        [0.06796117],\n",
       "        [0.14563107],\n",
       "        [0.21359223],\n",
       "        [0.21359223],\n",
       "        [0.17475728],\n",
       "        [0.09385113],\n",
       "        [0.03236246],\n",
       "        [0.11650485],\n",
       "        [0.13268608],\n",
       "        [0.14886731],\n",
       "        [0.2394822 ],\n",
       "        [0.19093851],\n",
       "        [0.22006472],\n",
       "        [0.2394822 ],\n",
       "        [0.30744337],\n",
       "        [0.30744337],\n",
       "        [0.25889968],\n",
       "        [0.18770227],\n",
       "        [0.13592233],\n",
       "        [0.20064725],\n",
       "        [0.21682848],\n",
       "        [0.24595469],\n",
       "        [0.28802589],\n",
       "        [0.24919094],\n",
       "        [0.25566343],\n",
       "        [0.36893204],\n",
       "        [0.40776699],\n",
       "        [0.44660194],\n",
       "        [0.33980583],\n",
       "        [0.2815534 ],\n",
       "        [0.22006472],\n",
       "        [0.29126214],\n",
       "        [0.29773463],\n",
       "        [0.29773463],\n",
       "        [0.42718447],\n",
       "        [0.42394822],\n",
       "        [0.40453074],\n",
       "        [0.44983819],\n",
       "        [0.51779935],\n",
       "        [0.54368932],\n",
       "        [0.43042071],\n",
       "        [0.34627832],\n",
       "        [0.24595469],\n",
       "        [0.31391586],\n",
       "        [0.3236246 ],\n",
       "        [0.27184466],\n",
       "        [0.42394822],\n",
       "        [0.39805825],\n",
       "        [0.42071197],\n",
       "        [0.51779935],\n",
       "        [0.6407767 ],\n",
       "        [0.61165049],\n",
       "        [0.50161812],\n",
       "        [0.40453074],\n",
       "        [0.32038835],\n",
       "        [0.40453074],\n",
       "        [0.44660194],\n",
       "        [0.41747573],\n",
       "        [0.52750809],\n",
       "        [0.53398058],\n",
       "        [0.53721683],\n",
       "        [0.6828479 ],\n",
       "        [0.84142395],\n",
       "        [0.78640777],\n",
       "        [0.67313916],\n",
       "        [0.55016181],\n",
       "        [0.43042071],\n",
       "        [0.5631068 ],\n",
       "        [0.58252427],\n",
       "        [0.55987055],\n",
       "        [0.68932039],\n",
       "        [0.6763754 ],\n",
       "        [0.69255663],\n",
       "        [0.87378641],\n",
       "        [1.        ],\n",
       "        [0.97411003],\n",
       "        [0.81229773],\n",
       "        [0.65372168],\n",
       "        [0.54045307],\n",
       "        [0.65372168],\n",
       "        [0.6828479 ]]))"
      ]
     },
     "execution_count": 33,
     "metadata": {},
     "output_type": "execute_result"
    }
   ],
   "source": [
    "train_samples"
   ]
  },
  {
   "cell_type": "code",
   "execution_count": null,
   "metadata": {},
   "outputs": [],
   "source": []
  }
 ],
 "metadata": {
  "kernelspec": {
   "display_name": "Python 3",
   "language": "python",
   "name": "python3"
  },
  "language_info": {
   "codemirror_mode": {
    "name": "ipython",
    "version": 3
   },
   "file_extension": ".py",
   "mimetype": "text/x-python",
   "name": "python",
   "nbconvert_exporter": "python",
   "pygments_lexer": "ipython3",
   "version": "3.6.10"
  }
 },
 "nbformat": 4,
 "nbformat_minor": 4
}
